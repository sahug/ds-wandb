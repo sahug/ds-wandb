{
  "nbformat": 4,
  "nbformat_minor": 0,
  "metadata": {
    "colab": {
      "name": "WANDB - Session 6 - Hyperparameter Sweeps in PyTorch with WANDB.ipynb",
      "provenance": [],
      "authorship_tag": "ABX9TyP0uLdqVPKyihmYF5mGou/X",
      "include_colab_link": true
    },
    "kernelspec": {
      "name": "python3",
      "display_name": "Python 3"
    },
    "language_info": {
      "name": "python"
    },
    "widgets": {
      "application/vnd.jupyter.widget-state+json": {
        "e0d052d668de48559b1d9925f6b3f98c": {
          "model_module": "@jupyter-widgets/controls",
          "model_name": "VBoxModel",
          "model_module_version": "1.5.0",
          "state": {
            "_dom_classes": [],
            "_model_module": "@jupyter-widgets/controls",
            "_model_module_version": "1.5.0",
            "_model_name": "VBoxModel",
            "_view_count": null,
            "_view_module": "@jupyter-widgets/controls",
            "_view_module_version": "1.5.0",
            "_view_name": "VBoxView",
            "box_style": "",
            "children": [
              "IPY_MODEL_4dcdc80a8d024e63a7d947932bb1426b",
              "IPY_MODEL_1d7bb1f974e843809d8d1795d728c777"
            ],
            "layout": "IPY_MODEL_9002a7b95db0447b9c5022056971dd78"
          }
        },
        "4dcdc80a8d024e63a7d947932bb1426b": {
          "model_module": "@jupyter-widgets/controls",
          "model_name": "LabelModel",
          "model_module_version": "1.5.0",
          "state": {
            "_dom_classes": [],
            "_model_module": "@jupyter-widgets/controls",
            "_model_module_version": "1.5.0",
            "_model_name": "LabelModel",
            "_view_count": null,
            "_view_module": "@jupyter-widgets/controls",
            "_view_module_version": "1.5.0",
            "_view_name": "LabelView",
            "description": "",
            "description_tooltip": null,
            "layout": "IPY_MODEL_dcc660c3887a4f7eb08f72683d6170a0",
            "placeholder": "​",
            "style": "IPY_MODEL_866739f7ab7c4cab971bc91c1ebe9c6f",
            "value": "0.008 MB of 0.008 MB uploaded (0.000 MB deduped)\r"
          }
        },
        "1d7bb1f974e843809d8d1795d728c777": {
          "model_module": "@jupyter-widgets/controls",
          "model_name": "FloatProgressModel",
          "model_module_version": "1.5.0",
          "state": {
            "_dom_classes": [],
            "_model_module": "@jupyter-widgets/controls",
            "_model_module_version": "1.5.0",
            "_model_name": "FloatProgressModel",
            "_view_count": null,
            "_view_module": "@jupyter-widgets/controls",
            "_view_module_version": "1.5.0",
            "_view_name": "ProgressView",
            "bar_style": "",
            "description": "",
            "description_tooltip": null,
            "layout": "IPY_MODEL_e63da9f365f848a29f555629587b015b",
            "max": 1,
            "min": 0,
            "orientation": "horizontal",
            "style": "IPY_MODEL_72294c63e54b4ae2a44174bd3f2956d9",
            "value": 1
          }
        },
        "9002a7b95db0447b9c5022056971dd78": {
          "model_module": "@jupyter-widgets/base",
          "model_name": "LayoutModel",
          "model_module_version": "1.2.0",
          "state": {
            "_model_module": "@jupyter-widgets/base",
            "_model_module_version": "1.2.0",
            "_model_name": "LayoutModel",
            "_view_count": null,
            "_view_module": "@jupyter-widgets/base",
            "_view_module_version": "1.2.0",
            "_view_name": "LayoutView",
            "align_content": null,
            "align_items": null,
            "align_self": null,
            "border": null,
            "bottom": null,
            "display": null,
            "flex": null,
            "flex_flow": null,
            "grid_area": null,
            "grid_auto_columns": null,
            "grid_auto_flow": null,
            "grid_auto_rows": null,
            "grid_column": null,
            "grid_gap": null,
            "grid_row": null,
            "grid_template_areas": null,
            "grid_template_columns": null,
            "grid_template_rows": null,
            "height": null,
            "justify_content": null,
            "justify_items": null,
            "left": null,
            "margin": null,
            "max_height": null,
            "max_width": null,
            "min_height": null,
            "min_width": null,
            "object_fit": null,
            "object_position": null,
            "order": null,
            "overflow": null,
            "overflow_x": null,
            "overflow_y": null,
            "padding": null,
            "right": null,
            "top": null,
            "visibility": null,
            "width": null
          }
        },
        "dcc660c3887a4f7eb08f72683d6170a0": {
          "model_module": "@jupyter-widgets/base",
          "model_name": "LayoutModel",
          "model_module_version": "1.2.0",
          "state": {
            "_model_module": "@jupyter-widgets/base",
            "_model_module_version": "1.2.0",
            "_model_name": "LayoutModel",
            "_view_count": null,
            "_view_module": "@jupyter-widgets/base",
            "_view_module_version": "1.2.0",
            "_view_name": "LayoutView",
            "align_content": null,
            "align_items": null,
            "align_self": null,
            "border": null,
            "bottom": null,
            "display": null,
            "flex": null,
            "flex_flow": null,
            "grid_area": null,
            "grid_auto_columns": null,
            "grid_auto_flow": null,
            "grid_auto_rows": null,
            "grid_column": null,
            "grid_gap": null,
            "grid_row": null,
            "grid_template_areas": null,
            "grid_template_columns": null,
            "grid_template_rows": null,
            "height": null,
            "justify_content": null,
            "justify_items": null,
            "left": null,
            "margin": null,
            "max_height": null,
            "max_width": null,
            "min_height": null,
            "min_width": null,
            "object_fit": null,
            "object_position": null,
            "order": null,
            "overflow": null,
            "overflow_x": null,
            "overflow_y": null,
            "padding": null,
            "right": null,
            "top": null,
            "visibility": null,
            "width": null
          }
        },
        "866739f7ab7c4cab971bc91c1ebe9c6f": {
          "model_module": "@jupyter-widgets/controls",
          "model_name": "DescriptionStyleModel",
          "model_module_version": "1.5.0",
          "state": {
            "_model_module": "@jupyter-widgets/controls",
            "_model_module_version": "1.5.0",
            "_model_name": "DescriptionStyleModel",
            "_view_count": null,
            "_view_module": "@jupyter-widgets/base",
            "_view_module_version": "1.2.0",
            "_view_name": "StyleView",
            "description_width": ""
          }
        },
        "e63da9f365f848a29f555629587b015b": {
          "model_module": "@jupyter-widgets/base",
          "model_name": "LayoutModel",
          "model_module_version": "1.2.0",
          "state": {
            "_model_module": "@jupyter-widgets/base",
            "_model_module_version": "1.2.0",
            "_model_name": "LayoutModel",
            "_view_count": null,
            "_view_module": "@jupyter-widgets/base",
            "_view_module_version": "1.2.0",
            "_view_name": "LayoutView",
            "align_content": null,
            "align_items": null,
            "align_self": null,
            "border": null,
            "bottom": null,
            "display": null,
            "flex": null,
            "flex_flow": null,
            "grid_area": null,
            "grid_auto_columns": null,
            "grid_auto_flow": null,
            "grid_auto_rows": null,
            "grid_column": null,
            "grid_gap": null,
            "grid_row": null,
            "grid_template_areas": null,
            "grid_template_columns": null,
            "grid_template_rows": null,
            "height": null,
            "justify_content": null,
            "justify_items": null,
            "left": null,
            "margin": null,
            "max_height": null,
            "max_width": null,
            "min_height": null,
            "min_width": null,
            "object_fit": null,
            "object_position": null,
            "order": null,
            "overflow": null,
            "overflow_x": null,
            "overflow_y": null,
            "padding": null,
            "right": null,
            "top": null,
            "visibility": null,
            "width": null
          }
        },
        "72294c63e54b4ae2a44174bd3f2956d9": {
          "model_module": "@jupyter-widgets/controls",
          "model_name": "ProgressStyleModel",
          "model_module_version": "1.5.0",
          "state": {
            "_model_module": "@jupyter-widgets/controls",
            "_model_module_version": "1.5.0",
            "_model_name": "ProgressStyleModel",
            "_view_count": null,
            "_view_module": "@jupyter-widgets/base",
            "_view_module_version": "1.2.0",
            "_view_name": "StyleView",
            "bar_color": null,
            "description_width": ""
          }
        },
        "9ce9b8a5580c44f28b0a1278f67dbe3c": {
          "model_module": "@jupyter-widgets/controls",
          "model_name": "VBoxModel",
          "model_module_version": "1.5.0",
          "state": {
            "_dom_classes": [],
            "_model_module": "@jupyter-widgets/controls",
            "_model_module_version": "1.5.0",
            "_model_name": "VBoxModel",
            "_view_count": null,
            "_view_module": "@jupyter-widgets/controls",
            "_view_module_version": "1.5.0",
            "_view_name": "VBoxView",
            "box_style": "",
            "children": [
              "IPY_MODEL_9bb47f8365b84431ad5fc81aca0ad892",
              "IPY_MODEL_7dc0a97f6ed44eeca19f8f0aef0eb53e"
            ],
            "layout": "IPY_MODEL_6b9c4840b09240f89dc01649c57d5bfe"
          }
        },
        "9bb47f8365b84431ad5fc81aca0ad892": {
          "model_module": "@jupyter-widgets/controls",
          "model_name": "LabelModel",
          "model_module_version": "1.5.0",
          "state": {
            "_dom_classes": [],
            "_model_module": "@jupyter-widgets/controls",
            "_model_module_version": "1.5.0",
            "_model_name": "LabelModel",
            "_view_count": null,
            "_view_module": "@jupyter-widgets/controls",
            "_view_module_version": "1.5.0",
            "_view_name": "LabelView",
            "description": "",
            "description_tooltip": null,
            "layout": "IPY_MODEL_0e63c8fb3dcd4931a942cf5024e8b14c",
            "placeholder": "​",
            "style": "IPY_MODEL_25e6ef34bdd749649144bac4f79ff69a",
            "value": "0.008 MB of 0.008 MB uploaded (0.000 MB deduped)\r"
          }
        },
        "7dc0a97f6ed44eeca19f8f0aef0eb53e": {
          "model_module": "@jupyter-widgets/controls",
          "model_name": "FloatProgressModel",
          "model_module_version": "1.5.0",
          "state": {
            "_dom_classes": [],
            "_model_module": "@jupyter-widgets/controls",
            "_model_module_version": "1.5.0",
            "_model_name": "FloatProgressModel",
            "_view_count": null,
            "_view_module": "@jupyter-widgets/controls",
            "_view_module_version": "1.5.0",
            "_view_name": "ProgressView",
            "bar_style": "",
            "description": "",
            "description_tooltip": null,
            "layout": "IPY_MODEL_028c582e4e6a4e889519b553a755d20b",
            "max": 1,
            "min": 0,
            "orientation": "horizontal",
            "style": "IPY_MODEL_5c0aa20314fc48a49a891baa0a3e6020",
            "value": 1
          }
        },
        "6b9c4840b09240f89dc01649c57d5bfe": {
          "model_module": "@jupyter-widgets/base",
          "model_name": "LayoutModel",
          "model_module_version": "1.2.0",
          "state": {
            "_model_module": "@jupyter-widgets/base",
            "_model_module_version": "1.2.0",
            "_model_name": "LayoutModel",
            "_view_count": null,
            "_view_module": "@jupyter-widgets/base",
            "_view_module_version": "1.2.0",
            "_view_name": "LayoutView",
            "align_content": null,
            "align_items": null,
            "align_self": null,
            "border": null,
            "bottom": null,
            "display": null,
            "flex": null,
            "flex_flow": null,
            "grid_area": null,
            "grid_auto_columns": null,
            "grid_auto_flow": null,
            "grid_auto_rows": null,
            "grid_column": null,
            "grid_gap": null,
            "grid_row": null,
            "grid_template_areas": null,
            "grid_template_columns": null,
            "grid_template_rows": null,
            "height": null,
            "justify_content": null,
            "justify_items": null,
            "left": null,
            "margin": null,
            "max_height": null,
            "max_width": null,
            "min_height": null,
            "min_width": null,
            "object_fit": null,
            "object_position": null,
            "order": null,
            "overflow": null,
            "overflow_x": null,
            "overflow_y": null,
            "padding": null,
            "right": null,
            "top": null,
            "visibility": null,
            "width": null
          }
        },
        "0e63c8fb3dcd4931a942cf5024e8b14c": {
          "model_module": "@jupyter-widgets/base",
          "model_name": "LayoutModel",
          "model_module_version": "1.2.0",
          "state": {
            "_model_module": "@jupyter-widgets/base",
            "_model_module_version": "1.2.0",
            "_model_name": "LayoutModel",
            "_view_count": null,
            "_view_module": "@jupyter-widgets/base",
            "_view_module_version": "1.2.0",
            "_view_name": "LayoutView",
            "align_content": null,
            "align_items": null,
            "align_self": null,
            "border": null,
            "bottom": null,
            "display": null,
            "flex": null,
            "flex_flow": null,
            "grid_area": null,
            "grid_auto_columns": null,
            "grid_auto_flow": null,
            "grid_auto_rows": null,
            "grid_column": null,
            "grid_gap": null,
            "grid_row": null,
            "grid_template_areas": null,
            "grid_template_columns": null,
            "grid_template_rows": null,
            "height": null,
            "justify_content": null,
            "justify_items": null,
            "left": null,
            "margin": null,
            "max_height": null,
            "max_width": null,
            "min_height": null,
            "min_width": null,
            "object_fit": null,
            "object_position": null,
            "order": null,
            "overflow": null,
            "overflow_x": null,
            "overflow_y": null,
            "padding": null,
            "right": null,
            "top": null,
            "visibility": null,
            "width": null
          }
        },
        "25e6ef34bdd749649144bac4f79ff69a": {
          "model_module": "@jupyter-widgets/controls",
          "model_name": "DescriptionStyleModel",
          "model_module_version": "1.5.0",
          "state": {
            "_model_module": "@jupyter-widgets/controls",
            "_model_module_version": "1.5.0",
            "_model_name": "DescriptionStyleModel",
            "_view_count": null,
            "_view_module": "@jupyter-widgets/base",
            "_view_module_version": "1.2.0",
            "_view_name": "StyleView",
            "description_width": ""
          }
        },
        "028c582e4e6a4e889519b553a755d20b": {
          "model_module": "@jupyter-widgets/base",
          "model_name": "LayoutModel",
          "model_module_version": "1.2.0",
          "state": {
            "_model_module": "@jupyter-widgets/base",
            "_model_module_version": "1.2.0",
            "_model_name": "LayoutModel",
            "_view_count": null,
            "_view_module": "@jupyter-widgets/base",
            "_view_module_version": "1.2.0",
            "_view_name": "LayoutView",
            "align_content": null,
            "align_items": null,
            "align_self": null,
            "border": null,
            "bottom": null,
            "display": null,
            "flex": null,
            "flex_flow": null,
            "grid_area": null,
            "grid_auto_columns": null,
            "grid_auto_flow": null,
            "grid_auto_rows": null,
            "grid_column": null,
            "grid_gap": null,
            "grid_row": null,
            "grid_template_areas": null,
            "grid_template_columns": null,
            "grid_template_rows": null,
            "height": null,
            "justify_content": null,
            "justify_items": null,
            "left": null,
            "margin": null,
            "max_height": null,
            "max_width": null,
            "min_height": null,
            "min_width": null,
            "object_fit": null,
            "object_position": null,
            "order": null,
            "overflow": null,
            "overflow_x": null,
            "overflow_y": null,
            "padding": null,
            "right": null,
            "top": null,
            "visibility": null,
            "width": null
          }
        },
        "5c0aa20314fc48a49a891baa0a3e6020": {
          "model_module": "@jupyter-widgets/controls",
          "model_name": "ProgressStyleModel",
          "model_module_version": "1.5.0",
          "state": {
            "_model_module": "@jupyter-widgets/controls",
            "_model_module_version": "1.5.0",
            "_model_name": "ProgressStyleModel",
            "_view_count": null,
            "_view_module": "@jupyter-widgets/base",
            "_view_module_version": "1.2.0",
            "_view_name": "StyleView",
            "bar_color": null,
            "description_width": ""
          }
        },
        "0f2293978964427caf1aa5f18831210d": {
          "model_module": "@jupyter-widgets/controls",
          "model_name": "VBoxModel",
          "model_module_version": "1.5.0",
          "state": {
            "_dom_classes": [],
            "_model_module": "@jupyter-widgets/controls",
            "_model_module_version": "1.5.0",
            "_model_name": "VBoxModel",
            "_view_count": null,
            "_view_module": "@jupyter-widgets/controls",
            "_view_module_version": "1.5.0",
            "_view_name": "VBoxView",
            "box_style": "",
            "children": [
              "IPY_MODEL_c021c0ad91d54ad2a6481a64a6de23bc",
              "IPY_MODEL_70ff096f4337422b9f772fb6367fd6e9"
            ],
            "layout": "IPY_MODEL_a6b4158c2100431ca8aa4bfd491b95b5"
          }
        },
        "c021c0ad91d54ad2a6481a64a6de23bc": {
          "model_module": "@jupyter-widgets/controls",
          "model_name": "LabelModel",
          "model_module_version": "1.5.0",
          "state": {
            "_dom_classes": [],
            "_model_module": "@jupyter-widgets/controls",
            "_model_module_version": "1.5.0",
            "_model_name": "LabelModel",
            "_view_count": null,
            "_view_module": "@jupyter-widgets/controls",
            "_view_module_version": "1.5.0",
            "_view_name": "LabelView",
            "description": "",
            "description_tooltip": null,
            "layout": "IPY_MODEL_7beb99fa40744b1584d67e248a20bcb6",
            "placeholder": "​",
            "style": "IPY_MODEL_776abb70a14a4fcead29c62d9ad10b07",
            "value": "0.008 MB of 0.008 MB uploaded (0.000 MB deduped)\r"
          }
        },
        "70ff096f4337422b9f772fb6367fd6e9": {
          "model_module": "@jupyter-widgets/controls",
          "model_name": "FloatProgressModel",
          "model_module_version": "1.5.0",
          "state": {
            "_dom_classes": [],
            "_model_module": "@jupyter-widgets/controls",
            "_model_module_version": "1.5.0",
            "_model_name": "FloatProgressModel",
            "_view_count": null,
            "_view_module": "@jupyter-widgets/controls",
            "_view_module_version": "1.5.0",
            "_view_name": "ProgressView",
            "bar_style": "",
            "description": "",
            "description_tooltip": null,
            "layout": "IPY_MODEL_685eba2f55f04646b921ec6132a2fc7c",
            "max": 1,
            "min": 0,
            "orientation": "horizontal",
            "style": "IPY_MODEL_32a7dac7c614443588cba442f0f64db0",
            "value": 1
          }
        },
        "a6b4158c2100431ca8aa4bfd491b95b5": {
          "model_module": "@jupyter-widgets/base",
          "model_name": "LayoutModel",
          "model_module_version": "1.2.0",
          "state": {
            "_model_module": "@jupyter-widgets/base",
            "_model_module_version": "1.2.0",
            "_model_name": "LayoutModel",
            "_view_count": null,
            "_view_module": "@jupyter-widgets/base",
            "_view_module_version": "1.2.0",
            "_view_name": "LayoutView",
            "align_content": null,
            "align_items": null,
            "align_self": null,
            "border": null,
            "bottom": null,
            "display": null,
            "flex": null,
            "flex_flow": null,
            "grid_area": null,
            "grid_auto_columns": null,
            "grid_auto_flow": null,
            "grid_auto_rows": null,
            "grid_column": null,
            "grid_gap": null,
            "grid_row": null,
            "grid_template_areas": null,
            "grid_template_columns": null,
            "grid_template_rows": null,
            "height": null,
            "justify_content": null,
            "justify_items": null,
            "left": null,
            "margin": null,
            "max_height": null,
            "max_width": null,
            "min_height": null,
            "min_width": null,
            "object_fit": null,
            "object_position": null,
            "order": null,
            "overflow": null,
            "overflow_x": null,
            "overflow_y": null,
            "padding": null,
            "right": null,
            "top": null,
            "visibility": null,
            "width": null
          }
        },
        "7beb99fa40744b1584d67e248a20bcb6": {
          "model_module": "@jupyter-widgets/base",
          "model_name": "LayoutModel",
          "model_module_version": "1.2.0",
          "state": {
            "_model_module": "@jupyter-widgets/base",
            "_model_module_version": "1.2.0",
            "_model_name": "LayoutModel",
            "_view_count": null,
            "_view_module": "@jupyter-widgets/base",
            "_view_module_version": "1.2.0",
            "_view_name": "LayoutView",
            "align_content": null,
            "align_items": null,
            "align_self": null,
            "border": null,
            "bottom": null,
            "display": null,
            "flex": null,
            "flex_flow": null,
            "grid_area": null,
            "grid_auto_columns": null,
            "grid_auto_flow": null,
            "grid_auto_rows": null,
            "grid_column": null,
            "grid_gap": null,
            "grid_row": null,
            "grid_template_areas": null,
            "grid_template_columns": null,
            "grid_template_rows": null,
            "height": null,
            "justify_content": null,
            "justify_items": null,
            "left": null,
            "margin": null,
            "max_height": null,
            "max_width": null,
            "min_height": null,
            "min_width": null,
            "object_fit": null,
            "object_position": null,
            "order": null,
            "overflow": null,
            "overflow_x": null,
            "overflow_y": null,
            "padding": null,
            "right": null,
            "top": null,
            "visibility": null,
            "width": null
          }
        },
        "776abb70a14a4fcead29c62d9ad10b07": {
          "model_module": "@jupyter-widgets/controls",
          "model_name": "DescriptionStyleModel",
          "model_module_version": "1.5.0",
          "state": {
            "_model_module": "@jupyter-widgets/controls",
            "_model_module_version": "1.5.0",
            "_model_name": "DescriptionStyleModel",
            "_view_count": null,
            "_view_module": "@jupyter-widgets/base",
            "_view_module_version": "1.2.0",
            "_view_name": "StyleView",
            "description_width": ""
          }
        },
        "685eba2f55f04646b921ec6132a2fc7c": {
          "model_module": "@jupyter-widgets/base",
          "model_name": "LayoutModel",
          "model_module_version": "1.2.0",
          "state": {
            "_model_module": "@jupyter-widgets/base",
            "_model_module_version": "1.2.0",
            "_model_name": "LayoutModel",
            "_view_count": null,
            "_view_module": "@jupyter-widgets/base",
            "_view_module_version": "1.2.0",
            "_view_name": "LayoutView",
            "align_content": null,
            "align_items": null,
            "align_self": null,
            "border": null,
            "bottom": null,
            "display": null,
            "flex": null,
            "flex_flow": null,
            "grid_area": null,
            "grid_auto_columns": null,
            "grid_auto_flow": null,
            "grid_auto_rows": null,
            "grid_column": null,
            "grid_gap": null,
            "grid_row": null,
            "grid_template_areas": null,
            "grid_template_columns": null,
            "grid_template_rows": null,
            "height": null,
            "justify_content": null,
            "justify_items": null,
            "left": null,
            "margin": null,
            "max_height": null,
            "max_width": null,
            "min_height": null,
            "min_width": null,
            "object_fit": null,
            "object_position": null,
            "order": null,
            "overflow": null,
            "overflow_x": null,
            "overflow_y": null,
            "padding": null,
            "right": null,
            "top": null,
            "visibility": null,
            "width": null
          }
        },
        "32a7dac7c614443588cba442f0f64db0": {
          "model_module": "@jupyter-widgets/controls",
          "model_name": "ProgressStyleModel",
          "model_module_version": "1.5.0",
          "state": {
            "_model_module": "@jupyter-widgets/controls",
            "_model_module_version": "1.5.0",
            "_model_name": "ProgressStyleModel",
            "_view_count": null,
            "_view_module": "@jupyter-widgets/base",
            "_view_module_version": "1.2.0",
            "_view_name": "StyleView",
            "bar_color": null,
            "description_width": ""
          }
        }
      }
    }
  },
  "cells": [
    {
      "cell_type": "markdown",
      "metadata": {
        "id": "view-in-github",
        "colab_type": "text"
      },
      "source": [
        "<a href=\"https://colab.research.google.com/github/sahug/ds-wandb/blob/main/WANDB%20-%20Session%206%20-%20Hyperparameter%20Sweeps%20in%20PyTorch%20with%20WANDB.ipynb\" target=\"_parent\"><img src=\"https://colab.research.google.com/assets/colab-badge.svg\" alt=\"Open In Colab\"/></a>"
      ]
    },
    {
      "cell_type": "markdown",
      "source": [
        "**WANDB - Session 6 - Hyperparameter Sweeps in PyTorch with WANDB**"
      ],
      "metadata": {
        "id": "U5oc4q42S_V6"
      }
    },
    {
      "cell_type": "markdown",
      "source": [
        "**Introduction to Hyperparameter Sweeps using W&B**\n",
        "\n",
        "Searching through high dimensional hyperparameter spaces to find the most performant model can get unwieldy very fast. Hyperparameter sweeps provide an organized and efficient way to conduct a battle royale of models and pick the most accurate model. They enable this by automatically searching through combinations of hyperparameter values (e.g. learning rate, batch size, number of hidden layers, optimizer type) to find the most optimal values.\n",
        "\n",
        "In this tutorial we'll see how you can run sophisticated hyperparameter sweeps in 3 easy steps using Weights and Biases.\n",
        "\n",
        "**Sweeps: An Overview**\n",
        "\n",
        "Running a hyperparameter sweep with Weights & Biases is very easy. There are just 3 simple steps:\n",
        "\n",
        "1. **Define the sweep**: we do this by creating a dictionary or a YAML file that specifies the parameters to search through, the search strategy, the optimization metric et all.\n",
        "\n",
        "2. **Initialize the sweep**: with one line of code we initialize the sweep and pass in the dictionary of sweep configurations: sweep_id = wandb.sweep(sweep_config)\n",
        "\n",
        "3. **Run the sweep agent**: also accomplished with one line of code, we call wandb.agent() and pass the sweep_id to run, along with a function that defines your model architecture and trains it: wandb.agent(sweep_id, function=train)\n",
        "\n",
        "And voila! That's all there is to running a hyperparameter sweep! In the notebook below, we'll walk through these 3 steps in more detail.\n",
        "\n",
        "We highly encourage you to fork this notebook so you can tweak the parameters, try out different models, or try a Sweep with your own dataset!"
      ],
      "metadata": {
        "id": "l8HUL0mLTE2p"
      }
    },
    {
      "cell_type": "markdown",
      "source": [
        "**Setup**\n",
        "\n",
        "Start out by installing the experiment tracking library and setting up your free W&B account:\n",
        "\n",
        "1. Install with !pip install\n",
        "2. `import` the library into Python\n",
        "3. `.login()` so you can log metrics to your projects\n",
        "\n",
        "If you've never used Weights & Biases before, the call to login will give you a link to sign up for an account. W&B is free to use for personal and academic projects!"
      ],
      "metadata": {
        "id": "G1E_jUMwTbXj"
      }
    },
    {
      "cell_type": "code",
      "source": [
        "%%capture\n",
        "!pip install wandb --upgrade\n",
        "\n",
        "# workaround to fetch MNIST data\n",
        "!wget www.di.ens.fr/~lelarge/MNIST.tar.gz\n",
        "!tar -zxvf MNIST.tar.gz"
      ],
      "metadata": {
        "id": "P8cB7-R1TmB2"
      },
      "execution_count": 1,
      "outputs": []
    },
    {
      "cell_type": "markdown",
      "source": [
        "**Define the Sweep**\n",
        "\n",
        "Fundamentally, a Sweep combines a strategy for trying out a bunch of hyperparameter values with the code that evalutes them. Whether that strategy is as simple as trying every option or as complex as BOHB, Weights & Biases Sweeps have you covered. You just need to define your strategy in the form of a configuration.\n",
        "\n",
        "When you're setting up a Sweep in a notebook like this, that config object is a nested dictionary. When you run a Sweep via the command line, the config object is a YAML file.\n",
        "\n",
        "Let's walk through the definition of a Sweep config together. We'll do it slowly, so we get a chance to explain each component. In a typical Sweep pipeline, this step would be done in a single assignment."
      ],
      "metadata": {
        "id": "EnYdZNGBTn9V"
      }
    },
    {
      "cell_type": "markdown",
      "source": [
        "**Pick a `method`**\n",
        "\n",
        "The first thing we need to define is the method for choosing new parameter values.\n",
        "\n",
        "We provide the following search methods:\n",
        "\n",
        "- **`grid` Search** – Iterate over every combination of hyperparameter values. Very effective, but can be computationally costly.\n",
        "- **`random` Search** – Select each new combination at random according to provided distributions. Surprisingly effective!\n",
        "- **`bayesian` Search** – Create a probabilistic model of metric score as a function of the hyperparameters, and choose parameters with high probability of improving the metric. Works well for small numbers of continuous parameters but scales poorly.\n",
        "\n",
        "We'll stick with random."
      ],
      "metadata": {
        "id": "cbJzcnYnTrD3"
      }
    },
    {
      "cell_type": "code",
      "execution_count": 2,
      "metadata": {
        "id": "819ptw7OS143"
      },
      "outputs": [],
      "source": [
        "sweep_config = {\n",
        "    'method': 'random'\n",
        "    }"
      ]
    },
    {
      "cell_type": "markdown",
      "source": [
        "For `bayesian` Sweeps, you also need to tell us a bit about your metric. We need to know its name, so we can find it in the model outputs and we need to know whether your goal is to minimize it (e.g. if it's the squared error) or to maximize it (e.g. if it's the accuracy)."
      ],
      "metadata": {
        "id": "YfxzuNi4T7G_"
      }
    },
    {
      "cell_type": "code",
      "source": [
        "metric = {\n",
        "    'name': 'loss',\n",
        "    'goal': 'minimize'   \n",
        "    }\n",
        "\n",
        "sweep_config['metric'] = metric"
      ],
      "metadata": {
        "id": "jO_oO_3-T8_c"
      },
      "execution_count": null,
      "outputs": []
    },
    {
      "cell_type": "markdown",
      "source": [
        "If you're not running a bayesian Sweep, you don't have to, but it's not a bad idea to include this in your `sweep_config` anyway, in case you change your mind later. It's also good reproducibility practice to keep note of things like this, in case you, or someone else, come back to your Sweep in 6 months or 6 years and don't know whether `val_G_batch` is supposed to be high or low."
      ],
      "metadata": {
        "id": "nP_yiQHyT-Lm"
      }
    },
    {
      "cell_type": "markdown",
      "source": [
        "**Name the `hyperparameters`**\n",
        "Once you've picked a method to try out new values of the hyperparameters, you need to define what those `parameters` are.\n",
        "\n",
        "Most of the time, this step is straightforward: you just give the `parameter` a name and specify a list of legal values of the parameter.\n",
        "\n",
        "For example, when we choose the `optimizer` for our network, there's only a finite number of options. Here we stick with the two most popular choices, `adam` and `sgd`. Even for hyperparameters that have potentially infinite options, it usually only makes sense to try out a few select values, as we do here with the hidden `layer_size` and dropout."
      ],
      "metadata": {
        "id": "Hbls_4YbUCiL"
      }
    },
    {
      "cell_type": "code",
      "source": [
        "parameters_dict = {\n",
        "    'optimizer': {\n",
        "        'values': ['adam', 'sgd']\n",
        "        },\n",
        "    'fc_layer_size': {\n",
        "        'values': [128, 256, 512]\n",
        "        },\n",
        "    'dropout': {\n",
        "          'values': [0.3, 0.4, 0.5]\n",
        "        },\n",
        "    }\n",
        "\n",
        "sweep_config['parameters'] = parameters_dict"
      ],
      "metadata": {
        "id": "GJHguErFUO9r"
      },
      "execution_count": 3,
      "outputs": []
    },
    {
      "cell_type": "markdown",
      "source": [
        "It's often the case that there are hyperparameters that we don't want to vary in this Sweep, but which we still want to set in our sweep_config.\n",
        "\n",
        "In that case, we just set the value directly:"
      ],
      "metadata": {
        "id": "J2FI9KdoUQYQ"
      }
    },
    {
      "cell_type": "code",
      "source": [
        "parameters_dict.update({\n",
        "    'epochs': {\n",
        "        'value': 1}\n",
        "    })"
      ],
      "metadata": {
        "id": "E6IZtIqJURpJ"
      },
      "execution_count": null,
      "outputs": []
    },
    {
      "cell_type": "markdown",
      "source": [
        "For a grid search, that's all you ever need.\n",
        "\n",
        "For a random search, all the `values` of a parameter are equally likely to be chosen on a given run.\n",
        "\n",
        "If that just won't do, you can instead specify a named `distribution`, plus its parameters, like the mean `mu` and standard deviation `sigma` of a `normal` distribution.\n",
        "\n",
        "See more on how to set the distributions of your random variables here."
      ],
      "metadata": {
        "id": "DhGRXuCPUS8e"
      }
    },
    {
      "cell_type": "code",
      "source": [
        "import math\n",
        "\n",
        "parameters_dict.update({\n",
        "    'learning_rate': {\n",
        "        # a flat distribution between 0 and 0.1\n",
        "        'distribution': 'uniform',\n",
        "        'min': 0,\n",
        "        'max': 0.1\n",
        "      },\n",
        "    'batch_size': {\n",
        "        # integers between 32 and 256\n",
        "        # with evenly-distributed logarithms \n",
        "        'distribution': 'q_log_uniform',\n",
        "        'q': 1,\n",
        "        'min': math.log(32),\n",
        "        'max': math.log(256),\n",
        "      }\n",
        "    })"
      ],
      "metadata": {
        "id": "3FM1vRT6Ubhh"
      },
      "execution_count": 4,
      "outputs": []
    },
    {
      "cell_type": "markdown",
      "source": [
        "When we're finished, `sweep_config` is a nested dictionary that specifies exactly which `parameters` we're interested in trying and what `method` we're going to use to try them."
      ],
      "metadata": {
        "id": "IkWc1sIwUdGg"
      }
    },
    {
      "cell_type": "code",
      "source": [
        "import pprint\n",
        "\n",
        "pprint.pprint(sweep_config)"
      ],
      "metadata": {
        "colab": {
          "base_uri": "https://localhost:8080/"
        },
        "id": "Q1DrJ2oJUhUZ",
        "outputId": "e1ba310d-2b19-4b6d-9be3-60d542fc8f89"
      },
      "execution_count": 5,
      "outputs": [
        {
          "output_type": "stream",
          "name": "stdout",
          "text": [
            "{'method': 'random',\n",
            " 'parameters': {'batch_size': {'distribution': 'q_log_uniform',\n",
            "                               'max': 5.545177444479562,\n",
            "                               'min': 3.4657359027997265,\n",
            "                               'q': 1},\n",
            "                'dropout': {'values': [0.3, 0.4, 0.5]},\n",
            "                'fc_layer_size': {'values': [128, 256, 512]},\n",
            "                'learning_rate': {'distribution': 'uniform',\n",
            "                                  'max': 0.1,\n",
            "                                  'min': 0},\n",
            "                'optimizer': {'values': ['adam', 'sgd']}}}\n"
          ]
        }
      ]
    },
    {
      "cell_type": "markdown",
      "source": [
        "But that's not all of the configuration options!\n",
        "\n",
        "For example, we also offer the option to `early_terminate` your runs with the [HyperBand](https://arxiv.org/pdf/1603.06560.pdf) scheduling algorithm. See more [here](https://docs.wandb.com/sweeps/configuration#stopping-criteria).\n",
        "\n",
        "You can find a list of all configuration options [here](https://docs.wandb.com/library/sweeps/configuration)\n",
        "and a big collection of examples in YAML format [here](https://github.com/wandb/examples/tree/master/examples/keras/keras-cnn-fashion).\n",
        "\n"
      ],
      "metadata": {
        "id": "LpHUsDvzUloI"
      }
    },
    {
      "cell_type": "markdown",
      "source": [
        "**Initialize the Sweep**\n",
        "\n",
        "Once you've defined the search strategy, it's time to set up something to implement it.\n",
        "\n",
        "The clockwork taskmaster in charge of our Sweep is known as the _Sweep Controller_.\n",
        "As each run completes, it will issue a new set of instructions\n",
        "describing a new run to execute.\n",
        "These instructions are picked up by _agents_\n",
        "who actually perform the runs.\n",
        "\n",
        "In a typical Sweep, the Controller lives on _our_ machine,\n",
        "while the agents who complete runs live on _your_ machine(s),\n",
        "like in the diagram below.\n",
        "This division of labor makes it super easy to scale up Sweeps\n",
        "by just adding more machines to run agents!"
      ],
      "metadata": {
        "id": "cqUai6FjUoGs"
      }
    },
    {
      "cell_type": "markdown",
      "source": [
        "![image.png](data:image/png;base64,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)"
      ],
      "metadata": {
        "id": "WvnTSrYqUscr"
      }
    },
    {
      "cell_type": "markdown",
      "source": [
        "We can wind up a Sweep Controller by calling `wandb.sweep` with the appropriate `sweep_config` and `project` name.\n",
        "\n",
        "This function returns a `sweep_id` that we will later user to assign agents to this Controller.\n",
        "\n",
        "> _Side Note_: on the command line, this function is replaced with\n",
        "```\n",
        "wandb sweep config.yaml\n",
        "```"
      ],
      "metadata": {
        "id": "HTS4fIllUtMC"
      }
    },
    {
      "cell_type": "code",
      "source": [
        "import wandb\n",
        "sweep_id = wandb.sweep(sweep_config, project=\"pytorch-sweeps-demo\")"
      ],
      "metadata": {
        "colab": {
          "base_uri": "https://localhost:8080/",
          "height": 90
        },
        "id": "jWy8FpUKUkOe",
        "outputId": "c2daa0ef-df94-4754-e02a-ad394be3415a"
      },
      "execution_count": 7,
      "outputs": [
        {
          "output_type": "display_data",
          "data": {
            "text/plain": [
              "<IPython.core.display.Javascript object>"
            ],
            "application/javascript": [
              "\n",
              "        window._wandbApiKey = new Promise((resolve, reject) => {\n",
              "            function loadScript(url) {\n",
              "            return new Promise(function(resolve, reject) {\n",
              "                let newScript = document.createElement(\"script\");\n",
              "                newScript.onerror = reject;\n",
              "                newScript.onload = resolve;\n",
              "                document.body.appendChild(newScript);\n",
              "                newScript.src = url;\n",
              "            });\n",
              "            }\n",
              "            loadScript(\"https://cdn.jsdelivr.net/npm/postmate/build/postmate.min.js\").then(() => {\n",
              "            const iframe = document.createElement('iframe')\n",
              "            iframe.style.cssText = \"width:0;height:0;border:none\"\n",
              "            document.body.appendChild(iframe)\n",
              "            const handshake = new Postmate({\n",
              "                container: iframe,\n",
              "                url: 'https://wandb.ai/authorize'\n",
              "            });\n",
              "            const timeout = setTimeout(() => reject(\"Couldn't auto authenticate\"), 5000)\n",
              "            handshake.then(function(child) {\n",
              "                child.on('authorize', data => {\n",
              "                    clearTimeout(timeout)\n",
              "                    resolve(data)\n",
              "                });\n",
              "            });\n",
              "            })\n",
              "        });\n",
              "    "
            ]
          },
          "metadata": {}
        },
        {
          "output_type": "stream",
          "name": "stderr",
          "text": [
            "\u001b[34m\u001b[1mwandb\u001b[0m: Appending key for api.wandb.ai to your netrc file: /root/.netrc\n"
          ]
        },
        {
          "output_type": "stream",
          "name": "stdout",
          "text": [
            "Create sweep with ID: t45bpvn1\n",
            "Sweep URL: https://wandb.ai/sahug/pytorch-sweeps-demo/sweeps/t45bpvn1\n"
          ]
        }
      ]
    },
    {
      "cell_type": "markdown",
      "source": [
        "**Run the Sweep agent**\n",
        "\n",
        "**Define Your Training Procedure**\n",
        "\n",
        "Before we can actually execute the sweep,\n",
        "we need to define the training procedure that uses those values.\n",
        "\n",
        "In the functions below, we define a simple fully-connected neural network in PyTorch, and add the following `wandb` tools to log model metrics, visualize performance and output and track our experiments:\n",
        "* [**`wandb.init()`**](https://docs.wandb.com/library/init) – Initialize a new W&B Run. Each Run is a single execution of the training function.\n",
        "* [**`wandb.config`**](https://docs.wandb.com/library/config) – Save all your hyperparameters in a configuration object so they can be logged. Read more about how to use `wandb.config` [here](https://colab.research.google.com/github/wandb/examples/blob/master/colabs/wandb-config/Configs_in_W%26B.ipynb).\n",
        "* [**`wandb.log()`**](https://docs.wandb.com/library/log) – log model behavior to W&B. Here, we just log the performance; see [this Colab](https://colab.research.google.com/github/wandb/examples/blob/master/colabs/wandb-log/Log_(Almost)_Anything_with_W%26B_Media.ipynb) for all the other rich media that can be logged with `wandb.log`.\n",
        "\n",
        "For more details on instrumenting W&B with PyTorch, see [this Colab](https://colab.research.google.com/github/wandb/examples/blob/master/colabs/pytorch/Simple_PyTorch_Integration.ipynb)."
      ],
      "metadata": {
        "id": "l-09lPfOVC9n"
      }
    },
    {
      "cell_type": "code",
      "source": [
        "import torch\n",
        "import torch.optim as optim\n",
        "import torch.nn.functional as F\n",
        "import torch.nn as nn\n",
        "from torchvision import datasets, transforms\n",
        "\n",
        "device = torch.device(\"cuda\" if torch.cuda.is_available() else \"cpu\")\n",
        "\n",
        "def train(config=None):\n",
        "    # Initialize a new wandb run\n",
        "    with wandb.init(config=config):\n",
        "        # If called by wandb.agent, as below,\n",
        "        # this config will be set by Sweep Controller\n",
        "        config = wandb.config\n",
        "\n",
        "        loader = build_dataset(config.batch_size)\n",
        "        network = build_network(config.fc_layer_size, config.dropout)\n",
        "        optimizer = build_optimizer(network, config.optimizer, config.learning_rate)\n",
        "\n",
        "        for epoch in range(config.epochs):\n",
        "            avg_loss = train_epoch(network, loader, optimizer)\n",
        "            wandb.log({\"loss\": avg_loss, \"epoch\": epoch})  "
      ],
      "metadata": {
        "id": "NItCZ9pQYwcj"
      },
      "execution_count": 8,
      "outputs": []
    },
    {
      "cell_type": "markdown",
      "source": [
        "This cell defines the four pieces of our training procedure: `build_dataset`, `build_network`, `build_optimizer`, and `train_epoch`.\n",
        "\n",
        "All of these are a standard part of a basic PyTorch pipeline, and their implementation is unaffected by the use of W&B, so we won't comment on them."
      ],
      "metadata": {
        "id": "5CJ35qjhYyEQ"
      }
    },
    {
      "cell_type": "code",
      "source": [
        "def build_dataset(batch_size):\n",
        "   \n",
        "    transform = transforms.Compose(\n",
        "        [transforms.ToTensor(),\n",
        "         transforms.Normalize((0.1307,), (0.3081,))])\n",
        "    # download MNIST training dataset\n",
        "    dataset = datasets.MNIST(\".\", train=True, download=True,\n",
        "                             transform=transform)\n",
        "    sub_dataset = torch.utils.data.Subset(\n",
        "        dataset, indices=range(0, len(dataset), 5))\n",
        "    loader = torch.utils.data.DataLoader(sub_dataset, batch_size=batch_size)\n",
        "\n",
        "    return loader\n",
        "\n",
        "\n",
        "def build_network(fc_layer_size, dropout):\n",
        "    network = nn.Sequential(  # fully-connected, single hidden layer\n",
        "        nn.Flatten(),\n",
        "        nn.Linear(784, fc_layer_size), nn.ReLU(),\n",
        "        nn.Dropout(dropout),\n",
        "        nn.Linear(fc_layer_size, 10),\n",
        "        nn.LogSoftmax(dim=1))\n",
        "\n",
        "    return network.to(device)\n",
        "        \n",
        "\n",
        "def build_optimizer(network, optimizer, learning_rate):\n",
        "    if optimizer == \"sgd\":\n",
        "        optimizer = optim.SGD(network.parameters(),\n",
        "                              lr=learning_rate, momentum=0.9)\n",
        "    elif optimizer == \"adam\":\n",
        "        optimizer = optim.Adam(network.parameters(),\n",
        "                               lr=learning_rate)\n",
        "    return optimizer\n",
        "\n",
        "\n",
        "def train_epoch(network, loader, optimizer):\n",
        "    cumu_loss = 0\n",
        "    for _, (data, target) in enumerate(loader):\n",
        "        data, target = data.to(device), target.to(device)\n",
        "        optimizer.zero_grad()\n",
        "\n",
        "        # ➡ Forward pass\n",
        "        loss = F.nll_loss(network(data), target)\n",
        "        cumu_loss += loss.item()\n",
        "\n",
        "        # ⬅ Backward pass + weight update\n",
        "        loss.backward()\n",
        "        optimizer.step()\n",
        "\n",
        "        wandb.log({\"batch loss\": loss.item()})\n",
        "\n",
        "    return cumu_loss / len(loader)"
      ],
      "metadata": {
        "id": "r2ZfGn3wY5qc"
      },
      "execution_count": null,
      "outputs": []
    },
    {
      "cell_type": "markdown",
      "source": [
        "Now, we're ready to start sweeping!\n",
        "\n",
        "Sweep Controllers, like the one we made by running `wandb.sweep`,\n",
        "sit waiting for someone to ask them for a `config` to try out.\n",
        "\n",
        "That someone is an `agent`, and they are created with `wandb.agent`.\n",
        "To get going, the agent just needs to know\n",
        "1. which Sweep it's a part of (`sweep_id`)\n",
        "2. which function it's supposed to run (here, `train`)\n",
        "3. (optionally) how many configs to ask the Controller for (`count`)\n",
        "\n",
        "FYI, you can start multiple `agent`s with the same `sweep_id`\n",
        "on different compute resources,\n",
        "and the Controller will ensure that they work together\n",
        "according to the strategy laid out in the `sweep_config`.\n",
        "This makes it trivially easy to scale your Sweeps across as many nodes as you can get ahold of!\n",
        "\n",
        "> _Side Note:_ on the command line, this function is replaced with\n",
        "```\n",
        "wandb agent sweep_id\n",
        "```"
      ],
      "metadata": {
        "id": "_vol29b7Y8WK"
      }
    },
    {
      "cell_type": "markdown",
      "source": [
        "The cell below will launch an `agent` that runs `train` 5 times,\n",
        "usingly the randomly-generated hyperparameter values returned by the Sweep Controller. Execution takes under 5 minutes."
      ],
      "metadata": {
        "id": "PwlwWzKXY_gN"
      }
    },
    {
      "cell_type": "code",
      "source": [
        "wandb.agent(sweep_id, train, count=5)"
      ],
      "metadata": {
        "colab": {
          "base_uri": "https://localhost:8080/",
          "height": 1000,
          "referenced_widgets": [
            "e0d052d668de48559b1d9925f6b3f98c",
            "4dcdc80a8d024e63a7d947932bb1426b",
            "1d7bb1f974e843809d8d1795d728c777",
            "9002a7b95db0447b9c5022056971dd78",
            "dcc660c3887a4f7eb08f72683d6170a0",
            "866739f7ab7c4cab971bc91c1ebe9c6f",
            "e63da9f365f848a29f555629587b015b",
            "72294c63e54b4ae2a44174bd3f2956d9",
            "9ce9b8a5580c44f28b0a1278f67dbe3c",
            "9bb47f8365b84431ad5fc81aca0ad892",
            "7dc0a97f6ed44eeca19f8f0aef0eb53e",
            "6b9c4840b09240f89dc01649c57d5bfe",
            "0e63c8fb3dcd4931a942cf5024e8b14c",
            "25e6ef34bdd749649144bac4f79ff69a",
            "028c582e4e6a4e889519b553a755d20b",
            "5c0aa20314fc48a49a891baa0a3e6020",
            "0f2293978964427caf1aa5f18831210d",
            "c021c0ad91d54ad2a6481a64a6de23bc",
            "70ff096f4337422b9f772fb6367fd6e9",
            "a6b4158c2100431ca8aa4bfd491b95b5",
            "7beb99fa40744b1584d67e248a20bcb6",
            "776abb70a14a4fcead29c62d9ad10b07",
            "685eba2f55f04646b921ec6132a2fc7c",
            "32a7dac7c614443588cba442f0f64db0"
          ]
        },
        "id": "alMQJa9QZA8h",
        "outputId": "1caeee3b-f50c-408a-c225-62e573fe0514"
      },
      "execution_count": 9,
      "outputs": [
        {
          "output_type": "stream",
          "name": "stderr",
          "text": [
            "\u001b[34m\u001b[1mwandb\u001b[0m: Agent Starting Run: xl17e2ar with config:\n",
            "\u001b[34m\u001b[1mwandb\u001b[0m: \tbatch_size: 42\n",
            "\u001b[34m\u001b[1mwandb\u001b[0m: \tdropout: 0.5\n",
            "\u001b[34m\u001b[1mwandb\u001b[0m: \tfc_layer_size: 512\n",
            "\u001b[34m\u001b[1mwandb\u001b[0m: \tlearning_rate: 0.05258930694141817\n",
            "\u001b[34m\u001b[1mwandb\u001b[0m: \toptimizer: sgd\n",
            "\u001b[34m\u001b[1mwandb\u001b[0m: Currently logged in as: \u001b[33msahug\u001b[0m (use `wandb login --relogin` to force relogin)\n"
          ]
        },
        {
          "output_type": "display_data",
          "data": {
            "text/plain": [
              "<IPython.core.display.HTML object>"
            ],
            "text/html": [
              "Tracking run with wandb version 0.12.11"
            ]
          },
          "metadata": {}
        },
        {
          "output_type": "display_data",
          "data": {
            "text/plain": [
              "<IPython.core.display.HTML object>"
            ],
            "text/html": [
              "Run data is saved locally in <code>/content/wandb/run-20220327_032056-xl17e2ar</code>"
            ]
          },
          "metadata": {}
        },
        {
          "output_type": "display_data",
          "data": {
            "text/plain": [
              "<IPython.core.display.HTML object>"
            ],
            "text/html": [
              "Syncing run <strong><a href=\"https://wandb.ai/sahug/pytorch-sweeps-demo/runs/xl17e2ar\" target=\"_blank\">wandering-sweep-1</a></strong> to <a href=\"https://wandb.ai/sahug/pytorch-sweeps-demo\" target=\"_blank\">Weights & Biases</a> (<a href=\"https://wandb.me/run\" target=\"_blank\">docs</a>)<br/>Sweep page:  <a href=\"https://wandb.ai/sahug/pytorch-sweeps-demo/sweeps/t45bpvn1\" target=\"_blank\">https://wandb.ai/sahug/pytorch-sweeps-demo/sweeps/t45bpvn1</a>"
            ]
          },
          "metadata": {}
        },
        {
          "output_type": "stream",
          "name": "stdout",
          "text": [
            "\n"
          ]
        },
        {
          "output_type": "display_data",
          "data": {
            "text/plain": [
              "<IPython.core.display.HTML object>"
            ],
            "text/html": [
              "Waiting for W&B process to finish... <strong style=\"color:red\">(failed 1).</strong> Press Control-C to abort syncing."
            ]
          },
          "metadata": {}
        },
        {
          "output_type": "display_data",
          "data": {
            "text/plain": [
              "VBox(children=(Label(value='0.001 MB of 0.001 MB uploaded (0.000 MB deduped)\\r'), FloatProgress(value=1.0, max…"
            ],
            "application/vnd.jupyter.widget-view+json": {
              "version_major": 2,
              "version_minor": 0,
              "model_id": "e0d052d668de48559b1d9925f6b3f98c"
            }
          },
          "metadata": {}
        },
        {
          "output_type": "display_data",
          "data": {
            "text/plain": [
              "<IPython.core.display.HTML object>"
            ],
            "text/html": [
              "Synced <strong style=\"color:#cdcd00\">wandering-sweep-1</strong>: <a href=\"https://wandb.ai/sahug/pytorch-sweeps-demo/runs/xl17e2ar\" target=\"_blank\">https://wandb.ai/sahug/pytorch-sweeps-demo/runs/xl17e2ar</a><br/>Synced 4 W&B file(s), 0 media file(s), 0 artifact file(s) and 0 other file(s)"
            ]
          },
          "metadata": {}
        },
        {
          "output_type": "display_data",
          "data": {
            "text/plain": [
              "<IPython.core.display.HTML object>"
            ],
            "text/html": [
              "Find logs at: <code>./wandb/run-20220327_032056-xl17e2ar/logs</code>"
            ]
          },
          "metadata": {}
        },
        {
          "output_type": "stream",
          "name": "stderr",
          "text": [
            "Run xl17e2ar errored: NameError(\"name 'build_dataset' is not defined\")\n",
            "\u001b[34m\u001b[1mwandb\u001b[0m: \u001b[32m\u001b[41mERROR\u001b[0m Run xl17e2ar errored: NameError(\"name 'build_dataset' is not defined\")\n",
            "\u001b[34m\u001b[1mwandb\u001b[0m: Agent Starting Run: ybp5zpad with config:\n",
            "\u001b[34m\u001b[1mwandb\u001b[0m: \tbatch_size: 61\n",
            "\u001b[34m\u001b[1mwandb\u001b[0m: \tdropout: 0.3\n",
            "\u001b[34m\u001b[1mwandb\u001b[0m: \tfc_layer_size: 512\n",
            "\u001b[34m\u001b[1mwandb\u001b[0m: \tlearning_rate: 0.012101889565128476\n",
            "\u001b[34m\u001b[1mwandb\u001b[0m: \toptimizer: adam\n"
          ]
        },
        {
          "output_type": "display_data",
          "data": {
            "text/plain": [
              "<IPython.core.display.HTML object>"
            ],
            "text/html": [
              "Tracking run with wandb version 0.12.11"
            ]
          },
          "metadata": {}
        },
        {
          "output_type": "display_data",
          "data": {
            "text/plain": [
              "<IPython.core.display.HTML object>"
            ],
            "text/html": [
              "Run data is saved locally in <code>/content/wandb/run-20220327_032106-ybp5zpad</code>"
            ]
          },
          "metadata": {}
        },
        {
          "output_type": "display_data",
          "data": {
            "text/plain": [
              "<IPython.core.display.HTML object>"
            ],
            "text/html": [
              "Syncing run <strong><a href=\"https://wandb.ai/sahug/pytorch-sweeps-demo/runs/ybp5zpad\" target=\"_blank\">dauntless-sweep-2</a></strong> to <a href=\"https://wandb.ai/sahug/pytorch-sweeps-demo\" target=\"_blank\">Weights & Biases</a> (<a href=\"https://wandb.me/run\" target=\"_blank\">docs</a>)<br/>Sweep page:  <a href=\"https://wandb.ai/sahug/pytorch-sweeps-demo/sweeps/t45bpvn1\" target=\"_blank\">https://wandb.ai/sahug/pytorch-sweeps-demo/sweeps/t45bpvn1</a>"
            ]
          },
          "metadata": {}
        },
        {
          "output_type": "stream",
          "name": "stdout",
          "text": [
            "\n"
          ]
        },
        {
          "output_type": "display_data",
          "data": {
            "text/plain": [
              "<IPython.core.display.HTML object>"
            ],
            "text/html": [
              "Waiting for W&B process to finish... <strong style=\"color:red\">(failed 1).</strong> Press Control-C to abort syncing."
            ]
          },
          "metadata": {}
        },
        {
          "output_type": "display_data",
          "data": {
            "text/plain": [
              "VBox(children=(Label(value='0.001 MB of 0.001 MB uploaded (0.000 MB deduped)\\r'), FloatProgress(value=1.0, max…"
            ],
            "application/vnd.jupyter.widget-view+json": {
              "version_major": 2,
              "version_minor": 0,
              "model_id": "9ce9b8a5580c44f28b0a1278f67dbe3c"
            }
          },
          "metadata": {}
        },
        {
          "output_type": "display_data",
          "data": {
            "text/plain": [
              "<IPython.core.display.HTML object>"
            ],
            "text/html": [
              "Synced <strong style=\"color:#cdcd00\">dauntless-sweep-2</strong>: <a href=\"https://wandb.ai/sahug/pytorch-sweeps-demo/runs/ybp5zpad\" target=\"_blank\">https://wandb.ai/sahug/pytorch-sweeps-demo/runs/ybp5zpad</a><br/>Synced 4 W&B file(s), 0 media file(s), 0 artifact file(s) and 0 other file(s)"
            ]
          },
          "metadata": {}
        },
        {
          "output_type": "display_data",
          "data": {
            "text/plain": [
              "<IPython.core.display.HTML object>"
            ],
            "text/html": [
              "Find logs at: <code>./wandb/run-20220327_032106-ybp5zpad/logs</code>"
            ]
          },
          "metadata": {}
        },
        {
          "output_type": "stream",
          "name": "stderr",
          "text": [
            "Run ybp5zpad errored: NameError(\"name 'build_dataset' is not defined\")\n",
            "\u001b[34m\u001b[1mwandb\u001b[0m: \u001b[32m\u001b[41mERROR\u001b[0m Run ybp5zpad errored: NameError(\"name 'build_dataset' is not defined\")\n",
            "\u001b[34m\u001b[1mwandb\u001b[0m: Agent Starting Run: tbpngtfu with config:\n",
            "\u001b[34m\u001b[1mwandb\u001b[0m: \tbatch_size: 122\n",
            "\u001b[34m\u001b[1mwandb\u001b[0m: \tdropout: 0.4\n",
            "\u001b[34m\u001b[1mwandb\u001b[0m: \tfc_layer_size: 128\n",
            "\u001b[34m\u001b[1mwandb\u001b[0m: \tlearning_rate: 0.09402020327147284\n",
            "\u001b[34m\u001b[1mwandb\u001b[0m: \toptimizer: sgd\n"
          ]
        },
        {
          "output_type": "display_data",
          "data": {
            "text/plain": [
              "<IPython.core.display.HTML object>"
            ],
            "text/html": [
              "Tracking run with wandb version 0.12.11"
            ]
          },
          "metadata": {}
        },
        {
          "output_type": "display_data",
          "data": {
            "text/plain": [
              "<IPython.core.display.HTML object>"
            ],
            "text/html": [
              "Run data is saved locally in <code>/content/wandb/run-20220327_032116-tbpngtfu</code>"
            ]
          },
          "metadata": {}
        },
        {
          "output_type": "display_data",
          "data": {
            "text/plain": [
              "<IPython.core.display.HTML object>"
            ],
            "text/html": [
              "Syncing run <strong><a href=\"https://wandb.ai/sahug/pytorch-sweeps-demo/runs/tbpngtfu\" target=\"_blank\">fast-sweep-3</a></strong> to <a href=\"https://wandb.ai/sahug/pytorch-sweeps-demo\" target=\"_blank\">Weights & Biases</a> (<a href=\"https://wandb.me/run\" target=\"_blank\">docs</a>)<br/>Sweep page:  <a href=\"https://wandb.ai/sahug/pytorch-sweeps-demo/sweeps/t45bpvn1\" target=\"_blank\">https://wandb.ai/sahug/pytorch-sweeps-demo/sweeps/t45bpvn1</a>"
            ]
          },
          "metadata": {}
        },
        {
          "output_type": "stream",
          "name": "stdout",
          "text": [
            "\n"
          ]
        },
        {
          "output_type": "display_data",
          "data": {
            "text/plain": [
              "<IPython.core.display.HTML object>"
            ],
            "text/html": [
              "Waiting for W&B process to finish... <strong style=\"color:red\">(failed 1).</strong> Press Control-C to abort syncing."
            ]
          },
          "metadata": {}
        },
        {
          "output_type": "display_data",
          "data": {
            "text/plain": [
              "VBox(children=(Label(value='0.001 MB of 0.001 MB uploaded (0.000 MB deduped)\\r'), FloatProgress(value=1.0, max…"
            ],
            "application/vnd.jupyter.widget-view+json": {
              "version_major": 2,
              "version_minor": 0,
              "model_id": "0f2293978964427caf1aa5f18831210d"
            }
          },
          "metadata": {}
        },
        {
          "output_type": "display_data",
          "data": {
            "text/plain": [
              "<IPython.core.display.HTML object>"
            ],
            "text/html": [
              "Synced <strong style=\"color:#cdcd00\">fast-sweep-3</strong>: <a href=\"https://wandb.ai/sahug/pytorch-sweeps-demo/runs/tbpngtfu\" target=\"_blank\">https://wandb.ai/sahug/pytorch-sweeps-demo/runs/tbpngtfu</a><br/>Synced 4 W&B file(s), 0 media file(s), 0 artifact file(s) and 0 other file(s)"
            ]
          },
          "metadata": {}
        },
        {
          "output_type": "display_data",
          "data": {
            "text/plain": [
              "<IPython.core.display.HTML object>"
            ],
            "text/html": [
              "Find logs at: <code>./wandb/run-20220327_032116-tbpngtfu/logs</code>"
            ]
          },
          "metadata": {}
        },
        {
          "output_type": "stream",
          "name": "stderr",
          "text": [
            "Run tbpngtfu errored: NameError(\"name 'build_dataset' is not defined\")\n",
            "\u001b[34m\u001b[1mwandb\u001b[0m: \u001b[32m\u001b[41mERROR\u001b[0m Run tbpngtfu errored: NameError(\"name 'build_dataset' is not defined\")\n",
            "Detected 3 failed runs in the first 60 seconds, killing sweep.\n",
            "\u001b[34m\u001b[1mwandb\u001b[0m: \u001b[32m\u001b[41mERROR\u001b[0m Detected 3 failed runs in the first 60 seconds, killing sweep.\n",
            "\u001b[34m\u001b[1mwandb\u001b[0m: To disable this check set WANDB_AGENT_DISABLE_FLAPPING=true\n"
          ]
        }
      ]
    },
    {
      "cell_type": "markdown",
      "source": [
        "**Parallel Coordinates Plot**\n",
        "\n",
        "This plot maps hyperparameter values to model metrics. It’s useful for honing in on combinations of hyperparameters that led to the best model performance."
      ],
      "metadata": {
        "id": "xe-89dCpZHl6"
      }
    },
    {
      "cell_type": "markdown",
      "source": [
        "**Hyperparameter Importance Plot**\n",
        "\n",
        "The hyperparameter importance plot surfaces which hyperparameters were the best predictors of your metrics. We report feature importance (from a random forest model) and correlation (implicitly a linear model)."
      ],
      "metadata": {
        "id": "j5NW0cZsZTEJ"
      }
    }
  ]
}