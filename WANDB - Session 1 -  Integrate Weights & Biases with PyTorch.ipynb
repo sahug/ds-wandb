{
  "nbformat": 4,
  "nbformat_minor": 0,
  "metadata": {
    "colab": {
      "name": "WANDB - Session 1 -  Integrate Weights & Biases with PyTorch.ipynb",
      "provenance": [],
      "authorship_tag": "ABX9TyOH+3M5yrVDMvw0Jb5OiR2X",
      "include_colab_link": true
    },
    "kernelspec": {
      "name": "python3",
      "display_name": "Python 3"
    },
    "language_info": {
      "name": "python"
    },
    "widgets": {
      "application/vnd.jupyter.widget-state+json": {
        "e371d8ed35e943669e565a0b70742762": {
          "model_module": "@jupyter-widgets/controls",
          "model_name": "HBoxModel",
          "model_module_version": "1.5.0",
          "state": {
            "_dom_classes": [],
            "_model_module": "@jupyter-widgets/controls",
            "_model_module_version": "1.5.0",
            "_model_name": "HBoxModel",
            "_view_count": null,
            "_view_module": "@jupyter-widgets/controls",
            "_view_module_version": "1.5.0",
            "_view_name": "HBoxView",
            "box_style": "",
            "children": [
              "IPY_MODEL_bfe4396d389c41fcb4a617eec0d39ef4",
              "IPY_MODEL_352e0771ecde4a1f9e4ba134f8023450",
              "IPY_MODEL_c37dfb5d88c34c92a46a526f94d749c4"
            ],
            "layout": "IPY_MODEL_db03a8661da741559c7f17f3f39bf990"
          }
        },
        "bfe4396d389c41fcb4a617eec0d39ef4": {
          "model_module": "@jupyter-widgets/controls",
          "model_name": "HTMLModel",
          "model_module_version": "1.5.0",
          "state": {
            "_dom_classes": [],
            "_model_module": "@jupyter-widgets/controls",
            "_model_module_version": "1.5.0",
            "_model_name": "HTMLModel",
            "_view_count": null,
            "_view_module": "@jupyter-widgets/controls",
            "_view_module_version": "1.5.0",
            "_view_name": "HTMLView",
            "description": "",
            "description_tooltip": null,
            "layout": "IPY_MODEL_afaaa83c9c144f1fadac1bbf895ffe1d",
            "placeholder": "​",
            "style": "IPY_MODEL_b26c7890a5d04108ba6242760eff77a0",
            "value": "100%"
          }
        },
        "352e0771ecde4a1f9e4ba134f8023450": {
          "model_module": "@jupyter-widgets/controls",
          "model_name": "FloatProgressModel",
          "model_module_version": "1.5.0",
          "state": {
            "_dom_classes": [],
            "_model_module": "@jupyter-widgets/controls",
            "_model_module_version": "1.5.0",
            "_model_name": "FloatProgressModel",
            "_view_count": null,
            "_view_module": "@jupyter-widgets/controls",
            "_view_module_version": "1.5.0",
            "_view_name": "ProgressView",
            "bar_style": "success",
            "description": "",
            "description_tooltip": null,
            "layout": "IPY_MODEL_1a47bf1c0bad4d01aeb0fac871305757",
            "max": 5,
            "min": 0,
            "orientation": "horizontal",
            "style": "IPY_MODEL_256be27545384540844e1dd171632cce",
            "value": 5
          }
        },
        "c37dfb5d88c34c92a46a526f94d749c4": {
          "model_module": "@jupyter-widgets/controls",
          "model_name": "HTMLModel",
          "model_module_version": "1.5.0",
          "state": {
            "_dom_classes": [],
            "_model_module": "@jupyter-widgets/controls",
            "_model_module_version": "1.5.0",
            "_model_name": "HTMLModel",
            "_view_count": null,
            "_view_module": "@jupyter-widgets/controls",
            "_view_module_version": "1.5.0",
            "_view_name": "HTMLView",
            "description": "",
            "description_tooltip": null,
            "layout": "IPY_MODEL_f13969fba2fb4bd4830670083cdb9899",
            "placeholder": "​",
            "style": "IPY_MODEL_d1efe1aa8bc54083b988bdbeba118f2c",
            "value": " 5/5 [00:42&lt;00:00,  8.43s/it]"
          }
        },
        "db03a8661da741559c7f17f3f39bf990": {
          "model_module": "@jupyter-widgets/base",
          "model_name": "LayoutModel",
          "model_module_version": "1.2.0",
          "state": {
            "_model_module": "@jupyter-widgets/base",
            "_model_module_version": "1.2.0",
            "_model_name": "LayoutModel",
            "_view_count": null,
            "_view_module": "@jupyter-widgets/base",
            "_view_module_version": "1.2.0",
            "_view_name": "LayoutView",
            "align_content": null,
            "align_items": null,
            "align_self": null,
            "border": null,
            "bottom": null,
            "display": null,
            "flex": null,
            "flex_flow": null,
            "grid_area": null,
            "grid_auto_columns": null,
            "grid_auto_flow": null,
            "grid_auto_rows": null,
            "grid_column": null,
            "grid_gap": null,
            "grid_row": null,
            "grid_template_areas": null,
            "grid_template_columns": null,
            "grid_template_rows": null,
            "height": null,
            "justify_content": null,
            "justify_items": null,
            "left": null,
            "margin": null,
            "max_height": null,
            "max_width": null,
            "min_height": null,
            "min_width": null,
            "object_fit": null,
            "object_position": null,
            "order": null,
            "overflow": null,
            "overflow_x": null,
            "overflow_y": null,
            "padding": null,
            "right": null,
            "top": null,
            "visibility": null,
            "width": null
          }
        },
        "afaaa83c9c144f1fadac1bbf895ffe1d": {
          "model_module": "@jupyter-widgets/base",
          "model_name": "LayoutModel",
          "model_module_version": "1.2.0",
          "state": {
            "_model_module": "@jupyter-widgets/base",
            "_model_module_version": "1.2.0",
            "_model_name": "LayoutModel",
            "_view_count": null,
            "_view_module": "@jupyter-widgets/base",
            "_view_module_version": "1.2.0",
            "_view_name": "LayoutView",
            "align_content": null,
            "align_items": null,
            "align_self": null,
            "border": null,
            "bottom": null,
            "display": null,
            "flex": null,
            "flex_flow": null,
            "grid_area": null,
            "grid_auto_columns": null,
            "grid_auto_flow": null,
            "grid_auto_rows": null,
            "grid_column": null,
            "grid_gap": null,
            "grid_row": null,
            "grid_template_areas": null,
            "grid_template_columns": null,
            "grid_template_rows": null,
            "height": null,
            "justify_content": null,
            "justify_items": null,
            "left": null,
            "margin": null,
            "max_height": null,
            "max_width": null,
            "min_height": null,
            "min_width": null,
            "object_fit": null,
            "object_position": null,
            "order": null,
            "overflow": null,
            "overflow_x": null,
            "overflow_y": null,
            "padding": null,
            "right": null,
            "top": null,
            "visibility": null,
            "width": null
          }
        },
        "b26c7890a5d04108ba6242760eff77a0": {
          "model_module": "@jupyter-widgets/controls",
          "model_name": "DescriptionStyleModel",
          "model_module_version": "1.5.0",
          "state": {
            "_model_module": "@jupyter-widgets/controls",
            "_model_module_version": "1.5.0",
            "_model_name": "DescriptionStyleModel",
            "_view_count": null,
            "_view_module": "@jupyter-widgets/base",
            "_view_module_version": "1.2.0",
            "_view_name": "StyleView",
            "description_width": ""
          }
        },
        "1a47bf1c0bad4d01aeb0fac871305757": {
          "model_module": "@jupyter-widgets/base",
          "model_name": "LayoutModel",
          "model_module_version": "1.2.0",
          "state": {
            "_model_module": "@jupyter-widgets/base",
            "_model_module_version": "1.2.0",
            "_model_name": "LayoutModel",
            "_view_count": null,
            "_view_module": "@jupyter-widgets/base",
            "_view_module_version": "1.2.0",
            "_view_name": "LayoutView",
            "align_content": null,
            "align_items": null,
            "align_self": null,
            "border": null,
            "bottom": null,
            "display": null,
            "flex": null,
            "flex_flow": null,
            "grid_area": null,
            "grid_auto_columns": null,
            "grid_auto_flow": null,
            "grid_auto_rows": null,
            "grid_column": null,
            "grid_gap": null,
            "grid_row": null,
            "grid_template_areas": null,
            "grid_template_columns": null,
            "grid_template_rows": null,
            "height": null,
            "justify_content": null,
            "justify_items": null,
            "left": null,
            "margin": null,
            "max_height": null,
            "max_width": null,
            "min_height": null,
            "min_width": null,
            "object_fit": null,
            "object_position": null,
            "order": null,
            "overflow": null,
            "overflow_x": null,
            "overflow_y": null,
            "padding": null,
            "right": null,
            "top": null,
            "visibility": null,
            "width": null
          }
        },
        "256be27545384540844e1dd171632cce": {
          "model_module": "@jupyter-widgets/controls",
          "model_name": "ProgressStyleModel",
          "model_module_version": "1.5.0",
          "state": {
            "_model_module": "@jupyter-widgets/controls",
            "_model_module_version": "1.5.0",
            "_model_name": "ProgressStyleModel",
            "_view_count": null,
            "_view_module": "@jupyter-widgets/base",
            "_view_module_version": "1.2.0",
            "_view_name": "StyleView",
            "bar_color": null,
            "description_width": ""
          }
        },
        "f13969fba2fb4bd4830670083cdb9899": {
          "model_module": "@jupyter-widgets/base",
          "model_name": "LayoutModel",
          "model_module_version": "1.2.0",
          "state": {
            "_model_module": "@jupyter-widgets/base",
            "_model_module_version": "1.2.0",
            "_model_name": "LayoutModel",
            "_view_count": null,
            "_view_module": "@jupyter-widgets/base",
            "_view_module_version": "1.2.0",
            "_view_name": "LayoutView",
            "align_content": null,
            "align_items": null,
            "align_self": null,
            "border": null,
            "bottom": null,
            "display": null,
            "flex": null,
            "flex_flow": null,
            "grid_area": null,
            "grid_auto_columns": null,
            "grid_auto_flow": null,
            "grid_auto_rows": null,
            "grid_column": null,
            "grid_gap": null,
            "grid_row": null,
            "grid_template_areas": null,
            "grid_template_columns": null,
            "grid_template_rows": null,
            "height": null,
            "justify_content": null,
            "justify_items": null,
            "left": null,
            "margin": null,
            "max_height": null,
            "max_width": null,
            "min_height": null,
            "min_width": null,
            "object_fit": null,
            "object_position": null,
            "order": null,
            "overflow": null,
            "overflow_x": null,
            "overflow_y": null,
            "padding": null,
            "right": null,
            "top": null,
            "visibility": null,
            "width": null
          }
        },
        "d1efe1aa8bc54083b988bdbeba118f2c": {
          "model_module": "@jupyter-widgets/controls",
          "model_name": "DescriptionStyleModel",
          "model_module_version": "1.5.0",
          "state": {
            "_model_module": "@jupyter-widgets/controls",
            "_model_module_version": "1.5.0",
            "_model_name": "DescriptionStyleModel",
            "_view_count": null,
            "_view_module": "@jupyter-widgets/base",
            "_view_module_version": "1.2.0",
            "_view_name": "StyleView",
            "description_width": ""
          }
        },
        "b253a3f222e24422aa387a0fef4fbf10": {
          "model_module": "@jupyter-widgets/controls",
          "model_name": "VBoxModel",
          "model_module_version": "1.5.0",
          "state": {
            "_dom_classes": [],
            "_model_module": "@jupyter-widgets/controls",
            "_model_module_version": "1.5.0",
            "_model_name": "VBoxModel",
            "_view_count": null,
            "_view_module": "@jupyter-widgets/controls",
            "_view_module_version": "1.5.0",
            "_view_name": "VBoxView",
            "box_style": "",
            "children": [
              "IPY_MODEL_05833fa533ac449b8385e2a11ac59672",
              "IPY_MODEL_bb95e8c1f7c14a69ab16c1db3de33baf"
            ],
            "layout": "IPY_MODEL_ce73757fd3ab487291aeece56bc4a6c3"
          }
        },
        "05833fa533ac449b8385e2a11ac59672": {
          "model_module": "@jupyter-widgets/controls",
          "model_name": "LabelModel",
          "model_module_version": "1.5.0",
          "state": {
            "_dom_classes": [],
            "_model_module": "@jupyter-widgets/controls",
            "_model_module_version": "1.5.0",
            "_model_name": "LabelModel",
            "_view_count": null,
            "_view_module": "@jupyter-widgets/controls",
            "_view_module_version": "1.5.0",
            "_view_name": "LabelView",
            "description": "",
            "description_tooltip": null,
            "layout": "IPY_MODEL_12e1820d45d24a3da4fec9de45ecd498",
            "placeholder": "​",
            "style": "IPY_MODEL_54c834abf869479d8ff883082a245825",
            "value": "0.142 MB of 0.142 MB uploaded (0.000 MB deduped)\r"
          }
        },
        "bb95e8c1f7c14a69ab16c1db3de33baf": {
          "model_module": "@jupyter-widgets/controls",
          "model_name": "FloatProgressModel",
          "model_module_version": "1.5.0",
          "state": {
            "_dom_classes": [],
            "_model_module": "@jupyter-widgets/controls",
            "_model_module_version": "1.5.0",
            "_model_name": "FloatProgressModel",
            "_view_count": null,
            "_view_module": "@jupyter-widgets/controls",
            "_view_module_version": "1.5.0",
            "_view_name": "ProgressView",
            "bar_style": "",
            "description": "",
            "description_tooltip": null,
            "layout": "IPY_MODEL_eb917c611ce94903822edab7e27379a3",
            "max": 1,
            "min": 0,
            "orientation": "horizontal",
            "style": "IPY_MODEL_5a4ba27052a84cbf83518c88af68a300",
            "value": 1
          }
        },
        "ce73757fd3ab487291aeece56bc4a6c3": {
          "model_module": "@jupyter-widgets/base",
          "model_name": "LayoutModel",
          "model_module_version": "1.2.0",
          "state": {
            "_model_module": "@jupyter-widgets/base",
            "_model_module_version": "1.2.0",
            "_model_name": "LayoutModel",
            "_view_count": null,
            "_view_module": "@jupyter-widgets/base",
            "_view_module_version": "1.2.0",
            "_view_name": "LayoutView",
            "align_content": null,
            "align_items": null,
            "align_self": null,
            "border": null,
            "bottom": null,
            "display": null,
            "flex": null,
            "flex_flow": null,
            "grid_area": null,
            "grid_auto_columns": null,
            "grid_auto_flow": null,
            "grid_auto_rows": null,
            "grid_column": null,
            "grid_gap": null,
            "grid_row": null,
            "grid_template_areas": null,
            "grid_template_columns": null,
            "grid_template_rows": null,
            "height": null,
            "justify_content": null,
            "justify_items": null,
            "left": null,
            "margin": null,
            "max_height": null,
            "max_width": null,
            "min_height": null,
            "min_width": null,
            "object_fit": null,
            "object_position": null,
            "order": null,
            "overflow": null,
            "overflow_x": null,
            "overflow_y": null,
            "padding": null,
            "right": null,
            "top": null,
            "visibility": null,
            "width": null
          }
        },
        "12e1820d45d24a3da4fec9de45ecd498": {
          "model_module": "@jupyter-widgets/base",
          "model_name": "LayoutModel",
          "model_module_version": "1.2.0",
          "state": {
            "_model_module": "@jupyter-widgets/base",
            "_model_module_version": "1.2.0",
            "_model_name": "LayoutModel",
            "_view_count": null,
            "_view_module": "@jupyter-widgets/base",
            "_view_module_version": "1.2.0",
            "_view_name": "LayoutView",
            "align_content": null,
            "align_items": null,
            "align_self": null,
            "border": null,
            "bottom": null,
            "display": null,
            "flex": null,
            "flex_flow": null,
            "grid_area": null,
            "grid_auto_columns": null,
            "grid_auto_flow": null,
            "grid_auto_rows": null,
            "grid_column": null,
            "grid_gap": null,
            "grid_row": null,
            "grid_template_areas": null,
            "grid_template_columns": null,
            "grid_template_rows": null,
            "height": null,
            "justify_content": null,
            "justify_items": null,
            "left": null,
            "margin": null,
            "max_height": null,
            "max_width": null,
            "min_height": null,
            "min_width": null,
            "object_fit": null,
            "object_position": null,
            "order": null,
            "overflow": null,
            "overflow_x": null,
            "overflow_y": null,
            "padding": null,
            "right": null,
            "top": null,
            "visibility": null,
            "width": null
          }
        },
        "54c834abf869479d8ff883082a245825": {
          "model_module": "@jupyter-widgets/controls",
          "model_name": "DescriptionStyleModel",
          "model_module_version": "1.5.0",
          "state": {
            "_model_module": "@jupyter-widgets/controls",
            "_model_module_version": "1.5.0",
            "_model_name": "DescriptionStyleModel",
            "_view_count": null,
            "_view_module": "@jupyter-widgets/base",
            "_view_module_version": "1.2.0",
            "_view_name": "StyleView",
            "description_width": ""
          }
        },
        "eb917c611ce94903822edab7e27379a3": {
          "model_module": "@jupyter-widgets/base",
          "model_name": "LayoutModel",
          "model_module_version": "1.2.0",
          "state": {
            "_model_module": "@jupyter-widgets/base",
            "_model_module_version": "1.2.0",
            "_model_name": "LayoutModel",
            "_view_count": null,
            "_view_module": "@jupyter-widgets/base",
            "_view_module_version": "1.2.0",
            "_view_name": "LayoutView",
            "align_content": null,
            "align_items": null,
            "align_self": null,
            "border": null,
            "bottom": null,
            "display": null,
            "flex": null,
            "flex_flow": null,
            "grid_area": null,
            "grid_auto_columns": null,
            "grid_auto_flow": null,
            "grid_auto_rows": null,
            "grid_column": null,
            "grid_gap": null,
            "grid_row": null,
            "grid_template_areas": null,
            "grid_template_columns": null,
            "grid_template_rows": null,
            "height": null,
            "justify_content": null,
            "justify_items": null,
            "left": null,
            "margin": null,
            "max_height": null,
            "max_width": null,
            "min_height": null,
            "min_width": null,
            "object_fit": null,
            "object_position": null,
            "order": null,
            "overflow": null,
            "overflow_x": null,
            "overflow_y": null,
            "padding": null,
            "right": null,
            "top": null,
            "visibility": null,
            "width": null
          }
        },
        "5a4ba27052a84cbf83518c88af68a300": {
          "model_module": "@jupyter-widgets/controls",
          "model_name": "ProgressStyleModel",
          "model_module_version": "1.5.0",
          "state": {
            "_model_module": "@jupyter-widgets/controls",
            "_model_module_version": "1.5.0",
            "_model_name": "ProgressStyleModel",
            "_view_count": null,
            "_view_module": "@jupyter-widgets/base",
            "_view_module_version": "1.2.0",
            "_view_name": "StyleView",
            "bar_color": null,
            "description_width": ""
          }
        }
      }
    }
  },
  "cells": [
    {
      "cell_type": "markdown",
      "metadata": {
        "id": "view-in-github",
        "colab_type": "text"
      },
      "source": [
        "<a href=\"https://colab.research.google.com/github/sahug/ds-wandb/blob/main/WANDB%20-%20Session%201%20-%20%20Integrate%20Weights%20%26%20Biases%20with%20PyTorch.ipynb\" target=\"_parent\"><img src=\"https://colab.research.google.com/assets/colab-badge.svg\" alt=\"Open In Colab\"/></a>"
      ]
    },
    {
      "cell_type": "markdown",
      "source": [
        "**WANDB - Session 1 -  Integrate Weights & Biases with PyTorch**"
      ],
      "metadata": {
        "id": "WPfVE0-ulsGI"
      }
    },
    {
      "cell_type": "markdown",
      "source": [
        "Use Weights & Biases for machine learning experiment tracking, dataset versioning, and project collaboration.\n",
        "\n",
        "![image.png](data:image/png;base64,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)"
      ],
      "metadata": {
        "id": "-bvPXduelypJ"
      }
    },
    {
      "cell_type": "markdown",
      "source": [
        "**Install, Import and Log In**"
      ],
      "metadata": {
        "id": "J7xDpYqfmNqO"
      }
    },
    {
      "cell_type": "code",
      "execution_count": null,
      "metadata": {
        "id": "XwExn6s_ljoH"
      },
      "outputs": [],
      "source": [
        "import random\n",
        "\n",
        "import numpy as np\n",
        "import torch\n",
        "import torch.nn as nn\n",
        "import torchvision\n",
        "import torchvision.transforms as transformers\n",
        "from tqdm.notebook import tqdm\n",
        "\n",
        "# Ensure deterministic behavior\n",
        "torch.backends.cudnn.deterministic = True\n",
        "random.seed(hash(\"setting random seeds\") % 2**32 - 1)\n",
        "np.random.seed(hash(\"improves reproducibility\") % 2**32 - 1)\n",
        "torch.manual_seed(hash(\"by removing stochasticity\") % 2**32 - 1)\n",
        "torch.cuda.manual_seed_all(hash(\"so runs are repeatable\") % 2**32 - 1)\n",
        "\n",
        "# Device configuration\n",
        "device = torch.device(\"cuda:0\" if torch.cuda.is_available() else \"cpu\")"
      ]
    },
    {
      "cell_type": "markdown",
      "source": [
        "**Step 1: Install WandB**"
      ],
      "metadata": {
        "id": "T5Kcq6dMnaRi"
      }
    },
    {
      "cell_type": "code",
      "source": [
        "%%capture\n",
        "!pip install wandb --upgrade"
      ],
      "metadata": {
        "id": "jYIfgRZ2ngQE"
      },
      "execution_count": null,
      "outputs": []
    },
    {
      "cell_type": "markdown",
      "source": [
        "**Step 2: Import W&B and Login**\n",
        "\n",
        "In order to log data to our web services you'll need to log in.\n",
        "\n",
        "If its the first time using W&B you'll need to sign up for a free account."
      ],
      "metadata": {
        "id": "QJiNGOgXn4Ec"
      }
    },
    {
      "cell_type": "code",
      "source": [
        "import wandb\n",
        "wandb.login()"
      ],
      "metadata": {
        "colab": {
          "base_uri": "https://localhost:8080/",
          "height": 69
        },
        "id": "YFlvsUOznoX_",
        "outputId": "01bed951-ef57-4744-8399-35fbc872e157"
      },
      "execution_count": null,
      "outputs": [
        {
          "output_type": "display_data",
          "data": {
            "text/plain": [
              "<IPython.core.display.Javascript object>"
            ],
            "application/javascript": [
              "\n",
              "        window._wandbApiKey = new Promise((resolve, reject) => {\n",
              "            function loadScript(url) {\n",
              "            return new Promise(function(resolve, reject) {\n",
              "                let newScript = document.createElement(\"script\");\n",
              "                newScript.onerror = reject;\n",
              "                newScript.onload = resolve;\n",
              "                document.body.appendChild(newScript);\n",
              "                newScript.src = url;\n",
              "            });\n",
              "            }\n",
              "            loadScript(\"https://cdn.jsdelivr.net/npm/postmate/build/postmate.min.js\").then(() => {\n",
              "            const iframe = document.createElement('iframe')\n",
              "            iframe.style.cssText = \"width:0;height:0;border:none\"\n",
              "            document.body.appendChild(iframe)\n",
              "            const handshake = new Postmate({\n",
              "                container: iframe,\n",
              "                url: 'https://wandb.ai/authorize'\n",
              "            });\n",
              "            const timeout = setTimeout(() => reject(\"Couldn't auto authenticate\"), 5000)\n",
              "            handshake.then(function(child) {\n",
              "                child.on('authorize', data => {\n",
              "                    clearTimeout(timeout)\n",
              "                    resolve(data)\n",
              "                });\n",
              "            });\n",
              "            })\n",
              "        });\n",
              "    "
            ]
          },
          "metadata": {}
        },
        {
          "output_type": "stream",
          "name": "stderr",
          "text": [
            "\u001b[34m\u001b[1mwandb\u001b[0m: Appending key for api.wandb.ai to your netrc file: /root/.netrc\n"
          ]
        },
        {
          "output_type": "execute_result",
          "data": {
            "text/plain": [
              "True"
            ]
          },
          "metadata": {},
          "execution_count": 3
        }
      ]
    },
    {
      "cell_type": "markdown",
      "source": [
        "**Define Experiment and Pipeline**"
      ],
      "metadata": {
        "id": "QT0PA0NloX6W"
      }
    },
    {
      "cell_type": "markdown",
      "source": [
        "**Step 3: Track Metadata and Hyperparameters with** `wandb.init`\n",
        "\n",
        "Programmatically, the first thing we do is define our experiment: what are the hyperparameters? what metadata is associated with this run?\n",
        "\n",
        "It's a pretty common workflow to store this information in a config dictionary (or similar object) and then access it as needed.\n",
        "\n",
        "For this example, we're only letting a few hyperparameters vary and hand-coding the rest. But any part of your model can be part of the config!\n",
        "\n",
        "We also include some metadata: we're using the MNIST dataset and a convolutional architecture. If we later work with, say, fully-connected architectures on CIFAR in the same project, this will help us separate our runs."
      ],
      "metadata": {
        "id": "P9jn32ESofay"
      }
    },
    {
      "cell_type": "code",
      "source": [
        "config = dict(\n",
        "    epochs = 5,\n",
        "    classes = 10,\n",
        "    kernels = [16, 32],\n",
        "    batch_size = 128,\n",
        "    learning_rate = 0.005,\n",
        "    dataset = \"MNIST\",\n",
        "    architecture = \"CNN\"\n",
        ")"
      ],
      "metadata": {
        "id": "w0bopLYHo6cW"
      },
      "execution_count": null,
      "outputs": []
    },
    {
      "cell_type": "markdown",
      "source": [
        "Now, let's define the overall pipeline, which is pretty typical for model-training:\n",
        "\n",
        "1. We first `make` a model, plus associated data and optimizer, then\n",
        "2. We `train` the model accordingly and finally\n",
        "3. `Test` it to see how training went.\n",
        "\n",
        "We'll implement these functions below."
      ],
      "metadata": {
        "id": "2WHGWdL2utl6"
      }
    },
    {
      "cell_type": "code",
      "source": [
        "def model_pipeline(hyperparameters):\n",
        "  \n",
        "  #Tell W&B to get started\n",
        "  with wandb.init(project=\"pytorch-demo\", config=hyperparameters):\n",
        "\n",
        "    #Access all HPs through wandb.config(), so logging matches execution\n",
        "    config = wandb.config\n",
        "\n",
        "    #Make the model, data and optimization problem\n",
        "    model, train_loader, test_loader, criterion, optimizer = make(config)\n",
        "    print(model)\n",
        "\n",
        "    #Train model\n",
        "    train(model, train_loader, criterion, optimizer, config)\n",
        "\n",
        "    #Test performance\n",
        "    test(model, test_loader)\n",
        "\n",
        "    return model\n"
      ],
      "metadata": {
        "id": "3byzM1s2uuV1"
      },
      "execution_count": null,
      "outputs": []
    },
    {
      "cell_type": "markdown",
      "source": [
        "The only difference here from a standard pipeline is that it all occurs inside the context of `wandb.init`. Calling this function sets up a line of communication between your code and our servers.\n",
        "\n",
        "Passing the `config` dictionary to `wandb.init` immediately logs all that information to us, so you'll always know what hyperparameter values you set your experiment to use.\n",
        "\n",
        "To ensure the values you chose and logged are always the ones that get used in your model, we recommend using the wandb.config copy of your object. Check the definition of `make` below to see some examples.\n",
        "\n",
        "**Side Note**: We take care to run our code in separate processes, so that any issues on our end (e.g. a giant sea monster attacks our data centers) don't crash your code. Once the issue is resolved (e.g. the Kraken returns to the deep) you can log the data with `wandb sync`."
      ],
      "metadata": {
        "id": "p0KmfEDgxWHA"
      }
    },
    {
      "cell_type": "code",
      "source": [
        "def make(config):\n",
        "  \n",
        "  #Make the data\n",
        "  train, test = get_data(train=True), get_data(train=False)\n",
        "  train_loader = make_loader(train, batch_size=config.batch_size)\n",
        "  test_loader = make_loader(test, batch_size=config.batch_size)\n",
        "\n",
        "  #Make the model\n",
        "  model = ConvNet(config.kernels, config.classes).to(device)\n",
        "\n",
        "  #Make the loss and optimizer\n",
        "  criterion = nn.CrossEntropyLoss()\n",
        "  optimizer = torch.optim.Adam(model.parameters(), lr=config.learning_rate)\n",
        "\n",
        "  return model, train_loader, test_loader, criterion, optimizer"
      ],
      "metadata": {
        "id": "wKjUh5b6yfn1"
      },
      "execution_count": 17,
      "outputs": []
    },
    {
      "cell_type": "markdown",
      "source": [
        "**Define the Data Loading and Model**\n",
        "\n",
        "Now, we need to specify how the data is loaded and what the model looks like.\n",
        "\n",
        "This part is very important, but it's no different from what it would be without `wandb`, so we won't dwell on it."
      ],
      "metadata": {
        "id": "2iaU34Xizhej"
      }
    },
    {
      "cell_type": "code",
      "source": [
        "def get_data(slice=5, train=True):\n",
        "  full_dataset = torchvision.datasets.MNIST(root=\".\", train=train, transform=torchvision.transforms.ToTensor(), download=True)\n",
        "\n",
        "  #Slice data. Equiv to slicing with[::slice]\n",
        "  sub_dataset = torch.utils.data.Subset(full_dataset, indices=range(0, len(full_dataset), slice))\n",
        "\n",
        "  return sub_dataset"
      ],
      "metadata": {
        "id": "WfmS60m3zngb"
      },
      "execution_count": 15,
      "outputs": []
    },
    {
      "cell_type": "code",
      "source": [
        "def make_loader(dataset, batch_size):\n",
        "  loader = torch.utils.data.DataLoader(dataset=dataset, batch_size=batch_size, shuffle=True, pin_memory=True, num_workers=8)\n",
        "  return loader"
      ],
      "metadata": {
        "id": "wDaZ3IPN3rtN"
      },
      "execution_count": 8,
      "outputs": []
    },
    {
      "cell_type": "markdown",
      "source": [
        "Defining the model is normally the fun part!\n",
        "\n",
        "But nothing changes with `wandb`, so we're gonna stick with a standard `ConvNet` architecture.\n",
        "\n",
        "Don't be afraid to mess around with this and try some experiments -- all your results will be logged on `wandb.ai`!"
      ],
      "metadata": {
        "id": "rAU7679B4X8v"
      }
    },
    {
      "cell_type": "code",
      "source": [
        "#Conventional and Convolutionla NN\n",
        "\n",
        "class ConvNet(nn.Module):\n",
        "\n",
        "  def __init__(self, kernels, classes=10):\n",
        "    super(ConvNet, self).__init__()\n",
        "\n",
        "    self.layer1=nn.Sequential(\n",
        "        nn.Conv2d(1, kernels[0], kernel_size=5, stride=1, padding=2),\n",
        "        nn.ReLU(),\n",
        "        nn.MaxPool2d(kernel_size=2, stride=2)\n",
        "    )\n",
        "\n",
        "    self.layer2=nn.Sequential(\n",
        "        nn.Conv2d(16, kernels[1], kernel_size=5, stride=1, padding=2),\n",
        "        nn.ReLU(),\n",
        "        nn.MaxPool2d(kernel_size=2, stride=2)\n",
        "    )\n",
        "\n",
        "    self.fc=nn.Linear(7*7*kernels[-1], classes)\n",
        "\n",
        "  def forward(self, x):\n",
        "    out = self.layer1(x)\n",
        "    out = self.layer2(out)\n",
        "    out = out.reshape(out.size(0), -1)\n",
        "    out = self.fc(out)\n",
        "    return out"
      ],
      "metadata": {
        "id": "LmOB_Jh55CVj"
      },
      "execution_count": 19,
      "outputs": []
    },
    {
      "cell_type": "markdown",
      "source": [
        "**Define Training Logic**\n",
        "\n",
        "Moving on in our `model_pipeline`, it's time to specify how we train.\n",
        "\n",
        "Two wandb functions come into play here: `watch` and `log`."
      ],
      "metadata": {
        "id": "vB_StJ6d6Mch"
      }
    },
    {
      "cell_type": "markdown",
      "source": [
        "**Step 3. Track gradients with `wandb.watch` and everything else with `wandb.log`**\n",
        "\n",
        "`wandb.watch` will log the gradients and the parameters of your model, every `log_freq` steps of training.\n",
        "\n",
        "All you need to do is call it before you start training.\n",
        "\n",
        "The rest of the training code remains the same: we iterate over epochs and batches, running forward and backward passes and applying our `optimizer`."
      ],
      "metadata": {
        "id": "yN1hGzvT6QQo"
      }
    },
    {
      "cell_type": "code",
      "source": [
        "def train(model, loader, criterion, optimizer, config):\n",
        "  \n",
        "  #Tell wandb to watch what the model gets up to: gradients, weights and more!\n",
        "  wandb.watch(model, criterion, log=\"all\", log_freq=10)\n",
        "\n",
        "  #Run training and track with wandb\n",
        "  total_batches = len(loader) * config.epochs\n",
        "  example_ct = 0\n",
        "  batch_ct = 0\n",
        "\n",
        "  for epoch in tqdm(range(config.epochs)):\n",
        "    for _, (images, labels) in enumerate(loader):\n",
        "      loss = train_batch(images, labels, model, optimizer, criterion)\n",
        "      example_ct += len(images)\n",
        "      batch_ct += 1\n",
        "\n",
        "      #Report metrics every 25th batch\n",
        "      if((batch_ct + 1) % 25) == 0:\n",
        "        train_log(loss, example_ct, epoch)"
      ],
      "metadata": {
        "id": "6sxF8kqg4u4s"
      },
      "execution_count": 10,
      "outputs": []
    },
    {
      "cell_type": "code",
      "source": [
        "def train_batch(images, labels, model, optimizer, criterion):\n",
        "  images, labels = images.to(device), labels.to(device)\n",
        "\n",
        "  #Forward pass\n",
        "  outputs = model(images)\n",
        "  loss = criterion(outputs, labels)\n",
        "\n",
        "  #Backward pass\n",
        "  optimizer.zero_grad()\n",
        "  loss.backward()\n",
        "\n",
        "  #Step with optimizer\n",
        "  optimizer.step()\n",
        "\n",
        "  return loss"
      ],
      "metadata": {
        "id": "g_41S7ZfEM4W"
      },
      "execution_count": 11,
      "outputs": []
    },
    {
      "cell_type": "markdown",
      "source": [
        "The only difference is in the logging code: where previously you might have reported metrics by printing to the terminal, now you pass the same information to `wandb.log`.\n",
        "\n",
        "`wandb.log` expects a dictionary with strings as keys. These strings identify the objects being logged, which make up the values. You can also optionally log which `step` of training you're on.\n",
        "\n",
        "**Side Note:** I like to use the number of examples the model has seen, since this makes for easier comparison across batch sizes, but you can use raw steps or batch count. For longer training runs, it can also make sense to log by `epoch`."
      ],
      "metadata": {
        "id": "cSxao3CPFfRt"
      }
    },
    {
      "cell_type": "code",
      "source": [
        "def train_log(loss, example_ct, epoch):\n",
        "  loss = float(loss)\n",
        "\n",
        "  #Log to wandb\n",
        "  wandb.log({\"epoch\": epoch, \"loss\": loss}, step=example_ct)\n",
        "  print(f\"Loss after \" + str(example_ct).zfill(5) + f\" examples: {loss:.3f}\")"
      ],
      "metadata": {
        "id": "8KIk6gliKYs4"
      },
      "execution_count": 21,
      "outputs": []
    },
    {
      "cell_type": "markdown",
      "source": [
        "**Define Testing Logic**\n",
        "\n",
        "Once the model is done training, we want to test it: run it against some fresh data from production, perhaps, or apply it to some hand-curated \"hard examples\"."
      ],
      "metadata": {
        "id": "ABiMNH1MK7E-"
      }
    },
    {
      "cell_type": "markdown",
      "source": [
        "**Step 4: Call wandb.save (Optional)**\n",
        "\n",
        "This is also a great time to save the model's architecture and final parameters to disk. For maximum compatibility, we'll export our model in the `Open Neural Network eXchange (ONNX)` format.\n",
        "\n",
        "Passing that filename to wandb.save ensures that the model parameters are saved to W&B's servers: no more losing track of which `.h5` or `.pb` corresponds to which training runs!\n",
        "\n",
        "For more advanced wandb features for storing, versioning, and distributing models, check out our Artifacts tools."
      ],
      "metadata": {
        "id": "CYZD4huPLDFe"
      }
    },
    {
      "cell_type": "code",
      "source": [
        "def test(model, test_loader):\n",
        "  model.eval()\n",
        "\n",
        "  #Run the model on some test example\n",
        "  with torch.no_grad():\n",
        "    correct, total = 0,0\n",
        "    for images, labels in test_loader:\n",
        "      images, labels = images.to(device), labels.to(device)\n",
        "      outputs = model(images)\n",
        "      _, predicted = torch.max(outputs.data, 1)\n",
        "      total += (predicted == labels).sum().item()\n",
        "\n",
        "    print(f\"Accuracy of the model on the {total} \" + f\"test images: {100 * correct / total}%\")\n",
        "\n",
        "    wandb.log({\"text_accuracy\" : correct/total})\n",
        "  \n",
        "  #Save the model in the exchangable ONNX format\n",
        "  torch.onnx.export(model, images, \"model.onnx\")\n",
        "  wandb.save(\"model.onnx\")"
      ],
      "metadata": {
        "id": "Z936qZvdLURT"
      },
      "execution_count": 23,
      "outputs": []
    },
    {
      "cell_type": "markdown",
      "metadata": {
        "id": "O84o8vJT4VTi"
      },
      "source": [
        "**Run training and watch your metrics live on wandb.ai!**"
      ]
    },
    {
      "cell_type": "markdown",
      "metadata": {
        "id": "piWbY4xO4VTj"
      },
      "source": [
        "Now that we've defined the whole pipeline and slipped in\n",
        "those few lines of W&B code,\n",
        "we're ready to run our fully-tracked experiment.\n",
        "\n",
        "We'll report a few links to you:\n",
        "our documentation,\n",
        "the Project page, which organizes all the runs in a project, and\n",
        "the Run page, where this run's results will be stored.\n",
        "\n",
        "Navigate to the Run page and check out these tabs:\n",
        "\n",
        "1. **Charts**, where the model gradients, parameter values, and loss are logged throughout training\n",
        "2. **System**, which contains a variety of system metrics, including Disk I/O utilization, CPU and GPU metrics (watch that temperature soar 🔥), and more\n",
        "3. **Logs**, which has a copy of anything pushed to standard out during training\n",
        "4. **Files**, where, once training is complete, you can click on the `model.onnx` to view our network with the [Netron model viewer](https://github.com/lutzroeder/netron).\n",
        "\n",
        "Once the run in finished\n",
        "(i.e. the `with wandb.init` block is exited),\n",
        "we'll also print a summary of the results in the cell output."
      ]
    },
    {
      "cell_type": "code",
      "source": [
        "#Build, train and analyze the model with the pipeline\n",
        "model = model_pipeline(config)"
      ],
      "metadata": {
        "colab": {
          "base_uri": "https://localhost:8080/",
          "height": 996,
          "referenced_widgets": [
            "e371d8ed35e943669e565a0b70742762",
            "bfe4396d389c41fcb4a617eec0d39ef4",
            "352e0771ecde4a1f9e4ba134f8023450",
            "c37dfb5d88c34c92a46a526f94d749c4",
            "db03a8661da741559c7f17f3f39bf990",
            "afaaa83c9c144f1fadac1bbf895ffe1d",
            "b26c7890a5d04108ba6242760eff77a0",
            "1a47bf1c0bad4d01aeb0fac871305757",
            "256be27545384540844e1dd171632cce",
            "f13969fba2fb4bd4830670083cdb9899",
            "d1efe1aa8bc54083b988bdbeba118f2c",
            "b253a3f222e24422aa387a0fef4fbf10",
            "05833fa533ac449b8385e2a11ac59672",
            "bb95e8c1f7c14a69ab16c1db3de33baf",
            "ce73757fd3ab487291aeece56bc4a6c3",
            "12e1820d45d24a3da4fec9de45ecd498",
            "54c834abf869479d8ff883082a245825",
            "eb917c611ce94903822edab7e27379a3",
            "5a4ba27052a84cbf83518c88af68a300"
          ]
        },
        "id": "TkvJwOSTK-7E",
        "outputId": "0806a27e-c46c-4b69-9afb-fc641843b638"
      },
      "execution_count": 24,
      "outputs": [
        {
          "output_type": "display_data",
          "data": {
            "text/plain": [
              "<IPython.core.display.HTML object>"
            ],
            "text/html": [
              "Tracking run with wandb version 0.12.11"
            ]
          },
          "metadata": {}
        },
        {
          "output_type": "display_data",
          "data": {
            "text/plain": [
              "<IPython.core.display.HTML object>"
            ],
            "text/html": [
              "Run data is saved locally in <code>/content/wandb/run-20220325_182206-uikxxukd</code>"
            ]
          },
          "metadata": {}
        },
        {
          "output_type": "display_data",
          "data": {
            "text/plain": [
              "<IPython.core.display.HTML object>"
            ],
            "text/html": [
              "Syncing run <strong><a href=\"https://wandb.ai/sahug/pytorch-demo/runs/uikxxukd\" target=\"_blank\">stoic-cloud-6</a></strong> to <a href=\"https://wandb.ai/sahug/pytorch-demo\" target=\"_blank\">Weights & Biases</a> (<a href=\"https://wandb.me/run\" target=\"_blank\">docs</a>)<br/>"
            ]
          },
          "metadata": {}
        },
        {
          "output_type": "stream",
          "name": "stdout",
          "text": [
            "ConvNet(\n",
            "  (layer1): Sequential(\n",
            "    (0): Conv2d(1, 16, kernel_size=(5, 5), stride=(1, 1), padding=(2, 2))\n",
            "    (1): ReLU()\n",
            "    (2): MaxPool2d(kernel_size=2, stride=2, padding=0, dilation=1, ceil_mode=False)\n",
            "  )\n",
            "  (layer2): Sequential(\n",
            "    (0): Conv2d(16, 32, kernel_size=(5, 5), stride=(1, 1), padding=(2, 2))\n",
            "    (1): ReLU()\n",
            "    (2): MaxPool2d(kernel_size=2, stride=2, padding=0, dilation=1, ceil_mode=False)\n",
            "  )\n",
            "  (fc): Linear(in_features=1568, out_features=10, bias=True)\n",
            ")\n"
          ]
        },
        {
          "output_type": "stream",
          "name": "stderr",
          "text": [
            "/usr/local/lib/python3.7/dist-packages/torch/utils/data/dataloader.py:481: UserWarning: This DataLoader will create 8 worker processes in total. Our suggested max number of worker in current system is 2, which is smaller than what this DataLoader is going to create. Please be aware that excessive worker creation might get DataLoader running slow or even freeze, lower the worker number to avoid potential slowness/freeze if necessary.\n",
            "  cpuset_checked))\n"
          ]
        },
        {
          "output_type": "display_data",
          "data": {
            "text/plain": [
              "  0%|          | 0/5 [00:00<?, ?it/s]"
            ],
            "application/vnd.jupyter.widget-view+json": {
              "version_major": 2,
              "version_minor": 0,
              "model_id": "e371d8ed35e943669e565a0b70742762"
            }
          },
          "metadata": {}
        },
        {
          "output_type": "stream",
          "name": "stdout",
          "text": [
            "Loss after 03072 examples: 0.572\n",
            "Loss after 06272 examples: 0.207\n",
            "Loss after 09472 examples: 0.168\n",
            "Loss after 12640 examples: 0.208\n",
            "Loss after 15840 examples: 0.076\n",
            "Loss after 19040 examples: 0.101\n",
            "Loss after 22240 examples: 0.047\n",
            "Loss after 25408 examples: 0.115\n",
            "Loss after 28608 examples: 0.069\n",
            "Loss after 31808 examples: 0.097\n",
            "Loss after 35008 examples: 0.028\n",
            "Loss after 38176 examples: 0.038\n",
            "Loss after 41376 examples: 0.057\n",
            "Loss after 44576 examples: 0.015\n",
            "Loss after 47776 examples: 0.058\n",
            "Loss after 50944 examples: 0.024\n",
            "Loss after 54144 examples: 0.049\n",
            "Loss after 57344 examples: 0.063\n",
            "Accuracy of the model on the 1951 test images: 0.0%\n",
            "\n"
          ]
        },
        {
          "output_type": "display_data",
          "data": {
            "text/plain": [
              "<IPython.core.display.HTML object>"
            ],
            "text/html": [
              "Waiting for W&B process to finish... <strong style=\"color:green\">(success).</strong>"
            ]
          },
          "metadata": {}
        },
        {
          "output_type": "display_data",
          "data": {
            "text/plain": [
              "VBox(children=(Label(value='0.112 MB of 0.112 MB uploaded (0.000 MB deduped)\\r'), FloatProgress(value=1.0, max…"
            ],
            "application/vnd.jupyter.widget-view+json": {
              "version_major": 2,
              "version_minor": 0,
              "model_id": "b253a3f222e24422aa387a0fef4fbf10"
            }
          },
          "metadata": {}
        },
        {
          "output_type": "display_data",
          "data": {
            "text/plain": [
              "<IPython.core.display.HTML object>"
            ],
            "text/html": [
              "<style>\n",
              "    table.wandb td:nth-child(1) { padding: 0 10px; text-align: right }\n",
              "    .wandb-row { display: flex; flex-direction: row; flex-wrap: wrap; width: 100% }\n",
              "    .wandb-col { display: flex; flex-direction: column; flex-basis: 100%; flex: 1; padding: 10px; }\n",
              "    </style>\n",
              "<div class=\"wandb-row\"><div class=\"wandb-col\"><h3>Run history:</h3><br/><table class=\"wandb\"><tr><td>epoch</td><td>▁▁▁▃▃▃▃▅▅▅▅▆▆▆▆███</td></tr><tr><td>loss</td><td>█▃▃▃▂▂▁▂▂▂▁▁▂▁▂▁▁▂</td></tr><tr><td>text_accuracy</td><td>▁</td></tr></table><br/></div><div class=\"wandb-col\"><h3>Run summary:</h3><br/><table class=\"wandb\"><tr><td>epoch</td><td>4</td></tr><tr><td>loss</td><td>0.06348</td></tr><tr><td>text_accuracy</td><td>0.0</td></tr></table><br/></div></div>"
            ]
          },
          "metadata": {}
        },
        {
          "output_type": "display_data",
          "data": {
            "text/plain": [
              "<IPython.core.display.HTML object>"
            ],
            "text/html": [
              "Synced <strong style=\"color:#cdcd00\">stoic-cloud-6</strong>: <a href=\"https://wandb.ai/sahug/pytorch-demo/runs/uikxxukd\" target=\"_blank\">https://wandb.ai/sahug/pytorch-demo/runs/uikxxukd</a><br/>Synced 5 W&B file(s), 0 media file(s), 0 artifact file(s) and 1 other file(s)"
            ]
          },
          "metadata": {}
        },
        {
          "output_type": "display_data",
          "data": {
            "text/plain": [
              "<IPython.core.display.HTML object>"
            ],
            "text/html": [
              "Find logs at: <code>./wandb/run-20220325_182206-uikxxukd/logs</code>"
            ]
          },
          "metadata": {}
        }
      ]
    },
    {
      "cell_type": "markdown",
      "source": [
        "Now we can go to the link for Synced stoic-cloud-6 and look at all the metrices collected in the WANDB website."
      ],
      "metadata": {
        "id": "9eid5JObVnaP"
      }
    }
  ]
}