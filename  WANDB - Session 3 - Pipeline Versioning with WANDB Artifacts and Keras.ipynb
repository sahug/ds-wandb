{
  "nbformat": 4,
  "nbformat_minor": 0,
  "metadata": {
    "colab": {
      "name": " WANDB - Session 3 - Pipeline Versioning with WANDB Artifacts and Keras.ipynb",
      "provenance": [],
      "authorship_tag": "ABX9TyOydvgP0o3sGbb0529LIK0q",
      "include_colab_link": true
    },
    "kernelspec": {
      "name": "python3",
      "display_name": "Python 3"
    },
    "language_info": {
      "name": "python"
    },
    "widgets": {
      "application/vnd.jupyter.widget-state+json": {
        "106d05f858854964809ebd52e93aa936": {
          "model_module": "@jupyter-widgets/controls",
          "model_name": "VBoxModel",
          "model_module_version": "1.5.0",
          "state": {
            "_dom_classes": [],
            "_model_module": "@jupyter-widgets/controls",
            "_model_module_version": "1.5.0",
            "_model_name": "VBoxModel",
            "_view_count": null,
            "_view_module": "@jupyter-widgets/controls",
            "_view_module_version": "1.5.0",
            "_view_name": "VBoxView",
            "box_style": "",
            "children": [
              "IPY_MODEL_ac6d8ea7909145ffafdf369e0de00888",
              "IPY_MODEL_9e01b14a1c59481ba822e21491e30dbf"
            ],
            "layout": "IPY_MODEL_35b48031d679418cb262e5ecc68fb044"
          }
        },
        "ac6d8ea7909145ffafdf369e0de00888": {
          "model_module": "@jupyter-widgets/controls",
          "model_name": "LabelModel",
          "model_module_version": "1.5.0",
          "state": {
            "_dom_classes": [],
            "_model_module": "@jupyter-widgets/controls",
            "_model_module_version": "1.5.0",
            "_model_name": "LabelModel",
            "_view_count": null,
            "_view_module": "@jupyter-widgets/controls",
            "_view_module_version": "1.5.0",
            "_view_name": "LabelView",
            "description": "",
            "description_tooltip": null,
            "layout": "IPY_MODEL_ea76a51b0c2342629edb06d34e81b924",
            "placeholder": "​",
            "style": "IPY_MODEL_daccbba3292c4811b46fcc96d112e785",
            "value": "52.414 MB of 52.414 MB uploaded (0.000 MB deduped)\r"
          }
        },
        "9e01b14a1c59481ba822e21491e30dbf": {
          "model_module": "@jupyter-widgets/controls",
          "model_name": "FloatProgressModel",
          "model_module_version": "1.5.0",
          "state": {
            "_dom_classes": [],
            "_model_module": "@jupyter-widgets/controls",
            "_model_module_version": "1.5.0",
            "_model_name": "FloatProgressModel",
            "_view_count": null,
            "_view_module": "@jupyter-widgets/controls",
            "_view_module_version": "1.5.0",
            "_view_name": "ProgressView",
            "bar_style": "",
            "description": "",
            "description_tooltip": null,
            "layout": "IPY_MODEL_f12c60507e09476ba000d89dc98a3237",
            "max": 1,
            "min": 0,
            "orientation": "horizontal",
            "style": "IPY_MODEL_5e0df77e050249cc808e729dbc91839d",
            "value": 1
          }
        },
        "35b48031d679418cb262e5ecc68fb044": {
          "model_module": "@jupyter-widgets/base",
          "model_name": "LayoutModel",
          "model_module_version": "1.2.0",
          "state": {
            "_model_module": "@jupyter-widgets/base",
            "_model_module_version": "1.2.0",
            "_model_name": "LayoutModel",
            "_view_count": null,
            "_view_module": "@jupyter-widgets/base",
            "_view_module_version": "1.2.0",
            "_view_name": "LayoutView",
            "align_content": null,
            "align_items": null,
            "align_self": null,
            "border": null,
            "bottom": null,
            "display": null,
            "flex": null,
            "flex_flow": null,
            "grid_area": null,
            "grid_auto_columns": null,
            "grid_auto_flow": null,
            "grid_auto_rows": null,
            "grid_column": null,
            "grid_gap": null,
            "grid_row": null,
            "grid_template_areas": null,
            "grid_template_columns": null,
            "grid_template_rows": null,
            "height": null,
            "justify_content": null,
            "justify_items": null,
            "left": null,
            "margin": null,
            "max_height": null,
            "max_width": null,
            "min_height": null,
            "min_width": null,
            "object_fit": null,
            "object_position": null,
            "order": null,
            "overflow": null,
            "overflow_x": null,
            "overflow_y": null,
            "padding": null,
            "right": null,
            "top": null,
            "visibility": null,
            "width": null
          }
        },
        "ea76a51b0c2342629edb06d34e81b924": {
          "model_module": "@jupyter-widgets/base",
          "model_name": "LayoutModel",
          "model_module_version": "1.2.0",
          "state": {
            "_model_module": "@jupyter-widgets/base",
            "_model_module_version": "1.2.0",
            "_model_name": "LayoutModel",
            "_view_count": null,
            "_view_module": "@jupyter-widgets/base",
            "_view_module_version": "1.2.0",
            "_view_name": "LayoutView",
            "align_content": null,
            "align_items": null,
            "align_self": null,
            "border": null,
            "bottom": null,
            "display": null,
            "flex": null,
            "flex_flow": null,
            "grid_area": null,
            "grid_auto_columns": null,
            "grid_auto_flow": null,
            "grid_auto_rows": null,
            "grid_column": null,
            "grid_gap": null,
            "grid_row": null,
            "grid_template_areas": null,
            "grid_template_columns": null,
            "grid_template_rows": null,
            "height": null,
            "justify_content": null,
            "justify_items": null,
            "left": null,
            "margin": null,
            "max_height": null,
            "max_width": null,
            "min_height": null,
            "min_width": null,
            "object_fit": null,
            "object_position": null,
            "order": null,
            "overflow": null,
            "overflow_x": null,
            "overflow_y": null,
            "padding": null,
            "right": null,
            "top": null,
            "visibility": null,
            "width": null
          }
        },
        "daccbba3292c4811b46fcc96d112e785": {
          "model_module": "@jupyter-widgets/controls",
          "model_name": "DescriptionStyleModel",
          "model_module_version": "1.5.0",
          "state": {
            "_model_module": "@jupyter-widgets/controls",
            "_model_module_version": "1.5.0",
            "_model_name": "DescriptionStyleModel",
            "_view_count": null,
            "_view_module": "@jupyter-widgets/base",
            "_view_module_version": "1.2.0",
            "_view_name": "StyleView",
            "description_width": ""
          }
        },
        "f12c60507e09476ba000d89dc98a3237": {
          "model_module": "@jupyter-widgets/base",
          "model_name": "LayoutModel",
          "model_module_version": "1.2.0",
          "state": {
            "_model_module": "@jupyter-widgets/base",
            "_model_module_version": "1.2.0",
            "_model_name": "LayoutModel",
            "_view_count": null,
            "_view_module": "@jupyter-widgets/base",
            "_view_module_version": "1.2.0",
            "_view_name": "LayoutView",
            "align_content": null,
            "align_items": null,
            "align_self": null,
            "border": null,
            "bottom": null,
            "display": null,
            "flex": null,
            "flex_flow": null,
            "grid_area": null,
            "grid_auto_columns": null,
            "grid_auto_flow": null,
            "grid_auto_rows": null,
            "grid_column": null,
            "grid_gap": null,
            "grid_row": null,
            "grid_template_areas": null,
            "grid_template_columns": null,
            "grid_template_rows": null,
            "height": null,
            "justify_content": null,
            "justify_items": null,
            "left": null,
            "margin": null,
            "max_height": null,
            "max_width": null,
            "min_height": null,
            "min_width": null,
            "object_fit": null,
            "object_position": null,
            "order": null,
            "overflow": null,
            "overflow_x": null,
            "overflow_y": null,
            "padding": null,
            "right": null,
            "top": null,
            "visibility": null,
            "width": null
          }
        },
        "5e0df77e050249cc808e729dbc91839d": {
          "model_module": "@jupyter-widgets/controls",
          "model_name": "ProgressStyleModel",
          "model_module_version": "1.5.0",
          "state": {
            "_model_module": "@jupyter-widgets/controls",
            "_model_module_version": "1.5.0",
            "_model_name": "ProgressStyleModel",
            "_view_count": null,
            "_view_module": "@jupyter-widgets/base",
            "_view_module_version": "1.2.0",
            "_view_name": "StyleView",
            "bar_color": null,
            "description_width": ""
          }
        },
        "696bcae0f6d248739e4f722d4c903ea6": {
          "model_module": "@jupyter-widgets/controls",
          "model_name": "VBoxModel",
          "model_module_version": "1.5.0",
          "state": {
            "_dom_classes": [],
            "_model_module": "@jupyter-widgets/controls",
            "_model_module_version": "1.5.0",
            "_model_name": "VBoxModel",
            "_view_count": null,
            "_view_module": "@jupyter-widgets/controls",
            "_view_module_version": "1.5.0",
            "_view_name": "VBoxView",
            "box_style": "",
            "children": [
              "IPY_MODEL_3c694e64f2094443a4c6187ef0a6a8a9",
              "IPY_MODEL_b97c7ec0264e4769bdf0513c2ccc91a1"
            ],
            "layout": "IPY_MODEL_f8a5ee365f01467bb67e711ee0c3cd24"
          }
        },
        "3c694e64f2094443a4c6187ef0a6a8a9": {
          "model_module": "@jupyter-widgets/controls",
          "model_name": "LabelModel",
          "model_module_version": "1.5.0",
          "state": {
            "_dom_classes": [],
            "_model_module": "@jupyter-widgets/controls",
            "_model_module_version": "1.5.0",
            "_model_name": "LabelModel",
            "_view_count": null,
            "_view_module": "@jupyter-widgets/controls",
            "_view_module_version": "1.5.0",
            "_view_name": "LabelView",
            "description": "",
            "description_tooltip": null,
            "layout": "IPY_MODEL_60c4beecad8c47e7bf86ceef1da3b606",
            "placeholder": "​",
            "style": "IPY_MODEL_8bc1783442a74d49a2415a50828d49ae",
            "value": "212.030 MB of 212.030 MB uploaded (0.000 MB deduped)\r"
          }
        },
        "b97c7ec0264e4769bdf0513c2ccc91a1": {
          "model_module": "@jupyter-widgets/controls",
          "model_name": "FloatProgressModel",
          "model_module_version": "1.5.0",
          "state": {
            "_dom_classes": [],
            "_model_module": "@jupyter-widgets/controls",
            "_model_module_version": "1.5.0",
            "_model_name": "FloatProgressModel",
            "_view_count": null,
            "_view_module": "@jupyter-widgets/controls",
            "_view_module_version": "1.5.0",
            "_view_name": "ProgressView",
            "bar_style": "",
            "description": "",
            "description_tooltip": null,
            "layout": "IPY_MODEL_b6b6f1776d56419a89d4eee0ac6e9ec1",
            "max": 1,
            "min": 0,
            "orientation": "horizontal",
            "style": "IPY_MODEL_d52f4180de054b3a9d758f87e5d0cfae",
            "value": 1
          }
        },
        "f8a5ee365f01467bb67e711ee0c3cd24": {
          "model_module": "@jupyter-widgets/base",
          "model_name": "LayoutModel",
          "model_module_version": "1.2.0",
          "state": {
            "_model_module": "@jupyter-widgets/base",
            "_model_module_version": "1.2.0",
            "_model_name": "LayoutModel",
            "_view_count": null,
            "_view_module": "@jupyter-widgets/base",
            "_view_module_version": "1.2.0",
            "_view_name": "LayoutView",
            "align_content": null,
            "align_items": null,
            "align_self": null,
            "border": null,
            "bottom": null,
            "display": null,
            "flex": null,
            "flex_flow": null,
            "grid_area": null,
            "grid_auto_columns": null,
            "grid_auto_flow": null,
            "grid_auto_rows": null,
            "grid_column": null,
            "grid_gap": null,
            "grid_row": null,
            "grid_template_areas": null,
            "grid_template_columns": null,
            "grid_template_rows": null,
            "height": null,
            "justify_content": null,
            "justify_items": null,
            "left": null,
            "margin": null,
            "max_height": null,
            "max_width": null,
            "min_height": null,
            "min_width": null,
            "object_fit": null,
            "object_position": null,
            "order": null,
            "overflow": null,
            "overflow_x": null,
            "overflow_y": null,
            "padding": null,
            "right": null,
            "top": null,
            "visibility": null,
            "width": null
          }
        },
        "60c4beecad8c47e7bf86ceef1da3b606": {
          "model_module": "@jupyter-widgets/base",
          "model_name": "LayoutModel",
          "model_module_version": "1.2.0",
          "state": {
            "_model_module": "@jupyter-widgets/base",
            "_model_module_version": "1.2.0",
            "_model_name": "LayoutModel",
            "_view_count": null,
            "_view_module": "@jupyter-widgets/base",
            "_view_module_version": "1.2.0",
            "_view_name": "LayoutView",
            "align_content": null,
            "align_items": null,
            "align_self": null,
            "border": null,
            "bottom": null,
            "display": null,
            "flex": null,
            "flex_flow": null,
            "grid_area": null,
            "grid_auto_columns": null,
            "grid_auto_flow": null,
            "grid_auto_rows": null,
            "grid_column": null,
            "grid_gap": null,
            "grid_row": null,
            "grid_template_areas": null,
            "grid_template_columns": null,
            "grid_template_rows": null,
            "height": null,
            "justify_content": null,
            "justify_items": null,
            "left": null,
            "margin": null,
            "max_height": null,
            "max_width": null,
            "min_height": null,
            "min_width": null,
            "object_fit": null,
            "object_position": null,
            "order": null,
            "overflow": null,
            "overflow_x": null,
            "overflow_y": null,
            "padding": null,
            "right": null,
            "top": null,
            "visibility": null,
            "width": null
          }
        },
        "8bc1783442a74d49a2415a50828d49ae": {
          "model_module": "@jupyter-widgets/controls",
          "model_name": "DescriptionStyleModel",
          "model_module_version": "1.5.0",
          "state": {
            "_model_module": "@jupyter-widgets/controls",
            "_model_module_version": "1.5.0",
            "_model_name": "DescriptionStyleModel",
            "_view_count": null,
            "_view_module": "@jupyter-widgets/base",
            "_view_module_version": "1.2.0",
            "_view_name": "StyleView",
            "description_width": ""
          }
        },
        "b6b6f1776d56419a89d4eee0ac6e9ec1": {
          "model_module": "@jupyter-widgets/base",
          "model_name": "LayoutModel",
          "model_module_version": "1.2.0",
          "state": {
            "_model_module": "@jupyter-widgets/base",
            "_model_module_version": "1.2.0",
            "_model_name": "LayoutModel",
            "_view_count": null,
            "_view_module": "@jupyter-widgets/base",
            "_view_module_version": "1.2.0",
            "_view_name": "LayoutView",
            "align_content": null,
            "align_items": null,
            "align_self": null,
            "border": null,
            "bottom": null,
            "display": null,
            "flex": null,
            "flex_flow": null,
            "grid_area": null,
            "grid_auto_columns": null,
            "grid_auto_flow": null,
            "grid_auto_rows": null,
            "grid_column": null,
            "grid_gap": null,
            "grid_row": null,
            "grid_template_areas": null,
            "grid_template_columns": null,
            "grid_template_rows": null,
            "height": null,
            "justify_content": null,
            "justify_items": null,
            "left": null,
            "margin": null,
            "max_height": null,
            "max_width": null,
            "min_height": null,
            "min_width": null,
            "object_fit": null,
            "object_position": null,
            "order": null,
            "overflow": null,
            "overflow_x": null,
            "overflow_y": null,
            "padding": null,
            "right": null,
            "top": null,
            "visibility": null,
            "width": null
          }
        },
        "d52f4180de054b3a9d758f87e5d0cfae": {
          "model_module": "@jupyter-widgets/controls",
          "model_name": "ProgressStyleModel",
          "model_module_version": "1.5.0",
          "state": {
            "_model_module": "@jupyter-widgets/controls",
            "_model_module_version": "1.5.0",
            "_model_name": "ProgressStyleModel",
            "_view_count": null,
            "_view_module": "@jupyter-widgets/base",
            "_view_module_version": "1.2.0",
            "_view_name": "StyleView",
            "bar_color": null,
            "description_width": ""
          }
        },
        "7cce8376a9874061be1177e67abcf16b": {
          "model_module": "@jupyter-widgets/controls",
          "model_name": "VBoxModel",
          "model_module_version": "1.5.0",
          "state": {
            "_dom_classes": [],
            "_model_module": "@jupyter-widgets/controls",
            "_model_module_version": "1.5.0",
            "_model_name": "VBoxModel",
            "_view_count": null,
            "_view_module": "@jupyter-widgets/controls",
            "_view_module_version": "1.5.0",
            "_view_name": "VBoxView",
            "box_style": "",
            "children": [
              "IPY_MODEL_d29fc75bbcce4294b5a6646acf90e3a9",
              "IPY_MODEL_663f8a7b35ac49c9b395395859f77640"
            ],
            "layout": "IPY_MODEL_c94b37db4abf4ea581155de7a59e3b4f"
          }
        },
        "d29fc75bbcce4294b5a6646acf90e3a9": {
          "model_module": "@jupyter-widgets/controls",
          "model_name": "LabelModel",
          "model_module_version": "1.5.0",
          "state": {
            "_dom_classes": [],
            "_model_module": "@jupyter-widgets/controls",
            "_model_module_version": "1.5.0",
            "_model_name": "LabelModel",
            "_view_count": null,
            "_view_module": "@jupyter-widgets/controls",
            "_view_module_version": "1.5.0",
            "_view_name": "LabelView",
            "description": "",
            "description_tooltip": null,
            "layout": "IPY_MODEL_8342d3aae2a6464baea75a9de5583436",
            "placeholder": "​",
            "style": "IPY_MODEL_b9bd9c9b562540ac9853ada5995c21cc",
            "value": "0.313 MB of 0.313 MB uploaded (0.000 MB deduped)\r"
          }
        },
        "663f8a7b35ac49c9b395395859f77640": {
          "model_module": "@jupyter-widgets/controls",
          "model_name": "FloatProgressModel",
          "model_module_version": "1.5.0",
          "state": {
            "_dom_classes": [],
            "_model_module": "@jupyter-widgets/controls",
            "_model_module_version": "1.5.0",
            "_model_name": "FloatProgressModel",
            "_view_count": null,
            "_view_module": "@jupyter-widgets/controls",
            "_view_module_version": "1.5.0",
            "_view_name": "ProgressView",
            "bar_style": "",
            "description": "",
            "description_tooltip": null,
            "layout": "IPY_MODEL_82b1bf8d2b814d789273d35f5b75f143",
            "max": 1,
            "min": 0,
            "orientation": "horizontal",
            "style": "IPY_MODEL_fbe13fd43bb5419282f73e64f2af66ab",
            "value": 1
          }
        },
        "c94b37db4abf4ea581155de7a59e3b4f": {
          "model_module": "@jupyter-widgets/base",
          "model_name": "LayoutModel",
          "model_module_version": "1.2.0",
          "state": {
            "_model_module": "@jupyter-widgets/base",
            "_model_module_version": "1.2.0",
            "_model_name": "LayoutModel",
            "_view_count": null,
            "_view_module": "@jupyter-widgets/base",
            "_view_module_version": "1.2.0",
            "_view_name": "LayoutView",
            "align_content": null,
            "align_items": null,
            "align_self": null,
            "border": null,
            "bottom": null,
            "display": null,
            "flex": null,
            "flex_flow": null,
            "grid_area": null,
            "grid_auto_columns": null,
            "grid_auto_flow": null,
            "grid_auto_rows": null,
            "grid_column": null,
            "grid_gap": null,
            "grid_row": null,
            "grid_template_areas": null,
            "grid_template_columns": null,
            "grid_template_rows": null,
            "height": null,
            "justify_content": null,
            "justify_items": null,
            "left": null,
            "margin": null,
            "max_height": null,
            "max_width": null,
            "min_height": null,
            "min_width": null,
            "object_fit": null,
            "object_position": null,
            "order": null,
            "overflow": null,
            "overflow_x": null,
            "overflow_y": null,
            "padding": null,
            "right": null,
            "top": null,
            "visibility": null,
            "width": null
          }
        },
        "8342d3aae2a6464baea75a9de5583436": {
          "model_module": "@jupyter-widgets/base",
          "model_name": "LayoutModel",
          "model_module_version": "1.2.0",
          "state": {
            "_model_module": "@jupyter-widgets/base",
            "_model_module_version": "1.2.0",
            "_model_name": "LayoutModel",
            "_view_count": null,
            "_view_module": "@jupyter-widgets/base",
            "_view_module_version": "1.2.0",
            "_view_name": "LayoutView",
            "align_content": null,
            "align_items": null,
            "align_self": null,
            "border": null,
            "bottom": null,
            "display": null,
            "flex": null,
            "flex_flow": null,
            "grid_area": null,
            "grid_auto_columns": null,
            "grid_auto_flow": null,
            "grid_auto_rows": null,
            "grid_column": null,
            "grid_gap": null,
            "grid_row": null,
            "grid_template_areas": null,
            "grid_template_columns": null,
            "grid_template_rows": null,
            "height": null,
            "justify_content": null,
            "justify_items": null,
            "left": null,
            "margin": null,
            "max_height": null,
            "max_width": null,
            "min_height": null,
            "min_width": null,
            "object_fit": null,
            "object_position": null,
            "order": null,
            "overflow": null,
            "overflow_x": null,
            "overflow_y": null,
            "padding": null,
            "right": null,
            "top": null,
            "visibility": null,
            "width": null
          }
        },
        "b9bd9c9b562540ac9853ada5995c21cc": {
          "model_module": "@jupyter-widgets/controls",
          "model_name": "DescriptionStyleModel",
          "model_module_version": "1.5.0",
          "state": {
            "_model_module": "@jupyter-widgets/controls",
            "_model_module_version": "1.5.0",
            "_model_name": "DescriptionStyleModel",
            "_view_count": null,
            "_view_module": "@jupyter-widgets/base",
            "_view_module_version": "1.2.0",
            "_view_name": "StyleView",
            "description_width": ""
          }
        },
        "82b1bf8d2b814d789273d35f5b75f143": {
          "model_module": "@jupyter-widgets/base",
          "model_name": "LayoutModel",
          "model_module_version": "1.2.0",
          "state": {
            "_model_module": "@jupyter-widgets/base",
            "_model_module_version": "1.2.0",
            "_model_name": "LayoutModel",
            "_view_count": null,
            "_view_module": "@jupyter-widgets/base",
            "_view_module_version": "1.2.0",
            "_view_name": "LayoutView",
            "align_content": null,
            "align_items": null,
            "align_self": null,
            "border": null,
            "bottom": null,
            "display": null,
            "flex": null,
            "flex_flow": null,
            "grid_area": null,
            "grid_auto_columns": null,
            "grid_auto_flow": null,
            "grid_auto_rows": null,
            "grid_column": null,
            "grid_gap": null,
            "grid_row": null,
            "grid_template_areas": null,
            "grid_template_columns": null,
            "grid_template_rows": null,
            "height": null,
            "justify_content": null,
            "justify_items": null,
            "left": null,
            "margin": null,
            "max_height": null,
            "max_width": null,
            "min_height": null,
            "min_width": null,
            "object_fit": null,
            "object_position": null,
            "order": null,
            "overflow": null,
            "overflow_x": null,
            "overflow_y": null,
            "padding": null,
            "right": null,
            "top": null,
            "visibility": null,
            "width": null
          }
        },
        "fbe13fd43bb5419282f73e64f2af66ab": {
          "model_module": "@jupyter-widgets/controls",
          "model_name": "ProgressStyleModel",
          "model_module_version": "1.5.0",
          "state": {
            "_model_module": "@jupyter-widgets/controls",
            "_model_module_version": "1.5.0",
            "_model_name": "ProgressStyleModel",
            "_view_count": null,
            "_view_module": "@jupyter-widgets/base",
            "_view_module_version": "1.2.0",
            "_view_name": "StyleView",
            "bar_color": null,
            "description_width": ""
          }
        },
        "1a39439c19bf47caaaa258949141cdc1": {
          "model_module": "@jupyter-widgets/controls",
          "model_name": "VBoxModel",
          "model_module_version": "1.5.0",
          "state": {
            "_dom_classes": [],
            "_model_module": "@jupyter-widgets/controls",
            "_model_module_version": "1.5.0",
            "_model_name": "VBoxModel",
            "_view_count": null,
            "_view_module": "@jupyter-widgets/controls",
            "_view_module_version": "1.5.0",
            "_view_name": "VBoxView",
            "box_style": "",
            "children": [
              "IPY_MODEL_0c95202a1ff1401ab09bfb8a8d26c15c",
              "IPY_MODEL_cd992e8914cf40659afc80e1af491acb"
            ],
            "layout": "IPY_MODEL_ac61c94b53b445499bb88ab2a7a366b8"
          }
        },
        "0c95202a1ff1401ab09bfb8a8d26c15c": {
          "model_module": "@jupyter-widgets/controls",
          "model_name": "LabelModel",
          "model_module_version": "1.5.0",
          "state": {
            "_dom_classes": [],
            "_model_module": "@jupyter-widgets/controls",
            "_model_module_version": "1.5.0",
            "_model_name": "LabelModel",
            "_view_count": null,
            "_view_module": "@jupyter-widgets/controls",
            "_view_module_version": "1.5.0",
            "_view_name": "LabelView",
            "description": "",
            "description_tooltip": null,
            "layout": "IPY_MODEL_d219e3db1a9e4fba941028089f33d520",
            "placeholder": "​",
            "style": "IPY_MODEL_995dd01efe9c468cbc0433f3eae1c732",
            "value": "0.946 MB of 0.946 MB uploaded (0.000 MB deduped)\r"
          }
        },
        "cd992e8914cf40659afc80e1af491acb": {
          "model_module": "@jupyter-widgets/controls",
          "model_name": "FloatProgressModel",
          "model_module_version": "1.5.0",
          "state": {
            "_dom_classes": [],
            "_model_module": "@jupyter-widgets/controls",
            "_model_module_version": "1.5.0",
            "_model_name": "FloatProgressModel",
            "_view_count": null,
            "_view_module": "@jupyter-widgets/controls",
            "_view_module_version": "1.5.0",
            "_view_name": "ProgressView",
            "bar_style": "",
            "description": "",
            "description_tooltip": null,
            "layout": "IPY_MODEL_8c0ce284b47a4fe48101d31d1a68c475",
            "max": 1,
            "min": 0,
            "orientation": "horizontal",
            "style": "IPY_MODEL_df07d8c2c662469eb7de8735a58d3d8a",
            "value": 1
          }
        },
        "ac61c94b53b445499bb88ab2a7a366b8": {
          "model_module": "@jupyter-widgets/base",
          "model_name": "LayoutModel",
          "model_module_version": "1.2.0",
          "state": {
            "_model_module": "@jupyter-widgets/base",
            "_model_module_version": "1.2.0",
            "_model_name": "LayoutModel",
            "_view_count": null,
            "_view_module": "@jupyter-widgets/base",
            "_view_module_version": "1.2.0",
            "_view_name": "LayoutView",
            "align_content": null,
            "align_items": null,
            "align_self": null,
            "border": null,
            "bottom": null,
            "display": null,
            "flex": null,
            "flex_flow": null,
            "grid_area": null,
            "grid_auto_columns": null,
            "grid_auto_flow": null,
            "grid_auto_rows": null,
            "grid_column": null,
            "grid_gap": null,
            "grid_row": null,
            "grid_template_areas": null,
            "grid_template_columns": null,
            "grid_template_rows": null,
            "height": null,
            "justify_content": null,
            "justify_items": null,
            "left": null,
            "margin": null,
            "max_height": null,
            "max_width": null,
            "min_height": null,
            "min_width": null,
            "object_fit": null,
            "object_position": null,
            "order": null,
            "overflow": null,
            "overflow_x": null,
            "overflow_y": null,
            "padding": null,
            "right": null,
            "top": null,
            "visibility": null,
            "width": null
          }
        },
        "d219e3db1a9e4fba941028089f33d520": {
          "model_module": "@jupyter-widgets/base",
          "model_name": "LayoutModel",
          "model_module_version": "1.2.0",
          "state": {
            "_model_module": "@jupyter-widgets/base",
            "_model_module_version": "1.2.0",
            "_model_name": "LayoutModel",
            "_view_count": null,
            "_view_module": "@jupyter-widgets/base",
            "_view_module_version": "1.2.0",
            "_view_name": "LayoutView",
            "align_content": null,
            "align_items": null,
            "align_self": null,
            "border": null,
            "bottom": null,
            "display": null,
            "flex": null,
            "flex_flow": null,
            "grid_area": null,
            "grid_auto_columns": null,
            "grid_auto_flow": null,
            "grid_auto_rows": null,
            "grid_column": null,
            "grid_gap": null,
            "grid_row": null,
            "grid_template_areas": null,
            "grid_template_columns": null,
            "grid_template_rows": null,
            "height": null,
            "justify_content": null,
            "justify_items": null,
            "left": null,
            "margin": null,
            "max_height": null,
            "max_width": null,
            "min_height": null,
            "min_width": null,
            "object_fit": null,
            "object_position": null,
            "order": null,
            "overflow": null,
            "overflow_x": null,
            "overflow_y": null,
            "padding": null,
            "right": null,
            "top": null,
            "visibility": null,
            "width": null
          }
        },
        "995dd01efe9c468cbc0433f3eae1c732": {
          "model_module": "@jupyter-widgets/controls",
          "model_name": "DescriptionStyleModel",
          "model_module_version": "1.5.0",
          "state": {
            "_model_module": "@jupyter-widgets/controls",
            "_model_module_version": "1.5.0",
            "_model_name": "DescriptionStyleModel",
            "_view_count": null,
            "_view_module": "@jupyter-widgets/base",
            "_view_module_version": "1.2.0",
            "_view_name": "StyleView",
            "description_width": ""
          }
        },
        "8c0ce284b47a4fe48101d31d1a68c475": {
          "model_module": "@jupyter-widgets/base",
          "model_name": "LayoutModel",
          "model_module_version": "1.2.0",
          "state": {
            "_model_module": "@jupyter-widgets/base",
            "_model_module_version": "1.2.0",
            "_model_name": "LayoutModel",
            "_view_count": null,
            "_view_module": "@jupyter-widgets/base",
            "_view_module_version": "1.2.0",
            "_view_name": "LayoutView",
            "align_content": null,
            "align_items": null,
            "align_self": null,
            "border": null,
            "bottom": null,
            "display": null,
            "flex": null,
            "flex_flow": null,
            "grid_area": null,
            "grid_auto_columns": null,
            "grid_auto_flow": null,
            "grid_auto_rows": null,
            "grid_column": null,
            "grid_gap": null,
            "grid_row": null,
            "grid_template_areas": null,
            "grid_template_columns": null,
            "grid_template_rows": null,
            "height": null,
            "justify_content": null,
            "justify_items": null,
            "left": null,
            "margin": null,
            "max_height": null,
            "max_width": null,
            "min_height": null,
            "min_width": null,
            "object_fit": null,
            "object_position": null,
            "order": null,
            "overflow": null,
            "overflow_x": null,
            "overflow_y": null,
            "padding": null,
            "right": null,
            "top": null,
            "visibility": null,
            "width": null
          }
        },
        "df07d8c2c662469eb7de8735a58d3d8a": {
          "model_module": "@jupyter-widgets/controls",
          "model_name": "ProgressStyleModel",
          "model_module_version": "1.5.0",
          "state": {
            "_model_module": "@jupyter-widgets/controls",
            "_model_module_version": "1.5.0",
            "_model_name": "ProgressStyleModel",
            "_view_count": null,
            "_view_module": "@jupyter-widgets/base",
            "_view_module_version": "1.2.0",
            "_view_name": "StyleView",
            "bar_color": null,
            "description_width": ""
          }
        },
        "acf677079acd48cb882ff581f6bea874": {
          "model_module": "@jupyter-widgets/controls",
          "model_name": "VBoxModel",
          "model_module_version": "1.5.0",
          "state": {
            "_dom_classes": [],
            "_model_module": "@jupyter-widgets/controls",
            "_model_module_version": "1.5.0",
            "_model_name": "VBoxModel",
            "_view_count": null,
            "_view_module": "@jupyter-widgets/controls",
            "_view_module_version": "1.5.0",
            "_view_name": "VBoxView",
            "box_style": "",
            "children": [
              "IPY_MODEL_1866f49b5ba44634b1fac3ad81976695",
              "IPY_MODEL_5bdcfa3f19d042c4aa8a526617982ed4"
            ],
            "layout": "IPY_MODEL_71b547cb486145bea021836c033a33e0"
          }
        },
        "1866f49b5ba44634b1fac3ad81976695": {
          "model_module": "@jupyter-widgets/controls",
          "model_name": "LabelModel",
          "model_module_version": "1.5.0",
          "state": {
            "_dom_classes": [],
            "_model_module": "@jupyter-widgets/controls",
            "_model_module_version": "1.5.0",
            "_model_name": "LabelModel",
            "_view_count": null,
            "_view_module": "@jupyter-widgets/controls",
            "_view_module_version": "1.5.0",
            "_view_name": "LabelView",
            "description": "",
            "description_tooltip": null,
            "layout": "IPY_MODEL_0d812574dbd749f7a8064009d917a345",
            "placeholder": "​",
            "style": "IPY_MODEL_56a95f166c41472c9a3da071ac3eadb5",
            "value": "0.018 MB of 0.018 MB uploaded (0.000 MB deduped)\r"
          }
        },
        "5bdcfa3f19d042c4aa8a526617982ed4": {
          "model_module": "@jupyter-widgets/controls",
          "model_name": "FloatProgressModel",
          "model_module_version": "1.5.0",
          "state": {
            "_dom_classes": [],
            "_model_module": "@jupyter-widgets/controls",
            "_model_module_version": "1.5.0",
            "_model_name": "FloatProgressModel",
            "_view_count": null,
            "_view_module": "@jupyter-widgets/controls",
            "_view_module_version": "1.5.0",
            "_view_name": "ProgressView",
            "bar_style": "",
            "description": "",
            "description_tooltip": null,
            "layout": "IPY_MODEL_788662f564534bacbad6c6319641eb06",
            "max": 1,
            "min": 0,
            "orientation": "horizontal",
            "style": "IPY_MODEL_c2ba65c374b3472684c58a2a9277a259",
            "value": 1
          }
        },
        "71b547cb486145bea021836c033a33e0": {
          "model_module": "@jupyter-widgets/base",
          "model_name": "LayoutModel",
          "model_module_version": "1.2.0",
          "state": {
            "_model_module": "@jupyter-widgets/base",
            "_model_module_version": "1.2.0",
            "_model_name": "LayoutModel",
            "_view_count": null,
            "_view_module": "@jupyter-widgets/base",
            "_view_module_version": "1.2.0",
            "_view_name": "LayoutView",
            "align_content": null,
            "align_items": null,
            "align_self": null,
            "border": null,
            "bottom": null,
            "display": null,
            "flex": null,
            "flex_flow": null,
            "grid_area": null,
            "grid_auto_columns": null,
            "grid_auto_flow": null,
            "grid_auto_rows": null,
            "grid_column": null,
            "grid_gap": null,
            "grid_row": null,
            "grid_template_areas": null,
            "grid_template_columns": null,
            "grid_template_rows": null,
            "height": null,
            "justify_content": null,
            "justify_items": null,
            "left": null,
            "margin": null,
            "max_height": null,
            "max_width": null,
            "min_height": null,
            "min_width": null,
            "object_fit": null,
            "object_position": null,
            "order": null,
            "overflow": null,
            "overflow_x": null,
            "overflow_y": null,
            "padding": null,
            "right": null,
            "top": null,
            "visibility": null,
            "width": null
          }
        },
        "0d812574dbd749f7a8064009d917a345": {
          "model_module": "@jupyter-widgets/base",
          "model_name": "LayoutModel",
          "model_module_version": "1.2.0",
          "state": {
            "_model_module": "@jupyter-widgets/base",
            "_model_module_version": "1.2.0",
            "_model_name": "LayoutModel",
            "_view_count": null,
            "_view_module": "@jupyter-widgets/base",
            "_view_module_version": "1.2.0",
            "_view_name": "LayoutView",
            "align_content": null,
            "align_items": null,
            "align_self": null,
            "border": null,
            "bottom": null,
            "display": null,
            "flex": null,
            "flex_flow": null,
            "grid_area": null,
            "grid_auto_columns": null,
            "grid_auto_flow": null,
            "grid_auto_rows": null,
            "grid_column": null,
            "grid_gap": null,
            "grid_row": null,
            "grid_template_areas": null,
            "grid_template_columns": null,
            "grid_template_rows": null,
            "height": null,
            "justify_content": null,
            "justify_items": null,
            "left": null,
            "margin": null,
            "max_height": null,
            "max_width": null,
            "min_height": null,
            "min_width": null,
            "object_fit": null,
            "object_position": null,
            "order": null,
            "overflow": null,
            "overflow_x": null,
            "overflow_y": null,
            "padding": null,
            "right": null,
            "top": null,
            "visibility": null,
            "width": null
          }
        },
        "56a95f166c41472c9a3da071ac3eadb5": {
          "model_module": "@jupyter-widgets/controls",
          "model_name": "DescriptionStyleModel",
          "model_module_version": "1.5.0",
          "state": {
            "_model_module": "@jupyter-widgets/controls",
            "_model_module_version": "1.5.0",
            "_model_name": "DescriptionStyleModel",
            "_view_count": null,
            "_view_module": "@jupyter-widgets/base",
            "_view_module_version": "1.2.0",
            "_view_name": "StyleView",
            "description_width": ""
          }
        },
        "788662f564534bacbad6c6319641eb06": {
          "model_module": "@jupyter-widgets/base",
          "model_name": "LayoutModel",
          "model_module_version": "1.2.0",
          "state": {
            "_model_module": "@jupyter-widgets/base",
            "_model_module_version": "1.2.0",
            "_model_name": "LayoutModel",
            "_view_count": null,
            "_view_module": "@jupyter-widgets/base",
            "_view_module_version": "1.2.0",
            "_view_name": "LayoutView",
            "align_content": null,
            "align_items": null,
            "align_self": null,
            "border": null,
            "bottom": null,
            "display": null,
            "flex": null,
            "flex_flow": null,
            "grid_area": null,
            "grid_auto_columns": null,
            "grid_auto_flow": null,
            "grid_auto_rows": null,
            "grid_column": null,
            "grid_gap": null,
            "grid_row": null,
            "grid_template_areas": null,
            "grid_template_columns": null,
            "grid_template_rows": null,
            "height": null,
            "justify_content": null,
            "justify_items": null,
            "left": null,
            "margin": null,
            "max_height": null,
            "max_width": null,
            "min_height": null,
            "min_width": null,
            "object_fit": null,
            "object_position": null,
            "order": null,
            "overflow": null,
            "overflow_x": null,
            "overflow_y": null,
            "padding": null,
            "right": null,
            "top": null,
            "visibility": null,
            "width": null
          }
        },
        "c2ba65c374b3472684c58a2a9277a259": {
          "model_module": "@jupyter-widgets/controls",
          "model_name": "ProgressStyleModel",
          "model_module_version": "1.5.0",
          "state": {
            "_model_module": "@jupyter-widgets/controls",
            "_model_module_version": "1.5.0",
            "_model_name": "ProgressStyleModel",
            "_view_count": null,
            "_view_module": "@jupyter-widgets/base",
            "_view_module_version": "1.2.0",
            "_view_name": "StyleView",
            "bar_color": null,
            "description_width": ""
          }
        }
      }
    }
  },
  "cells": [
    {
      "cell_type": "markdown",
      "metadata": {
        "id": "view-in-github",
        "colab_type": "text"
      },
      "source": [
        "<a href=\"https://colab.research.google.com/github/sahug/ds-wandb/blob/main/%20WANDB%20-%20Session%203%20-%20Pipeline%20Versioning%20with%20WANDB%20Artifacts%20and%20Keras.ipynb\" target=\"_parent\"><img src=\"https://colab.research.google.com/assets/colab-badge.svg\" alt=\"Open In Colab\"/></a>"
      ]
    },
    {
      "cell_type": "markdown",
      "source": [
        "**WANDB - Session 3 - Pipeline Versioning with WANDB Artifacts and Keras.pynb**"
      ],
      "metadata": {
        "id": "Szvg8T6KiwSQ"
      }
    },
    {
      "cell_type": "markdown",
      "source": [
        "**Artifacts**\n",
        "\n",
        "In this notebook, we'll show you how to use W&B Artifacts to track your ML experiment pipelines.\n",
        "Our sophisticated mathematical models predict the following result:\n",
        "\n",
        "$$\n",
        "{\\Huge\n",
        "🧪 + 🏺 = 😃}\n",
        "$$\n"
      ],
      "metadata": {
        "id": "lVNLOJewi1L1"
      }
    },
    {
      "cell_type": "markdown",
      "metadata": {
        "id": "30ORED-Aihie"
      },
      "source": [
        "### 🤔 What are Artifacts and Why Should I Care?\n",
        "\n",
        "An \"artifact\", like a Greek [amphora 🏺](https://en.wikipedia.org/wiki/Amphora),\n",
        "is a produced object -- the output of a process.\n",
        "In ML, the most important artifacts are _datasets_ and _models_.\n",
        "\n",
        "And, like the [Cross of Coronado](https://indianajones.fandom.com/wiki/Cross_of_Coronado), these important artifacts belong in a museum!\n",
        "That is, they should be cataloged and organized\n",
        "so that you, your team, and the ML community at large can learn from them.\n",
        "After all, those who don't track training are doomed to repeat it.\n",
        "\n",
        "Using our Artifacts API, you can log `Artifact`s as outputs of W&B `Run`s or use `Artifact`s as input to `Run`s, as in this diagram,\n",
        "where a training run takes in a dataset and produces a model.\n",
        " \n",
        " ![](https://gblobscdn.gitbook.com/assets%2F-Lqya5RvLedGEWPhtkjU%2F-M94QAXA-oJmE6q07_iT%2F-M94QJCXLeePzH1p_fW1%2Fsimple%20artifact%20diagram%202.png?alt=media&token=94bc438a-bd3b-414d-a4e4-aa4f6f359f21)\n",
        "\n",
        "Since one run can use another's output as an input, Artifacts and Runs together form a directed graph -- actually, a bipartite [DAG](https://en.wikipedia.org/wiki/Directed_acyclic_graph)! -- with nodes for `Artifact`s and `Run`s\n",
        "and arrows connecting `Run`s to the `Artifact`s they consume or produce."
      ]
    },
    {
      "cell_type": "markdown",
      "source": [
        "**Install and Import**\n",
        "\n",
        "Artifacts are part of our Python library, starting with version `0.9.2`.\n",
        "\n",
        "Like most parts of the ML Python stack, it's available via `pip`."
      ],
      "metadata": {
        "id": "ytCL9uvRkeJR"
      }
    },
    {
      "cell_type": "code",
      "execution_count": 1,
      "metadata": {
        "colab": {
          "base_uri": "https://localhost:8080/"
        },
        "id": "UwuTPS8YipPA",
        "outputId": "cc93eb2d-7449-4a2e-afd8-d301e52a630f"
      },
      "outputs": [
        {
          "output_type": "stream",
          "name": "stdout",
          "text": [
            "\u001b[K     |████████████████████████████████| 1.7 MB 4.7 MB/s \n",
            "\u001b[K     |████████████████████████████████| 144 kB 33.2 MB/s \n",
            "\u001b[K     |████████████████████████████████| 181 kB 25.7 MB/s \n",
            "\u001b[K     |████████████████████████████████| 63 kB 1.2 MB/s \n",
            "\u001b[?25h  Building wheel for pathtools (setup.py) ... \u001b[?25l\u001b[?25hdone\n",
            "Reading package lists... Done\n",
            "Building dependency tree       \n",
            "Reading state information... Done\n",
            "The following NEW packages will be installed:\n",
            "  tree\n",
            "0 upgraded, 1 newly installed, 0 to remove and 39 not upgraded.\n",
            "Need to get 40.7 kB of archives.\n",
            "After this operation, 105 kB of additional disk space will be used.\n",
            "Get:1 http://archive.ubuntu.com/ubuntu bionic/universe amd64 tree amd64 1.7.0-5 [40.7 kB]\n",
            "Fetched 40.7 kB in 0s (146 kB/s)\n",
            "Selecting previously unselected package tree.\n",
            "(Reading database ... 156210 files and directories currently installed.)\n",
            "Preparing to unpack .../tree_1.7.0-5_amd64.deb ...\n",
            "Unpacking tree (1.7.0-5) ...\n",
            "Setting up tree (1.7.0-5) ...\n",
            "Processing triggers for man-db (2.8.3-2ubuntu0.1) ...\n"
          ]
        }
      ],
      "source": [
        "!pip install wandb -qqq\n",
        "!apt install tree"
      ]
    },
    {
      "cell_type": "code",
      "source": [
        "import os\n",
        "import wandb"
      ],
      "metadata": {
        "id": "yT_P3XKokxgt"
      },
      "execution_count": 2,
      "outputs": []
    },
    {
      "cell_type": "markdown",
      "source": [
        "**Log a Dataset**\n",
        "\n",
        "First, let's define some Artifacts.\n",
        "\n",
        "We start with the `Dataset`s:\n",
        "- a `train`ing set, for choosing the parameters,\n",
        "- a `validation` set, for choosing the hyperparameters,\n",
        "- a `test`ing set, for evaluating the final model\n",
        "\n",
        "The first cell below defines these three datasets."
      ],
      "metadata": {
        "id": "qMLP9eufk23c"
      }
    },
    {
      "cell_type": "code",
      "source": [
        "import random\n",
        "\n",
        "import numpy as np\n",
        "import tensorflow as tf\n",
        "from tensorflow import keras\n",
        "from tensorflow.keras import layers\n",
        "from collections import namedtuple"
      ],
      "metadata": {
        "id": "kVlJc2ZWlC0Z"
      },
      "execution_count": 5,
      "outputs": []
    },
    {
      "cell_type": "code",
      "source": [
        "#Set random seeds\n",
        "os.environ[\"TF_CUDNN_DETERMINISTIC\"] = \"1\"\n",
        "random.seed(hash(\"setting random seeds\") % 2**32 -1)\n",
        "np.random.seed(hash(\"improves reproducibility\")  % 2**32 -1)\n",
        "tf.random.set_seed(hash(\"by removing stochasticity\") % 2**32 -1)"
      ],
      "metadata": {
        "id": "KHAzdYAzldky"
      },
      "execution_count": 4,
      "outputs": []
    },
    {
      "cell_type": "code",
      "source": [
        "Dataset = namedtuple(\"Dataset\", [\"x\", \"y\"])\n",
        "\n",
        "#Data parameters\n",
        "num_classes = 10\n",
        "input_shape = (28, 28, 1)"
      ],
      "metadata": {
        "id": "UIPe67rglfFq"
      },
      "execution_count": 12,
      "outputs": []
    },
    {
      "cell_type": "code",
      "source": [
        "def load(train_size=50_000):\n",
        "  \n",
        "  #Data split between train and test set\n",
        "  (x_train, y_train), (x_test, y_test) = keras.datasets.mnist.load_data()\n",
        "\n",
        "  #Split off a validation set for hyperparameter tuning\n",
        "  x_train, x_val = x_train[:train_size], x_train[train_size:]\n",
        "  y_train, y_val = y_train[:train_size], y_train[train_size:]\n",
        "\n",
        "  training_set = Dataset(x_train, y_train)\n",
        "  validation_set = Dataset(x_val, y_val)\n",
        "  test_set = Dataset(x_test, y_test)\n",
        "\n",
        "  datasets = [training_set, validation_set, test_set]\n",
        "\n",
        "  return datasets"
      ],
      "metadata": {
        "id": "-hJHTiDmlyiR"
      },
      "execution_count": 7,
      "outputs": []
    },
    {
      "cell_type": "markdown",
      "source": [
        "This sets up a pattern we'll see repeated in this example: the code to log the data as an Artifact is wrapped around the code for producing that data. In this case, the code for loading the data is separated out from the code for load_and_logging the data.\n",
        "\n",
        "This is good practice!\n",
        "\n",
        "In order to log these datasets as Artifacts, we just need to\n",
        "\n",
        "1. create a Run with `wandb.init`, (L4)\n",
        "2. create an `Artifact` for the dataset (L10), and\n",
        "3. save and log the associated `files` (L20, L23)."
      ],
      "metadata": {
        "id": "5x-0DucNlc95"
      }
    },
    {
      "cell_type": "code",
      "source": [
        "def load_and_log():\n",
        "  \n",
        "  #Start a run with a type to label it and a project it can call home\n",
        "  with wandb.init(project=\"artifact-example\", job_type=\"load_data\") as run:\n",
        "\n",
        "    datasets = load() #seperate code for loading dataset\n",
        "    names = [\"training\", \"validation\", \"test\"]\n",
        "\n",
        "    #Create artifacts\n",
        "    raw_data = wandb.Artifact(\n",
        "        \"mnist-raw\", type=\"dataset\",\n",
        "        description=\"Raw MNIST dataset, split into train/test/val\",\n",
        "        metadata={\"source\": \"keras.dataset.mnist\",\n",
        "                  \"sizes\": [len(dataset.x) for dataset in datasets]})\n",
        "    \n",
        "    for name, data in zip(names, datasets):\n",
        "      #Store a new file in the artifact, and write something into its contents.\n",
        "      with raw_data.new_file(name + \".npz\", mode=\"wb\") as file:\n",
        "        np.savez(file, x=data.x, y=data.y)\n",
        "\n",
        "    #Save the artifact to W&B\n",
        "    run.log_artifact(raw_data)\n",
        "\n",
        "load_and_log()    "
      ],
      "metadata": {
        "colab": {
          "base_uri": "https://localhost:8080/",
          "height": 177,
          "referenced_widgets": [
            "106d05f858854964809ebd52e93aa936",
            "ac6d8ea7909145ffafdf369e0de00888",
            "9e01b14a1c59481ba822e21491e30dbf",
            "35b48031d679418cb262e5ecc68fb044",
            "ea76a51b0c2342629edb06d34e81b924",
            "daccbba3292c4811b46fcc96d112e785",
            "f12c60507e09476ba000d89dc98a3237",
            "5e0df77e050249cc808e729dbc91839d"
          ]
        },
        "id": "AA5p6GL4m80P",
        "outputId": "4ff611a9-ccbf-48fb-8ae6-c26e157bb9d0"
      },
      "execution_count": 11,
      "outputs": [
        {
          "output_type": "stream",
          "name": "stderr",
          "text": [
            "\u001b[34m\u001b[1mwandb\u001b[0m: Currently logged in as: \u001b[33msahug\u001b[0m (use `wandb login --relogin` to force relogin)\n"
          ]
        },
        {
          "output_type": "display_data",
          "data": {
            "text/plain": [
              "<IPython.core.display.HTML object>"
            ],
            "text/html": [
              "Tracking run with wandb version 0.12.11"
            ]
          },
          "metadata": {}
        },
        {
          "output_type": "display_data",
          "data": {
            "text/plain": [
              "<IPython.core.display.HTML object>"
            ],
            "text/html": [
              "Run data is saved locally in <code>/content/wandb/run-20220326_191434-2onpkzzw</code>"
            ]
          },
          "metadata": {}
        },
        {
          "output_type": "display_data",
          "data": {
            "text/plain": [
              "<IPython.core.display.HTML object>"
            ],
            "text/html": [
              "Syncing run <strong><a href=\"https://wandb.ai/sahug/artifact-example/runs/2onpkzzw\" target=\"_blank\">expert-silence-2</a></strong> to <a href=\"https://wandb.ai/sahug/artifact-example\" target=\"_blank\">Weights & Biases</a> (<a href=\"https://wandb.me/run\" target=\"_blank\">docs</a>)<br/>"
            ]
          },
          "metadata": {}
        },
        {
          "output_type": "stream",
          "name": "stdout",
          "text": [
            "\n"
          ]
        },
        {
          "output_type": "display_data",
          "data": {
            "text/plain": [
              "<IPython.core.display.HTML object>"
            ],
            "text/html": [
              "Waiting for W&B process to finish... <strong style=\"color:green\">(success).</strong>"
            ]
          },
          "metadata": {}
        },
        {
          "output_type": "display_data",
          "data": {
            "text/plain": [
              "VBox(children=(Label(value='52.406 MB of 52.406 MB uploaded (0.000 MB deduped)\\r'), FloatProgress(value=1.0, m…"
            ],
            "application/vnd.jupyter.widget-view+json": {
              "version_major": 2,
              "version_minor": 0,
              "model_id": "106d05f858854964809ebd52e93aa936"
            }
          },
          "metadata": {}
        },
        {
          "output_type": "display_data",
          "data": {
            "text/plain": [
              "<IPython.core.display.HTML object>"
            ],
            "text/html": [
              "Synced <strong style=\"color:#cdcd00\">expert-silence-2</strong>: <a href=\"https://wandb.ai/sahug/artifact-example/runs/2onpkzzw\" target=\"_blank\">https://wandb.ai/sahug/artifact-example/runs/2onpkzzw</a><br/>Synced 4 W&B file(s), 0 media file(s), 3 artifact file(s) and 0 other file(s)"
            ]
          },
          "metadata": {}
        },
        {
          "output_type": "display_data",
          "data": {
            "text/plain": [
              "<IPython.core.display.HTML object>"
            ],
            "text/html": [
              "Find logs at: <code>./wandb/run-20220326_191434-2onpkzzw/logs</code>"
            ]
          },
          "metadata": {}
        }
      ]
    },
    {
      "cell_type": "markdown",
      "source": [
        "**`wandb.init`**"
      ],
      "metadata": {
        "id": "OXq6UabhpTP1"
      }
    },
    {
      "cell_type": "markdown",
      "source": [
        "\n",
        "When we make the `Run` that's going to produce the `Artifact`s,\n",
        "we need to state which `project` it belongs to.\n",
        "\n",
        "Depending on your workflow,\n",
        "a project might be as big as `car-that-drives-itself`\n",
        "or as small as `iterative-architecture-experiment-117`.\n",
        "\n",
        "> **Rule of 👍**: if you can, keep all of the `Run`s that share `Artifact`s\n",
        "inside a single project. This keeps things simple,\n",
        "but don't worry -- `Artifact`s are portable across projects!\n",
        "\n",
        "To help keep track of all the different kinds of jobs you might run,\n",
        "it's useful to provide a `job_type` when making `Runs`.\n",
        "This keeps the graph of your Artifacts nice and tidy.\n",
        "\n",
        "> **Rule of 👍**: the `job_type` should be descriptive and correspond to a single step of your pipeline. Here, we separate out `load`ing data from `preprocess`ing data."
      ],
      "metadata": {
        "id": "wRL8NwGbqu-o"
      }
    },
    {
      "cell_type": "markdown",
      "source": [
        "**`wandb.artifact`**"
      ],
      "metadata": {
        "id": "FFaiNhm9qzxY"
      }
    },
    {
      "cell_type": "markdown",
      "source": [
        "To log something as an `Artifact`, we have to first make an `Artifact` object.\n",
        "\n",
        "Every `Artifact` has a `name` -- that's what the first argument sets.\n",
        "\n",
        "> **Rule of 👍**: the `name` should be descriptive, but easy to remember and type --\n",
        "we like to use names that are hyphen-separated and correspond to variable names in the code.\n",
        "\n",
        "It also has a `type`. Just like `job_type`s for `Run`s,\n",
        "this is used for organizing the graph of `Run`s and `Artifact`s.\n",
        "\n",
        "> **Rule of 👍**: the `type` should be simple:\n",
        "more like `dataset` or `model`\n",
        "than `mnist-data-YYYYMMDD`.\n",
        "\n",
        "You can also attach a `description` and some `metadata`, as a dictionary.\n",
        "The `metadata` just needs to be serializable to JSON.\n",
        "\n",
        "> **Rule of 👍**: the `metadata` should be as descriptive as possible."
      ],
      "metadata": {
        "id": "cnOpxFB9q3sZ"
      }
    },
    {
      "cell_type": "markdown",
      "metadata": {
        "id": "riEceLTrihil"
      },
      "source": [
        "**`artifact.new_file` and `run.log_artifact`**"
      ]
    },
    {
      "cell_type": "markdown",
      "source": [
        "Once we've made an `Artifact` object, we need to add files to it.\n",
        "\n",
        "You read that right: _files_ with an _s_.\n",
        "`Artifact`s are structured like directories,\n",
        "with files and sub-directories.\n",
        "\n",
        "> **Rule of 👍**: whenever it makes sense to do so, split the contents\n",
        "of an `Artifact` up into multiple files. This will help if it comes time to scale!\n",
        "\n",
        "We use the `new_file` method\n",
        "to simultaneously write the file and attach it to the `Artifact`.\n",
        "Below, we'll use the `add_file` method,\n",
        "which separates those two steps.\n",
        "\n",
        "Once we've added all of our files, we need to `log_artifact` to [wandb.ai](https://wandb.ai).\n",
        "\n",
        "You'll notice some URLs appeared in the output,\n",
        "including one for the Run page.\n",
        "That's where you can view the results of the `Run`,\n",
        "including any `Artifact`s that got logged.\n",
        "\n",
        "We'll see some examples that make better use of the other components of the Run page below."
      ],
      "metadata": {
        "id": "XJhXatmYrDfU"
      }
    },
    {
      "cell_type": "markdown",
      "source": [
        "**Use a Logged Dataset Artifact**"
      ],
      "metadata": {
        "id": "aTjhe3l2rGfE"
      }
    },
    {
      "cell_type": "markdown",
      "source": [
        "Artifacts in W&B, unlike artifacts in museums, are designed to be used, not just stored.\n",
        "\n",
        "Let's see what that looks like.\n",
        "\n",
        "The cell below defines a pipeline step that takes in a raw dataset and uses it to produce a preprocessed dataset: normalized and shaped correctly.\n",
        "\n",
        "Notice again that we split out the meat of the code, preprocess, from the code that interfaces with wandb.\n",
        "\n"
      ],
      "metadata": {
        "id": "4qotG4tzrIFk"
      }
    },
    {
      "cell_type": "code",
      "source": [
        "def preprocess(dataset, normalize=True, expand_dims=True, to_categorical=True):\n",
        "  \n",
        "  x, y = dataset.x, dataset.y\n",
        "\n",
        "  if normalize:\n",
        "    #Scale Image to [0, 1] range\n",
        "    x = x.astype(\"float32\") / 255\n",
        "\n",
        "  if expand_dims:\n",
        "    #Make sure image has shape (28, 28, 1)\n",
        "    x = np.expand_dims(x, -1)\n",
        "\n",
        "  if to_categorical:\n",
        "    #Convert class vectors to binary class metrices\n",
        "    y = keras.utils.to_categorical(y, num_classes)\n",
        "\n",
        "  return Dataset(x, y)"
      ],
      "metadata": {
        "id": "UtXg94JIrL0p"
      },
      "execution_count": 21,
      "outputs": []
    },
    {
      "cell_type": "markdown",
      "source": [
        "Now for the code that instruments this preprocess step with wandb.Artifact logging.\n",
        "\n",
        "Note that the example below both uses an Artifact, which is new, and logs it, which is the same as the last step. Artifacts are both the inputs and the outputs of `Runs`!\n",
        "\n",
        "We use a new `job_type`, `preprocess-data`, to make it clear that this is a different kind of job from the previous one."
      ],
      "metadata": {
        "id": "E9ZyDaiUsx0e"
      }
    },
    {
      "cell_type": "code",
      "source": [
        "def preprocess_and_log(steps):\n",
        "  with wandb.init(project=\"artifact-example\", job_type=\"load_data\") as run:\n",
        "\n",
        "    processed_data = wandb.Artifact(\n",
        "        \"mnist-processed\", type=\"dataset\",\n",
        "        description=\"Processed MNIST dataset\",\n",
        "        metadata=steps)\n",
        "    \n",
        "    #Declare which artifact we will be usin\n",
        "    raw_data_artifact = run.use_artifact(\"mnist-raw:latest\")\n",
        "\n",
        "    #If needed download the dataset\n",
        "    raw_dataset = raw_data_artifact.download()\n",
        "\n",
        "    for split in [\"training\", \"validation\", \"test\"]:\n",
        "      raw_split = read(raw_dataset, split)\n",
        "      processed_dataset = preprocess(raw_split, **steps)\n",
        "\n",
        "      with processed_data.new_file(split + \".npz\", mode=\"wb\") as file:\n",
        "        np.savez(file, x=processed_dataset.x, y=processed_dataset.y)\n",
        "\n",
        "    run.log_artifact(processed_data)"
      ],
      "metadata": {
        "id": "bcsvVboGs9h4"
      },
      "execution_count": 18,
      "outputs": []
    },
    {
      "cell_type": "code",
      "source": [
        "def read(data_dir, split):\n",
        "  filename = split + \".npz\"\n",
        "  data = np.load(os.path.join(data_dir, filename))\n",
        "\n",
        "  return Dataset(x=data[\"x\"], y=data[\"y\"])"
      ],
      "metadata": {
        "id": "T7oxIdOvuR5w"
      },
      "execution_count": 19,
      "outputs": []
    },
    {
      "cell_type": "markdown",
      "source": [
        "One thing to notice here is that the `steps` of the preprocessing\n",
        "are saved with the `preprocessed_data` as `metadata`.\n",
        "\n",
        "If you're trying to make your experiments reproducible,\n",
        "capturing lots of metadata is a good idea!\n",
        "\n",
        "Also, even though our dataset is a \"`large artifact`\",\n",
        "the `download` step is done in much less than a second.\n",
        "\n",
        "Expand the markdown cell below for details."
      ],
      "metadata": {
        "id": "fllr1qdzunZ7"
      }
    },
    {
      "cell_type": "code",
      "source": [
        "steps = {\"normalize\": True,\n",
        "         \"expand_dims\": True,\n",
        "         \"to_categorical\": True}\n",
        "\n",
        "preprocess_and_log(steps)"
      ],
      "metadata": {
        "colab": {
          "base_uri": "https://localhost:8080/",
          "height": 177,
          "referenced_widgets": [
            "696bcae0f6d248739e4f722d4c903ea6",
            "3c694e64f2094443a4c6187ef0a6a8a9",
            "b97c7ec0264e4769bdf0513c2ccc91a1",
            "f8a5ee365f01467bb67e711ee0c3cd24",
            "60c4beecad8c47e7bf86ceef1da3b606",
            "8bc1783442a74d49a2415a50828d49ae",
            "b6b6f1776d56419a89d4eee0ac6e9ec1",
            "d52f4180de054b3a9d758f87e5d0cfae"
          ]
        },
        "id": "-2aLO06Euo4t",
        "outputId": "bdc8cfb1-4b20-48d1-ee44-500d38778549"
      },
      "execution_count": 22,
      "outputs": [
        {
          "output_type": "display_data",
          "data": {
            "text/plain": [
              "<IPython.core.display.HTML object>"
            ],
            "text/html": [
              "Tracking run with wandb version 0.12.11"
            ]
          },
          "metadata": {}
        },
        {
          "output_type": "display_data",
          "data": {
            "text/plain": [
              "<IPython.core.display.HTML object>"
            ],
            "text/html": [
              "Run data is saved locally in <code>/content/wandb/run-20220326_194348-kd46kqmg</code>"
            ]
          },
          "metadata": {}
        },
        {
          "output_type": "display_data",
          "data": {
            "text/plain": [
              "<IPython.core.display.HTML object>"
            ],
            "text/html": [
              "Syncing run <strong><a href=\"https://wandb.ai/sahug/artifact-example/runs/kd46kqmg\" target=\"_blank\">pretty-brook-6</a></strong> to <a href=\"https://wandb.ai/sahug/artifact-example\" target=\"_blank\">Weights & Biases</a> (<a href=\"https://wandb.me/run\" target=\"_blank\">docs</a>)<br/>"
            ]
          },
          "metadata": {}
        },
        {
          "output_type": "stream",
          "name": "stderr",
          "text": [
            "\u001b[34m\u001b[1mwandb\u001b[0m: Downloading large artifact mnist-raw:latest, 52.41MB. 3 files... Done. 0:0:0\n"
          ]
        },
        {
          "output_type": "stream",
          "name": "stdout",
          "text": [
            "\n"
          ]
        },
        {
          "output_type": "display_data",
          "data": {
            "text/plain": [
              "<IPython.core.display.HTML object>"
            ],
            "text/html": [
              "Waiting for W&B process to finish... <strong style=\"color:green\">(success).</strong>"
            ]
          },
          "metadata": {}
        },
        {
          "output_type": "display_data",
          "data": {
            "text/plain": [
              "VBox(children=(Label(value='212.023 MB of 212.023 MB uploaded (0.000 MB deduped)\\r'), FloatProgress(value=1.0,…"
            ],
            "application/vnd.jupyter.widget-view+json": {
              "version_major": 2,
              "version_minor": 0,
              "model_id": "696bcae0f6d248739e4f722d4c903ea6"
            }
          },
          "metadata": {}
        },
        {
          "output_type": "display_data",
          "data": {
            "text/plain": [
              "<IPython.core.display.HTML object>"
            ],
            "text/html": [
              "Synced <strong style=\"color:#cdcd00\">pretty-brook-6</strong>: <a href=\"https://wandb.ai/sahug/artifact-example/runs/kd46kqmg\" target=\"_blank\">https://wandb.ai/sahug/artifact-example/runs/kd46kqmg</a><br/>Synced 5 W&B file(s), 0 media file(s), 3 artifact file(s) and 0 other file(s)"
            ]
          },
          "metadata": {}
        },
        {
          "output_type": "display_data",
          "data": {
            "text/plain": [
              "<IPython.core.display.HTML object>"
            ],
            "text/html": [
              "Find logs at: <code>./wandb/run-20220326_194348-kd46kqmg/logs</code>"
            ]
          },
          "metadata": {}
        }
      ]
    },
    {
      "cell_type": "markdown",
      "source": [
        "**`run.use_artifact`**\n",
        "\n",
        "These steps are simpler. The consumer just needs to know the name of the Artifact, plus a bit more.\n",
        "\n",
        "That \"bit more\" is the alias of the particular version of the Artifact you want.\n",
        "\n",
        "By default, the last version to be uploaded is tagged latest. Otherwise, you can pick older versions with v0/v1, etc., or you can provide your own aliases, like best or jit-script. Just like Docker Hub tags, aliases are separated from names with :, so the Artifact we want is mnist-raw:latest.\n",
        "\n",
        "Rule of 👍: Keep aliases short and sweet. Use custom aliases like latest or best when you want an Artifact that satisifies some property"
      ],
      "metadata": {
        "id": "_OPpXSXyv52Z"
      }
    },
    {
      "cell_type": "markdown",
      "source": [
        "**`artifact.download`**\n",
        "\n",
        "Now, you may be worrying about the download call. If we download another copy, won't that double the burden on memory?\n",
        "\n",
        "Don't worry friend. Before we actually download anything, we check to see if the right version is available locally. This uses the same technology that underlies torrenting and version control with git: hashing.\n",
        "\n",
        "As Artifacts are created and logged, a folder called artifacts in the working directory will start to fill with sub-directories, one for each Artifact. Check out its contents with !tree artifacts:"
      ],
      "metadata": {
        "id": "5HYWWF50wieE"
      }
    },
    {
      "cell_type": "code",
      "source": [
        "!tree artifacts"
      ],
      "metadata": {
        "colab": {
          "base_uri": "https://localhost:8080/"
        },
        "id": "g1u8uKBzwpRy",
        "outputId": "18bcd82c-1dd4-453c-ee7c-2e20d869fb65"
      },
      "execution_count": 23,
      "outputs": [
        {
          "output_type": "stream",
          "name": "stdout",
          "text": [
            "artifacts\n",
            "└── mnist-raw:v0\n",
            "    ├── test.npz\n",
            "    ├── training.npz\n",
            "    └── validation.npz\n",
            "\n",
            "1 directory, 3 files\n"
          ]
        }
      ]
    },
    {
      "cell_type": "markdown",
      "source": [
        "**`The Artifacts page on wandb.ai`**\n",
        "\n",
        "Now that we've logged and used an Artifact, let's check out the Artifacts tab on the Run page.\n",
        "\n",
        "Navigate to the Run page URL from the wandb output and select the \"Artifacts\" tab from the left sidebar (it's the one with the database icon, which looks like three hockey pucks stacked on top of one another).\n",
        "\n",
        "Click a row in either the \"Input Artifacts\" table or in the \"Output Artifacts\" table, then check out the tabs (\"Overview\", \"Metadata\") to see everything logged about the Artifact.\n",
        "\n",
        "We particularly like the \"Graph View\". By default, it shows a graph with the types of Artifacts and the job_types of Run as the two types of nodes, with arrows to represent consumption and production.\n",
        "\n"
      ],
      "metadata": {
        "id": "EZLqFzHwwtzH"
      }
    },
    {
      "cell_type": "markdown",
      "source": [
        "**Log a Model**\n",
        "\n",
        "That's enough to see how the API for Artifacts works, but let's follow this example through to the end of the pipeline so we can see how Artifacts can improve your ML workflow.\n",
        "\n",
        "This first cell here builds a DNN model in PyTorch -- a really simple ConvNet.\n",
        "\n",
        "We'll start by just initializing the model, not training it. That way, we can repeat the training while keeping everything else constant."
      ],
      "metadata": {
        "id": "KIdb2Friwx39"
      }
    },
    {
      "cell_type": "code",
      "source": [
        "def build_model(hidden_layer_sizes=[32, 64],\n",
        "                kernel_sizes=[(3, 3)],\n",
        "                activation=\"relu\",\n",
        "                pool_sizes=[(2, 2)],\n",
        "                dropout=0.5,\n",
        "                num_classes=10,\n",
        "                input_shapes=(28, 28, 1)):\n",
        "  \n",
        "  model = keras.Sequential(\n",
        "      [\n",
        "       keras.Input(shape=input_shape),\n",
        "       layers.Conv2D(hidden_layer_sizes[0], kernel_size=kernel_sizes[0], activation=activation),\n",
        "       layers.MaxPooling2D(pool_size=pool_sizes[0]),\n",
        "       layers.Conv2D(hidden_layer_sizes[-1], kernel_size=kernel_sizes[-1], activation=activation),\n",
        "       layers.MaxPooling2D(pool_size=pool_sizes[-1]),\n",
        "       layers.Flatten(),\n",
        "       layers.Dropout(dropout),\n",
        "       layers.Dense(num_classes, activation=\"softmax\")\n",
        "      ]\n",
        "  )\n",
        "\n",
        "  model.summary()\n",
        "\n",
        "  return model"
      ],
      "metadata": {
        "id": "XAeFImsSwxJw"
      },
      "execution_count": 24,
      "outputs": []
    },
    {
      "cell_type": "markdown",
      "source": [
        "Here, we're using W&B to track the run,\n",
        "and so using the [`wandb.config`](https://colab.research.google.com/github/wandb/examples/blob/master/colabs/wandb-config/Configs_in_W%26B.ipynb)\n",
        "object to store all of the hyperparameters.\n",
        "\n",
        "The `dict`ionary version of that `config` object is a really useful piece of `metadata`, so make sure to include it!"
      ],
      "metadata": {
        "id": "0vLWdpC3yzE3"
      }
    },
    {
      "cell_type": "code",
      "source": [
        "def build_model_and_log(config):\n",
        "  with wandb.init(project=\"artifact-example\", job_type=\"initialize\", config=config) as run:\n",
        "    config = wandb.config\n",
        "\n",
        "    model = build_model(**config)\n",
        "\n",
        "    model_artifact = wandb.Artifact(\n",
        "        \"convnet\", type=\"model\", description=\"Simple AlexNet Style CNN\",\n",
        "        metadata=dict(config)\n",
        "    )\n",
        "\n",
        "    model.save(\"initalized_model.keras\")\n",
        "\n",
        "    #Another way to add a file to an Artifact\n",
        "    model_artifact.add_file(\"initalized_model.keras\")\n",
        "    wandb.save(\"initalized_model.keras\")\n",
        "\n",
        "    run.log_artifact(model_artifact)\n"
      ],
      "metadata": {
        "id": "C2FWv5W5zApo"
      },
      "execution_count": 30,
      "outputs": []
    },
    {
      "cell_type": "code",
      "source": [
        "model_config = {\"hidden_layer_sizes\": [32, 64],\n",
        "                \"kernel_sizes\": [3],\n",
        "                \"activation\": \"ReLU\",\n",
        "                \"pool_sizes\": [2],\n",
        "                \"dropout\": 0.5,\n",
        "                \"num_classes\": 10}"
      ],
      "metadata": {
        "id": "rawkRvfMz3Oa"
      },
      "execution_count": 26,
      "outputs": []
    },
    {
      "cell_type": "code",
      "source": [
        "build_model_and_log(model_config)"
      ],
      "metadata": {
        "colab": {
          "base_uri": "https://localhost:8080/",
          "height": 657,
          "referenced_widgets": [
            "7cce8376a9874061be1177e67abcf16b",
            "d29fc75bbcce4294b5a6646acf90e3a9",
            "663f8a7b35ac49c9b395395859f77640",
            "c94b37db4abf4ea581155de7a59e3b4f",
            "8342d3aae2a6464baea75a9de5583436",
            "b9bd9c9b562540ac9853ada5995c21cc",
            "82b1bf8d2b814d789273d35f5b75f143",
            "fbe13fd43bb5419282f73e64f2af66ab"
          ]
        },
        "id": "dRhe0UGfz9My",
        "outputId": "2acba5e8-c267-4e2f-cd40-72746dea31cc"
      },
      "execution_count": 31,
      "outputs": [
        {
          "output_type": "display_data",
          "data": {
            "text/plain": [
              "<IPython.core.display.HTML object>"
            ],
            "text/html": [
              "Tracking run with wandb version 0.12.11"
            ]
          },
          "metadata": {}
        },
        {
          "output_type": "display_data",
          "data": {
            "text/plain": [
              "<IPython.core.display.HTML object>"
            ],
            "text/html": [
              "Run data is saved locally in <code>/content/wandb/run-20220326_200411-2n5smc6f</code>"
            ]
          },
          "metadata": {}
        },
        {
          "output_type": "display_data",
          "data": {
            "text/plain": [
              "<IPython.core.display.HTML object>"
            ],
            "text/html": [
              "Syncing run <strong><a href=\"https://wandb.ai/sahug/artifact-example/runs/2n5smc6f\" target=\"_blank\">sandy-wind-9</a></strong> to <a href=\"https://wandb.ai/sahug/artifact-example\" target=\"_blank\">Weights & Biases</a> (<a href=\"https://wandb.me/run\" target=\"_blank\">docs</a>)<br/>"
            ]
          },
          "metadata": {}
        },
        {
          "output_type": "stream",
          "name": "stdout",
          "text": [
            "Model: \"sequential_2\"\n",
            "_________________________________________________________________\n",
            " Layer (type)                Output Shape              Param #   \n",
            "=================================================================\n",
            " conv2d_4 (Conv2D)           (None, 26, 26, 32)        320       \n",
            "                                                                 \n",
            " max_pooling2d_4 (MaxPooling  (None, 13, 13, 32)       0         \n",
            " 2D)                                                             \n",
            "                                                                 \n",
            " conv2d_5 (Conv2D)           (None, 11, 11, 64)        18496     \n",
            "                                                                 \n",
            " max_pooling2d_5 (MaxPooling  (None, 5, 5, 64)         0         \n",
            " 2D)                                                             \n",
            "                                                                 \n",
            " flatten_2 (Flatten)         (None, 1600)              0         \n",
            "                                                                 \n",
            " dropout_2 (Dropout)         (None, 1600)              0         \n",
            "                                                                 \n",
            " dense_2 (Dense)             (None, 10)                16010     \n",
            "                                                                 \n",
            "=================================================================\n",
            "Total params: 34,826\n",
            "Trainable params: 34,826\n",
            "Non-trainable params: 0\n",
            "_________________________________________________________________\n",
            "WARNING:tensorflow:Compiled the loaded model, but the compiled metrics have yet to be built. `model.compile_metrics` will be empty until you train or evaluate the model.\n"
          ]
        },
        {
          "output_type": "stream",
          "name": "stderr",
          "text": [
            "WARNING:tensorflow:Compiled the loaded model, but the compiled metrics have yet to be built. `model.compile_metrics` will be empty until you train or evaluate the model.\n"
          ]
        },
        {
          "output_type": "stream",
          "name": "stdout",
          "text": [
            "\n"
          ]
        },
        {
          "output_type": "display_data",
          "data": {
            "text/plain": [
              "<IPython.core.display.HTML object>"
            ],
            "text/html": [
              "Waiting for W&B process to finish... <strong style=\"color:green\">(success).</strong>"
            ]
          },
          "metadata": {}
        },
        {
          "output_type": "display_data",
          "data": {
            "text/plain": [
              "VBox(children=(Label(value='0.305 MB of 0.305 MB uploaded (0.000 MB deduped)\\r'), FloatProgress(value=1.0, max…"
            ],
            "application/vnd.jupyter.widget-view+json": {
              "version_major": 2,
              "version_minor": 0,
              "model_id": "7cce8376a9874061be1177e67abcf16b"
            }
          },
          "metadata": {}
        },
        {
          "output_type": "display_data",
          "data": {
            "text/plain": [
              "<IPython.core.display.HTML object>"
            ],
            "text/html": [
              "Synced <strong style=\"color:#cdcd00\">sandy-wind-9</strong>: <a href=\"https://wandb.ai/sahug/artifact-example/runs/2n5smc6f\" target=\"_blank\">https://wandb.ai/sahug/artifact-example/runs/2n5smc6f</a><br/>Synced 5 W&B file(s), 0 media file(s), 1 artifact file(s) and 1 other file(s)"
            ]
          },
          "metadata": {}
        },
        {
          "output_type": "display_data",
          "data": {
            "text/plain": [
              "<IPython.core.display.HTML object>"
            ],
            "text/html": [
              "Find logs at: <code>./wandb/run-20220326_200411-2n5smc6f/logs</code>"
            ]
          },
          "metadata": {}
        }
      ]
    },
    {
      "cell_type": "markdown",
      "source": [
        "**`artifact.add_file`**\n",
        "\n",
        "Instead of simultaneously writing a `new_file` and adding it to the Artifact, as in the dataset logging examples, we can also write files in one step (here, torch.save) and then add them to the Artifact in another.\n",
        "\n",
        "Rule of 👍: use `new_file` when you can, to prevent duplication."
      ],
      "metadata": {
        "id": "6Jc8ltWJ1WHa"
      }
    },
    {
      "cell_type": "markdown",
      "source": [
        "**Use a Logged Model Artifact**\n",
        "\n",
        "Just like we could call use_artifact on a dataset, we can call it on our initialized_model to use it in another Run.\n",
        "\n",
        "This time, let's train the model."
      ],
      "metadata": {
        "id": "hfe7vU1O1gTb"
      }
    },
    {
      "cell_type": "code",
      "source": [
        "def train(model, training, validation, config):\n",
        "\n",
        "  model.compile(loss=\"categorical_crossentropy\", optimizer=config.optimizer, metrics=[\"accuracy\"])\n",
        "\n",
        "  callback = wandb.keras.WandbCallback(\n",
        "      validation_data=(validation.x[:32], validation.y[:32]),\n",
        "      input_type = \"images\", labels=[str(i) for i in range(10)],\n",
        "      **config[\"callback_config\"]\n",
        "  )\n",
        "\n",
        "  model.fit(training.x, training.y, validation_data=(validation.x, validation.y), batch_size=config.batch_size, epochs=config.epochs, callbacks=[callback])"
      ],
      "metadata": {
        "id": "96e5xqXg1dH8"
      },
      "execution_count": 33,
      "outputs": []
    },
    {
      "cell_type": "markdown",
      "source": [
        "We'll run two separate `Artifact`-producing `Run`s this time.\n",
        "\n",
        "Once the first finishes `train`ing the `model`,\n",
        "the `second` will consume the `trained-model` `Artifact`\n",
        "by `evaluate`ing its performance on the `test_dataset`.\n",
        "\n",
        "Also, we'll pull out the 32 examples on which the network gets the most confused --\n",
        "on which the `categorical_crossentropy` is highest.\n",
        "\n",
        "This is a good way to diagnose issues with your dataset and your model!"
      ],
      "metadata": {
        "id": "-dAIeDrN2wN6"
      }
    },
    {
      "cell_type": "code",
      "source": [
        "def evaluate(model, test_dataset):\n",
        "\n",
        "    loss, accuracy = model.evaluate(test_dataset.x, test_dataset.y, verbose=1)\n",
        "    highest_losses, hardest_examples, true_labels, predictions = get_hardest_k_examples(test_dataset,model)\n",
        "\n",
        "    return loss, accuracy, highest_losses, hardest_examples, true_labels, predictions\n"
      ],
      "metadata": {
        "id": "7UOo2pSA2xB_"
      },
      "execution_count": 34,
      "outputs": []
    },
    {
      "cell_type": "code",
      "source": [
        "from numpy.core.fromnumeric import argsort\n",
        "\n",
        "def get_hardest_k_examples(test_dataset, model, k=32):\n",
        "  class_probs = model(test_dataset.x)\n",
        "  predictions = np.argmax(class_probs, axis=1)\n",
        "  losses = keras.losses.categorical_crossentropy(test_dataset.y, class_probs)\n",
        "  argsort_loss = np.argsort(losses)\n",
        "\n",
        "  highest_k_losses = np.array(losses)[argsort_loss[-k:]]\n",
        "  hardest_k_examples = test_dataset.x[argsort_loss[-k:]] \n",
        "  true_labels = np.argmax(test_dataset.y[argsort_loss[-k:]], axis=1)\n",
        "\n",
        "  return highest_k_losses, hardest_k_examples, true_labels, predictions"
      ],
      "metadata": {
        "id": "uRTBdrh_3Tva"
      },
      "execution_count": 35,
      "outputs": []
    },
    {
      "cell_type": "markdown",
      "source": [
        "These logging functions don't add any new `Artifact` features,\n",
        "so we won't comment on them:\n",
        "we're just `use`ing, `download`ing,\n",
        "and `log`ging `Artifact`s."
      ],
      "metadata": {
        "id": "TkdBjQSS4Y9e"
      }
    },
    {
      "cell_type": "code",
      "source": [
        "def train_and_log(config):\n",
        "\n",
        "    with wandb.init(project=\"artifacts-example\", job_type=\"train\", config=config) as run:\n",
        "        config = wandb.config\n",
        "\n",
        "        data = run.use_artifact('sahug/artifact-example/mnist-processed:v0', type='dataset')\n",
        "        data_dir = data.download()\n",
        "\n",
        "        training_dataset =  read(data_dir, \"training\")\n",
        "        validation_dataset = read(data_dir, \"validation\")\n",
        "        \n",
        "        model_artifact = run.use_artifact('sahug/artifact-example/convnet:v0', type='model')\n",
        "        model_dir = model_artifact.download()\n",
        "        model_path = os.path.join(model_dir, \"initalized_model.keras\")\n",
        "        model_config = model_artifact.metadata\n",
        "        model = keras.models.load_model(model_path)\n",
        "\n",
        "        config.update(model_config)\n",
        " \n",
        "        train(model, training_dataset, validation_dataset, config)\n",
        "\n",
        "        model_artifact = wandb.Artifact(\n",
        "            \"trained-model\", type=\"model\",\n",
        "            description=\"NN model trained with model.fit\",\n",
        "            metadata=dict(model_config))\n",
        "\n",
        "        model.save(\"trained_model.keras\")\n",
        "        model_artifact.add_file(\"trained_model.keras\")\n",
        "        wandb.save(\"trained_model.keras\")\n",
        "\n",
        "        run.log_artifact(model_artifact)\n",
        "\n",
        "    return model"
      ],
      "metadata": {
        "id": "imA-Q-NN4gkn"
      },
      "execution_count": 60,
      "outputs": []
    },
    {
      "cell_type": "code",
      "source": [
        "def evaluate_and_log(config=None):\n",
        "    \n",
        "    with wandb.init(project=\"artifacts-example\", job_type=\"report\", config=config) as run:\n",
        "        data = run.use_artifact('sahug/artifact-example/mnist-processed:v0', type='dataset')\n",
        "        data_dir = data.download()\n",
        "        test_dataset = read(data_dir, \"test\")\n",
        "\n",
        "        model_artifact = run.use_artifact(\"trained-model:latest\")\n",
        "        model_dir = model_artifact.download()\n",
        "        model_path = os.path.join(model_dir, \"trained_model.keras\")\n",
        "        model = keras.models.load_model(model_path)\n",
        "\n",
        "        loss, accuracy, highest_losses, hardest_examples, true_labels, preds = evaluate(model, test_dataset)\n",
        "\n",
        "        run.summary.update({\"loss\": loss, \"accuracy\": accuracy})\n",
        "\n",
        "        wandb.log({\"high-loss-examples\":\n",
        "            [wandb.Image(hard_example, caption=str(int(pred)) + \",\" +  str(int(label)))\n",
        "             for hard_example, pred, label in zip(hardest_examples, preds, true_labels)]})"
      ],
      "metadata": {
        "id": "D_gkJLWn5QDw"
      },
      "execution_count": 55,
      "outputs": []
    },
    {
      "cell_type": "code",
      "source": [
        "callback_config = {\"log_weights\": True, \"save_model\": False, \"log_batch_frequency\": 10}\n",
        "train_config = {\"batch_size\": 128, \"epochs\": 5, \"optimizer\": \"adam\", \"callback_config\": callback_config}\n",
        "\n",
        "model = train_and_log(train_config)\n",
        "evaluate_and_log()"
      ],
      "metadata": {
        "colab": {
          "base_uri": "https://localhost:8080/",
          "height": 954,
          "referenced_widgets": [
            "1a39439c19bf47caaaa258949141cdc1",
            "0c95202a1ff1401ab09bfb8a8d26c15c",
            "cd992e8914cf40659afc80e1af491acb",
            "ac61c94b53b445499bb88ab2a7a366b8",
            "d219e3db1a9e4fba941028089f33d520",
            "995dd01efe9c468cbc0433f3eae1c732",
            "8c0ce284b47a4fe48101d31d1a68c475",
            "df07d8c2c662469eb7de8735a58d3d8a",
            "acf677079acd48cb882ff581f6bea874",
            "1866f49b5ba44634b1fac3ad81976695",
            "5bdcfa3f19d042c4aa8a526617982ed4",
            "71b547cb486145bea021836c033a33e0",
            "0d812574dbd749f7a8064009d917a345",
            "56a95f166c41472c9a3da071ac3eadb5",
            "788662f564534bacbad6c6319641eb06",
            "c2ba65c374b3472684c58a2a9277a259"
          ]
        },
        "id": "MVe4ENiu5jOa",
        "outputId": "fee0f53b-0299-4437-f3e1-cf02b4ecbe9c"
      },
      "execution_count": 61,
      "outputs": [
        {
          "output_type": "display_data",
          "data": {
            "text/plain": [
              "<IPython.core.display.HTML object>"
            ],
            "text/html": [
              "Tracking run with wandb version 0.12.11"
            ]
          },
          "metadata": {}
        },
        {
          "output_type": "display_data",
          "data": {
            "text/plain": [
              "<IPython.core.display.HTML object>"
            ],
            "text/html": [
              "Run data is saved locally in <code>/content/wandb/run-20220326_204131-1eo94979</code>"
            ]
          },
          "metadata": {}
        },
        {
          "output_type": "display_data",
          "data": {
            "text/plain": [
              "<IPython.core.display.HTML object>"
            ],
            "text/html": [
              "Syncing run <strong><a href=\"https://wandb.ai/sahug/artifacts-example/runs/1eo94979\" target=\"_blank\">lilac-sun-9</a></strong> to <a href=\"https://wandb.ai/sahug/artifacts-example\" target=\"_blank\">Weights & Biases</a> (<a href=\"https://wandb.me/run\" target=\"_blank\">docs</a>)<br/>"
            ]
          },
          "metadata": {}
        },
        {
          "output_type": "stream",
          "name": "stderr",
          "text": [
            "\u001b[34m\u001b[1mwandb\u001b[0m: Downloading large artifact mnist-processed:v0, 212.02MB. 3 files... Done. 0:0:0\n"
          ]
        },
        {
          "output_type": "stream",
          "name": "stdout",
          "text": [
            "WARNING:tensorflow:No training configuration found in the save file, so the model was *not* compiled. Compile it manually.\n"
          ]
        },
        {
          "output_type": "stream",
          "name": "stderr",
          "text": [
            "WARNING:tensorflow:No training configuration found in the save file, so the model was *not* compiled. Compile it manually.\n"
          ]
        },
        {
          "output_type": "stream",
          "name": "stdout",
          "text": [
            "Epoch 1/5\n",
            "391/391 [==============================] - 42s 106ms/step - loss: 0.3844 - accuracy: 0.8831 - _timestamp: 1648327318.0244 - _runtime: 27.0244 - val_loss: 0.0966 - val_accuracy: 0.9738\n",
            "Epoch 2/5\n",
            "391/391 [==============================] - 42s 107ms/step - loss: 0.1212 - accuracy: 0.9625 - _timestamp: 1648327360.0000 - _runtime: 69.0000 - val_loss: 0.0694 - val_accuracy: 0.9810\n",
            "Epoch 3/5\n",
            "391/391 [==============================] - 42s 106ms/step - loss: 0.0922 - accuracy: 0.9720 - _timestamp: 1648327402.0244 - _runtime: 111.0244 - val_loss: 0.0567 - val_accuracy: 0.9849\n",
            "Epoch 4/5\n",
            "391/391 [==============================] - 42s 107ms/step - loss: 0.0759 - accuracy: 0.9763 - _timestamp: 1648327444.0000 - _runtime: 153.0000 - val_loss: 0.0489 - val_accuracy: 0.9858\n",
            "Epoch 5/5\n",
            "391/391 [==============================] - 42s 107ms/step - loss: 0.0658 - accuracy: 0.9797 - _timestamp: 1648327486.0000 - _runtime: 195.0000 - val_loss: 0.0477 - val_accuracy: 0.9867\n",
            "\n"
          ]
        },
        {
          "output_type": "display_data",
          "data": {
            "text/plain": [
              "<IPython.core.display.HTML object>"
            ],
            "text/html": [
              "Waiting for W&B process to finish... <strong style=\"color:green\">(success).</strong>"
            ]
          },
          "metadata": {}
        },
        {
          "output_type": "display_data",
          "data": {
            "text/plain": [
              "VBox(children=(Label(value='0.925 MB of 0.925 MB uploaded (0.000 MB deduped)\\r'), FloatProgress(value=1.0, max…"
            ],
            "application/vnd.jupyter.widget-view+json": {
              "version_major": 2,
              "version_minor": 0,
              "model_id": "1a39439c19bf47caaaa258949141cdc1"
            }
          },
          "metadata": {}
        },
        {
          "output_type": "display_data",
          "data": {
            "text/plain": [
              "<IPython.core.display.HTML object>"
            ],
            "text/html": [
              "<style>\n",
              "    table.wandb td:nth-child(1) { padding: 0 10px; text-align: right }\n",
              "    .wandb-row { display: flex; flex-direction: row; flex-wrap: wrap; width: 100% }\n",
              "    .wandb-col { display: flex; flex-direction: column; flex-basis: 100%; flex: 1; padding: 10px; }\n",
              "    </style>\n",
              "<div class=\"wandb-row\"><div class=\"wandb-col\"><h3>Run history:</h3><br/><table class=\"wandb\"><tr><td>accuracy</td><td>▁▄▆▆▇▇▇▇████████████████████████████████</td></tr><tr><td>epoch</td><td>▁▃▅▆█</td></tr><tr><td>loss</td><td>█▅▄▃▃▂▂▂▁▁▁▁▁▁▁▁▁▁▁▁▁▁▁▁▁▁▁▁▁▁▁▁▁▁▁▁▁▁▁▁</td></tr><tr><td>val_accuracy</td><td>▁▅▇██</td></tr><tr><td>val_loss</td><td>█▄▂▁▁</td></tr></table><br/></div><div class=\"wandb-col\"><h3>Run summary:</h3><br/><table class=\"wandb\"><tr><td>accuracy</td><td>0.97974</td></tr><tr><td>best_epoch</td><td>4</td></tr><tr><td>best_val_loss</td><td>0.04773</td></tr><tr><td>epoch</td><td>4</td></tr><tr><td>loss</td><td>0.06578</td></tr><tr><td>val_accuracy</td><td>0.9867</td></tr><tr><td>val_loss</td><td>0.04773</td></tr></table><br/></div></div>"
            ]
          },
          "metadata": {}
        },
        {
          "output_type": "display_data",
          "data": {
            "text/plain": [
              "<IPython.core.display.HTML object>"
            ],
            "text/html": [
              "Synced <strong style=\"color:#cdcd00\">lilac-sun-9</strong>: <a href=\"https://wandb.ai/sahug/artifacts-example/runs/1eo94979\" target=\"_blank\">https://wandb.ai/sahug/artifacts-example/runs/1eo94979</a><br/>Synced 5 W&B file(s), 181 media file(s), 1 artifact file(s) and 1 other file(s)"
            ]
          },
          "metadata": {}
        },
        {
          "output_type": "display_data",
          "data": {
            "text/plain": [
              "<IPython.core.display.HTML object>"
            ],
            "text/html": [
              "Find logs at: <code>./wandb/run-20220326_204131-1eo94979/logs</code>"
            ]
          },
          "metadata": {}
        },
        {
          "output_type": "display_data",
          "data": {
            "text/plain": [
              "<IPython.core.display.HTML object>"
            ],
            "text/html": [
              "Tracking run with wandb version 0.12.11"
            ]
          },
          "metadata": {}
        },
        {
          "output_type": "display_data",
          "data": {
            "text/plain": [
              "<IPython.core.display.HTML object>"
            ],
            "text/html": [
              "Run data is saved locally in <code>/content/wandb/run-20220326_204605-1tn07m75</code>"
            ]
          },
          "metadata": {}
        },
        {
          "output_type": "display_data",
          "data": {
            "text/plain": [
              "<IPython.core.display.HTML object>"
            ],
            "text/html": [
              "Syncing run <strong><a href=\"https://wandb.ai/sahug/artifacts-example/runs/1tn07m75\" target=\"_blank\">different-dream-10</a></strong> to <a href=\"https://wandb.ai/sahug/artifacts-example\" target=\"_blank\">Weights & Biases</a> (<a href=\"https://wandb.me/run\" target=\"_blank\">docs</a>)<br/>"
            ]
          },
          "metadata": {}
        },
        {
          "output_type": "stream",
          "name": "stderr",
          "text": [
            "\u001b[34m\u001b[1mwandb\u001b[0m: Downloading large artifact mnist-processed:v0, 212.02MB. 3 files... Done. 0:0:0\n"
          ]
        },
        {
          "output_type": "stream",
          "name": "stdout",
          "text": [
            "313/313 [==============================] - 3s 10ms/step - loss: 0.0396 - accuracy: 0.9873\n",
            "\n"
          ]
        },
        {
          "output_type": "display_data",
          "data": {
            "text/plain": [
              "<IPython.core.display.HTML object>"
            ],
            "text/html": [
              "Waiting for W&B process to finish... <strong style=\"color:green\">(success).</strong>"
            ]
          },
          "metadata": {}
        },
        {
          "output_type": "display_data",
          "data": {
            "text/plain": [
              "VBox(children=(Label(value='0.008 MB of 0.009 MB uploaded (0.000 MB deduped)\\r'), FloatProgress(value=0.917024…"
            ],
            "application/vnd.jupyter.widget-view+json": {
              "version_major": 2,
              "version_minor": 0,
              "model_id": "acf677079acd48cb882ff581f6bea874"
            }
          },
          "metadata": {}
        },
        {
          "output_type": "display_data",
          "data": {
            "text/plain": [
              "<IPython.core.display.HTML object>"
            ],
            "text/html": [
              "<style>\n",
              "    table.wandb td:nth-child(1) { padding: 0 10px; text-align: right }\n",
              "    .wandb-row { display: flex; flex-direction: row; flex-wrap: wrap; width: 100% }\n",
              "    .wandb-col { display: flex; flex-direction: column; flex-basis: 100%; flex: 1; padding: 10px; }\n",
              "    </style>\n",
              "<div class=\"wandb-row\"><div class=\"wandb-col\"><h3>Run summary:</h3><br/><table class=\"wandb\"><tr><td>accuracy</td><td>0.9873</td></tr><tr><td>loss</td><td>0.0396</td></tr></table><br/></div></div>"
            ]
          },
          "metadata": {}
        },
        {
          "output_type": "display_data",
          "data": {
            "text/plain": [
              "<IPython.core.display.HTML object>"
            ],
            "text/html": [
              "Synced <strong style=\"color:#cdcd00\">different-dream-10</strong>: <a href=\"https://wandb.ai/sahug/artifacts-example/runs/1tn07m75\" target=\"_blank\">https://wandb.ai/sahug/artifacts-example/runs/1tn07m75</a><br/>Synced 5 W&B file(s), 32 media file(s), 0 artifact file(s) and 0 other file(s)"
            ]
          },
          "metadata": {}
        },
        {
          "output_type": "display_data",
          "data": {
            "text/plain": [
              "<IPython.core.display.HTML object>"
            ],
            "text/html": [
              "Find logs at: <code>./wandb/run-20220326_204605-1tn07m75/logs</code>"
            ]
          },
          "metadata": {}
        }
      ]
    },
    {
      "cell_type": "markdown",
      "source": [
        "**The Graph View**\n",
        "\n",
        "Notice that we changed the `type` of the `Artifact`:\n",
        "these `Run`s used a `model`, rather than `dataset`.\n",
        "`Run`s that produce `model`s will be separated\n",
        "from those that produce `dataset`s in the graph view on the Artifacts page.\n",
        "\n",
        "Go check it out! As before, you'll want to head to the Run page,\n",
        "select the \"Artifacts\" tab from the left sidebar,\n",
        "pick an `Artifact`,\n",
        "and then click the \"Graph View\" tab."
      ],
      "metadata": {
        "id": "-Qax4KA46nd-"
      }
    },
    {
      "cell_type": "markdown",
      "source": [
        "**Exploded Graphs**\n",
        "\n",
        "You may have noticed a button labeled \"Explode\". Don't click that, as it will set off a small bomb underneath your humble author's desk in the W&B HQ!\n",
        "\n",
        "Just kidding. It \"explodes\" the graph in a much gentler way: Artifacts and Runs become separated at the level of a single instance, rather than a `type`: the nodes are not `dataset` and `load-data`, but `dataset:mnist-raw:v1` and `load-data:sunny-smoke-1`, and so on.\n",
        "\n",
        "This provides total insight into your pipeline, with logged metrics, metadata, and more all at your fingertips -- you're only limited by what you choose to log with us."
      ],
      "metadata": {
        "id": "r7-aXYty6sGI"
      }
    }
  ]
}